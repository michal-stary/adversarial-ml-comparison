{
 "cells": [
  {
   "cell_type": "code",
   "execution_count": 28,
   "id": "9e3aea9c",
   "metadata": {},
   "outputs": [
    {
     "name": "stdout",
     "output_type": "stream",
     "text": [
      "The autoreload extension is already loaded. To reload it, use:\n",
      "  %reload_ext autoreload\n"
     ]
    }
   ],
   "source": [
    "import torch\n",
    "\n",
    "%load_ext autoreload\n",
    "%autoreload 2\n"
   ]
  },
  {
   "cell_type": "code",
   "execution_count": 29,
   "id": "6f6dd7d8",
   "metadata": {},
   "outputs": [
    {
     "data": {
      "text/plain": [
       "True"
      ]
     },
     "execution_count": 29,
     "metadata": {},
     "output_type": "execute_result"
    }
   ],
   "source": [
    "torch.cuda.is_available()"
   ]
  },
  {
   "cell_type": "code",
   "execution_count": 30,
   "id": "c03ad591",
   "metadata": {},
   "outputs": [],
   "source": [
    "from logging_ import Logger"
   ]
  },
  {
   "cell_type": "code",
   "execution_count": 31,
   "id": "7019ceb7-938b-49a8-be74-2b167f24969e",
   "metadata": {},
   "outputs": [],
   "source": [
    "l = Logger()"
   ]
  },
  {
   "cell_type": "code",
   "execution_count": 32,
   "id": "7278783a-87c9-42e8-b858-59e4a7591ddd",
   "metadata": {},
   "outputs": [],
   "source": [
    "l.load_all()"
   ]
  },
  {
   "cell_type": "code",
   "execution_count": 33,
   "id": "8adb4aab-e4bc-4ed7-8158-eca59ab9dc47",
   "metadata": {},
   "outputs": [],
   "source": [
    "keys = list(l.dict.keys())"
   ]
  },
  {
   "cell_type": "code",
   "execution_count": 34,
   "id": "335fc0e4-cd5e-47db-a18a-63e3853263fb",
   "metadata": {},
   "outputs": [],
   "source": [
    "labs = []\n",
    "for key in keys[1:]:\n",
    "    labs.append(l.dict[key][\"labels_progress\"])"
   ]
  },
  {
   "cell_type": "code",
   "execution_count": 35,
   "id": "af7e53bf-0a4a-4d9e-b9ea-9126f9e85082",
   "metadata": {},
   "outputs": [
    {
     "data": {
      "text/plain": [
       "array([[7, 5, 7, 8, 8, 8, 6, 1, 8, 8, 9, 8, 7, 0, 3, 1, 2, 4, 9, 7, 1, 1,\n",
       "        8, 1, 5, 9, 0, 2, 1, 7, 8, 8, 9, 7, 3, 9, 9, 9, 4, 0, 8, 6, 4, 0,\n",
       "        6, 6, 8, 9, 6, 1, 6, 3, 0, 0, 2, 8, 5, 7, 8, 8, 9, 5, 4, 1, 4, 8,\n",
       "        5, 5, 2, 6, 0, 5, 3, 6, 5, 3, 6, 3, 6, 5, 2, 7, 9, 6, 8, 1, 5, 0,\n",
       "        5, 6, 4, 2, 4, 8, 1, 4, 4, 5, 5, 9, 8, 0, 0, 0, 7, 6, 5, 6, 1, 9,\n",
       "        7, 9, 1, 2, 7, 4, 8, 0, 6, 1, 4, 3, 6, 2, 1, 6, 4, 9, 0, 4, 6, 2,\n",
       "        3, 2, 1, 4, 9, 4, 4, 1, 9, 6, 7, 6, 4, 3, 4, 6, 3, 5, 7, 9, 4, 1,\n",
       "        2, 2, 9, 7, 1, 8, 8, 0, 8, 7, 0, 4, 3, 7, 2, 7, 0, 3, 9, 6, 2, 3,\n",
       "        5, 9, 0, 6, 3, 2, 5, 3, 7, 3, 5, 2, 5, 3, 4, 4, 9, 4, 1, 3, 3, 3,\n",
       "        0, 9]])"
      ]
     },
     "execution_count": 35,
     "metadata": {},
     "output_type": "execute_result"
    }
   ],
   "source": [
    "labs[0]"
   ]
  },
  {
   "cell_type": "code",
   "execution_count": 36,
   "id": "51e4de70-ad60-4d77-9313-bc3d34af3b13",
   "metadata": {},
   "outputs": [
    {
     "data": {
      "text/plain": [
       "array([[7, 5, 7, 8, 8, 8, 6, 1, 8, 8, 9, 8, 7, 0, 3, 1, 2, 4, 9, 7, 1, 1,\n",
       "        8, 1, 5, 9, 0, 2, 1, 7, 8, 8, 9, 7, 3, 9, 9, 9, 4, 0, 8, 6, 4, 0,\n",
       "        6, 6, 8, 9, 6, 1, 6, 3, 0, 0, 2, 8, 5, 7, 8, 8, 9, 5, 4, 1, 4, 8,\n",
       "        5, 5, 2, 6, 0, 5, 3, 6, 5, 3, 6, 3, 6, 5, 2, 7, 9, 6, 8, 1, 5, 0,\n",
       "        5, 6, 4, 2, 4, 8, 1, 4, 4, 5, 5, 9, 8, 0, 0, 0, 7, 6, 5, 6, 1, 9,\n",
       "        7, 9, 1, 2, 7, 4, 8, 0, 6, 1, 4, 3, 6, 2, 1, 6, 4, 9, 0, 4, 6, 2,\n",
       "        3, 2, 1, 4, 9, 4, 4, 1, 9, 6, 7, 6, 4, 3, 4, 6, 3, 5, 7, 9, 4, 1,\n",
       "        2, 2, 9, 7, 1, 8, 8, 0, 8, 7, 0, 4, 3, 7, 2, 7, 0, 3, 9, 6, 2, 3,\n",
       "        5, 9, 0, 6, 3, 2, 5, 3, 7, 3, 5, 2, 5, 3, 4, 4, 9, 4, 1, 3, 3, 3,\n",
       "        0, 9]])"
      ]
     },
     "execution_count": 36,
     "metadata": {},
     "output_type": "execute_result"
    }
   ],
   "source": [
    "labs[1]"
   ]
  },
  {
   "cell_type": "code",
   "execution_count": 38,
   "id": "629a1284-e51a-4cb4-a057-b8401e0aa82c",
   "metadata": {},
   "outputs": [
    {
     "data": {
      "text/plain": [
       "array([[ True,  True,  True,  True,  True,  True,  True,  True,  True,\n",
       "         True,  True,  True,  True,  True,  True,  True,  True,  True,\n",
       "         True,  True,  True,  True,  True,  True,  True,  True,  True,\n",
       "         True,  True,  True,  True,  True,  True,  True,  True,  True,\n",
       "         True,  True,  True,  True,  True,  True,  True,  True,  True,\n",
       "         True,  True,  True,  True,  True,  True,  True,  True,  True,\n",
       "         True,  True,  True,  True,  True,  True,  True,  True,  True,\n",
       "         True,  True,  True,  True,  True,  True,  True,  True,  True,\n",
       "         True,  True,  True,  True,  True,  True,  True,  True,  True,\n",
       "         True,  True,  True,  True,  True,  True,  True,  True,  True,\n",
       "         True,  True,  True,  True,  True,  True,  True,  True,  True,\n",
       "         True,  True,  True,  True,  True,  True,  True,  True,  True,\n",
       "         True,  True,  True,  True,  True,  True,  True,  True,  True,\n",
       "         True,  True,  True,  True,  True,  True,  True,  True,  True,\n",
       "         True,  True,  True,  True,  True,  True,  True,  True,  True,\n",
       "         True,  True,  True,  True,  True,  True,  True,  True,  True,\n",
       "         True,  True,  True,  True,  True,  True,  True,  True,  True,\n",
       "         True,  True,  True,  True,  True,  True,  True,  True,  True,\n",
       "         True,  True,  True,  True,  True,  True,  True,  True,  True,\n",
       "         True,  True,  True,  True,  True,  True,  True,  True,  True,\n",
       "         True,  True,  True,  True,  True,  True,  True,  True,  True,\n",
       "         True,  True,  True,  True,  True,  True,  True,  True,  True,\n",
       "         True,  True]])"
      ]
     },
     "execution_count": 38,
     "metadata": {},
     "output_type": "execute_result"
    }
   ],
   "source": [
    "labs[0] == labs[1]"
   ]
  },
  {
   "cell_type": "code",
   "execution_count": null,
   "id": "969e3c7c-a58b-4944-8c51-8bd6c00844e4",
   "metadata": {},
   "outputs": [],
   "source": []
  }
 ],
 "metadata": {
  "kernelspec": {
   "display_name": "Python 3",
   "language": "python",
   "name": "python3"
  },
  "language_info": {
   "codemirror_mode": {
    "name": "ipython",
    "version": 3
   },
   "file_extension": ".py",
   "mimetype": "text/x-python",
   "name": "python",
   "nbconvert_exporter": "python",
   "pygments_lexer": "ipython3",
   "version": "3.8.5"
  }
 },
 "nbformat": 4,
 "nbformat_minor": 5
}

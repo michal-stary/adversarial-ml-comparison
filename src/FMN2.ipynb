{
 "cells": [
  {
   "cell_type": "code",
   "execution_count": 1,
   "metadata": {
    "pycharm": {
     "name": "#%%\n"
    }
   },
   "outputs": [],
   "source": [
    "from sweeping import Sweeper\n",
    "import matplotlib.pyplot as plt\n",
    "\n",
    "%load_ext autoreload\n",
    "%autoreload 2"
   ]
  },
  {
   "cell_type": "code",
   "execution_count": 2,
   "metadata": {
    "pycharm": {
     "name": "#%%\n"
    }
   },
   "outputs": [],
   "source": [
    "sweeper = Sweeper.from_jsonfile(\"config-fmn2.json\", log_dir=\"logs_fmn2\")"
   ]
  },
  {
   "cell_type": "code",
   "execution_count": 3,
   "metadata": {
    "pycharm": {
     "name": "#%%\n"
    }
   },
   "outputs": [
    {
     "data": {
      "text/plain": "    dataset  norm attack                                      model  \\\n0   CIFAR10    L1   fmn2        Augustin2020Adversarial_34_10_extra   \n1   CIFAR10    L1   fmn2        Augustin2020Adversarial_34_10_extra   \n2   CIFAR10    L1   fmn2        Augustin2020Adversarial_34_10_extra   \n3   CIFAR10    L1   fmn2                  Engstrom2019Robustness_l2   \n4   CIFAR10    L1   fmn2                  Engstrom2019Robustness_l2   \n..      ...   ...    ...                                        ...   \n62  CIFAR10  Linf   fmn2                   Rade2021Helper_R18_extra   \n63  CIFAR10  Linf   fmn2  Rebuffi2021Fixing_70_16_cutmix_extra_linf   \n64  CIFAR10  Linf   fmn2  Rebuffi2021Fixing_70_16_cutmix_extra_linf   \n65  CIFAR10  Linf   fmn2  Rebuffi2021Fixing_70_16_cutmix_extra_linf   \n66  CIFAR10  Linf   fmn2  Rebuffi2021Fixing_70_16_cutmix_extra_linf   \n\n    binary_search_steps loss_f  steps  α_final  α_init  γ_final  γ_init  \n0                    10     DL    100   0.0001       1    0.001    0.05  \n1                    10     DL    100   0.0001       5    0.001    0.05  \n2                    10     DL    100   0.0001      10    0.001    0.05  \n3                    10     DL    100   0.0001       1    0.001    0.05  \n4                    10     DL    100   0.0001       5    0.001    0.05  \n..                  ...    ...    ...      ...     ...      ...     ...  \n62                   10     DL    100   0.0001    1000    0.001    0.05  \n63                   10     DL    100   0.0001       1    0.001    0.05  \n64                   10     DL    100   0.0001      10    0.001    0.05  \n65                   10     DL    100   0.0001     100    0.001    0.05  \n66                   10     DL    100   0.0001    1000    0.001    0.05  \n\n[67 rows x 11 columns]",
      "text/html": "<div>\n<style scoped>\n    .dataframe tbody tr th:only-of-type {\n        vertical-align: middle;\n    }\n\n    .dataframe tbody tr th {\n        vertical-align: top;\n    }\n\n    .dataframe thead th {\n        text-align: right;\n    }\n</style>\n<table border=\"1\" class=\"dataframe\">\n  <thead>\n    <tr style=\"text-align: right;\">\n      <th></th>\n      <th>dataset</th>\n      <th>norm</th>\n      <th>attack</th>\n      <th>model</th>\n      <th>binary_search_steps</th>\n      <th>loss_f</th>\n      <th>steps</th>\n      <th>α_final</th>\n      <th>α_init</th>\n      <th>γ_final</th>\n      <th>γ_init</th>\n    </tr>\n  </thead>\n  <tbody>\n    <tr>\n      <th>0</th>\n      <td>CIFAR10</td>\n      <td>L1</td>\n      <td>fmn2</td>\n      <td>Augustin2020Adversarial_34_10_extra</td>\n      <td>10</td>\n      <td>DL</td>\n      <td>100</td>\n      <td>0.0001</td>\n      <td>1</td>\n      <td>0.001</td>\n      <td>0.05</td>\n    </tr>\n    <tr>\n      <th>1</th>\n      <td>CIFAR10</td>\n      <td>L1</td>\n      <td>fmn2</td>\n      <td>Augustin2020Adversarial_34_10_extra</td>\n      <td>10</td>\n      <td>DL</td>\n      <td>100</td>\n      <td>0.0001</td>\n      <td>5</td>\n      <td>0.001</td>\n      <td>0.05</td>\n    </tr>\n    <tr>\n      <th>2</th>\n      <td>CIFAR10</td>\n      <td>L1</td>\n      <td>fmn2</td>\n      <td>Augustin2020Adversarial_34_10_extra</td>\n      <td>10</td>\n      <td>DL</td>\n      <td>100</td>\n      <td>0.0001</td>\n      <td>10</td>\n      <td>0.001</td>\n      <td>0.05</td>\n    </tr>\n    <tr>\n      <th>3</th>\n      <td>CIFAR10</td>\n      <td>L1</td>\n      <td>fmn2</td>\n      <td>Engstrom2019Robustness_l2</td>\n      <td>10</td>\n      <td>DL</td>\n      <td>100</td>\n      <td>0.0001</td>\n      <td>1</td>\n      <td>0.001</td>\n      <td>0.05</td>\n    </tr>\n    <tr>\n      <th>4</th>\n      <td>CIFAR10</td>\n      <td>L1</td>\n      <td>fmn2</td>\n      <td>Engstrom2019Robustness_l2</td>\n      <td>10</td>\n      <td>DL</td>\n      <td>100</td>\n      <td>0.0001</td>\n      <td>5</td>\n      <td>0.001</td>\n      <td>0.05</td>\n    </tr>\n    <tr>\n      <th>...</th>\n      <td>...</td>\n      <td>...</td>\n      <td>...</td>\n      <td>...</td>\n      <td>...</td>\n      <td>...</td>\n      <td>...</td>\n      <td>...</td>\n      <td>...</td>\n      <td>...</td>\n      <td>...</td>\n    </tr>\n    <tr>\n      <th>62</th>\n      <td>CIFAR10</td>\n      <td>Linf</td>\n      <td>fmn2</td>\n      <td>Rade2021Helper_R18_extra</td>\n      <td>10</td>\n      <td>DL</td>\n      <td>100</td>\n      <td>0.0001</td>\n      <td>1000</td>\n      <td>0.001</td>\n      <td>0.05</td>\n    </tr>\n    <tr>\n      <th>63</th>\n      <td>CIFAR10</td>\n      <td>Linf</td>\n      <td>fmn2</td>\n      <td>Rebuffi2021Fixing_70_16_cutmix_extra_linf</td>\n      <td>10</td>\n      <td>DL</td>\n      <td>100</td>\n      <td>0.0001</td>\n      <td>1</td>\n      <td>0.001</td>\n      <td>0.05</td>\n    </tr>\n    <tr>\n      <th>64</th>\n      <td>CIFAR10</td>\n      <td>Linf</td>\n      <td>fmn2</td>\n      <td>Rebuffi2021Fixing_70_16_cutmix_extra_linf</td>\n      <td>10</td>\n      <td>DL</td>\n      <td>100</td>\n      <td>0.0001</td>\n      <td>10</td>\n      <td>0.001</td>\n      <td>0.05</td>\n    </tr>\n    <tr>\n      <th>65</th>\n      <td>CIFAR10</td>\n      <td>Linf</td>\n      <td>fmn2</td>\n      <td>Rebuffi2021Fixing_70_16_cutmix_extra_linf</td>\n      <td>10</td>\n      <td>DL</td>\n      <td>100</td>\n      <td>0.0001</td>\n      <td>100</td>\n      <td>0.001</td>\n      <td>0.05</td>\n    </tr>\n    <tr>\n      <th>66</th>\n      <td>CIFAR10</td>\n      <td>Linf</td>\n      <td>fmn2</td>\n      <td>Rebuffi2021Fixing_70_16_cutmix_extra_linf</td>\n      <td>10</td>\n      <td>DL</td>\n      <td>100</td>\n      <td>0.0001</td>\n      <td>1000</td>\n      <td>0.001</td>\n      <td>0.05</td>\n    </tr>\n  </tbody>\n</table>\n<p>67 rows × 11 columns</p>\n</div>"
     },
     "execution_count": 3,
     "metadata": {},
     "output_type": "execute_result"
    }
   ],
   "source": [
    "sweeper.config_df"
   ]
  },
  {
   "cell_type": "code",
   "execution_count": 4,
   "metadata": {
    "pycharm": {
     "name": "#%%\n"
    }
   },
   "outputs": [],
   "source": [
    "sweeper.logger.load_all()"
   ]
  },
  {
   "cell_type": "code",
   "execution_count": 45,
   "metadata": {
    "pycharm": {
     "name": "#%%\n"
    }
   },
   "outputs": [
    {
     "name": "stdout",
     "output_type": "stream",
     "text": [
      "dataset-CIFAR10-norm-L1-attack-fmn2-model-Augustin2020Adversarial_34_10_extra-binary_search_steps-10-loss_f-DL-steps-100-α_final-0.0001-α_init-1-γ_final-0.001-γ_init-0.05\n",
      "dataset                                            CIFAR10\n",
      "norm                                                    L1\n",
      "attack                                                fmn2\n",
      "model                  Augustin2020Adversarial_34_10_extra\n",
      "binary_search_steps                                     10\n",
      "loss_f                                                  DL\n",
      "steps                                                  100\n",
      "α_final                                             0.0001\n",
      "α_init                                                   1\n",
      "γ_final                                              0.001\n",
      "γ_init                                                0.05\n",
      "Name: 0, dtype: object\n",
      "Files already downloaded and verified\n"
     ]
    },
    {
     "name": "stderr",
     "output_type": "stream",
     "text": [
      "  0%|          | 0/3 [00:00<?, ?it/s]"
     ]
    },
    {
     "name": "stdout",
     "output_type": "stream",
     "text": [
      "tensor([7, 5, 7, 8, 8])\n",
      "tensor([[4, 5, 2, 3, 0, 1, 8, 6, 9, 7],\n",
      "        [3, 7, 2, 6, 4, 0, 8, 1, 9, 5],\n",
      "        [4, 6, 8, 2, 3, 0, 1, 5, 9, 7],\n",
      "        [4, 7, 9, 6, 3, 1, 0, 5, 2, 8],\n",
      "        [2, 3, 6, 0, 9, 7, 4, 5, 1, 8]])\n",
      "tensor([16.0363,  3.5953,  4.8080,  0.6871,  0.4907]) init\n",
      "tensor([ True, False, False, False, False])\n",
      "tensor([ True,  True, False, False, False])\n",
      "tensor([ True,  True, False, False, False])\n",
      "tensor([ True, False, False, False, False])\n",
      "tensor([ True, False, False, False, False])\n",
      "tensor([ True, False, False, False, False])\n",
      "tensor([ True, False, False, False, False])\n",
      "tensor([ True, False, False, False, False])\n",
      "tensor([ True, False, False, False, False])\n",
      "tensor([ True, False, False, False, False])\n",
      "tensor([   0.0000,  460.2010, 4923.4209,  703.6273,  502.4503])\n",
      "tensor([16.0363,  3.5953,  4.8080,  0.6871,  0.4907]) init\n",
      "tensor([False, False, False, False, False])\n",
      "tensor([False, False, False, False, False])\n"
     ]
    },
    {
     "name": "stderr",
     "output_type": "stream",
     "text": [
      "  0%|          | 0/3 [00:08<?, ?it/s]\n",
      "\n",
      "KeyboardInterrupt\n",
      "\n"
     ]
    }
   ],
   "source": [
    "sweeper.save_df()\n",
    "sweeper.sweep(n_samples=15, device=None, recompute=False, batch_size=5)\n",
    "sweeper.save_df()"
   ]
  },
  {
   "cell_type": "code",
   "execution_count": null,
   "metadata": {
    "pycharm": {
     "name": "#%%\n"
    }
   },
   "outputs": [],
   "source": [
    "# sweeper.logger.where(model=\"Maini2020MultipleAVG\")"
   ]
  },
  {
   "cell_type": "code",
   "execution_count": null,
   "metadata": {
    "pycharm": {
     "name": "#%%\n"
    }
   },
   "outputs": [],
   "source": [
    "settings = {\"attack\":\"\", \"model\":\"Eng\", \"-norm\":\"Linf\", \"norm\":\"Linf\"}"
   ]
  },
  {
   "cell_type": "code",
   "execution_count": null,
   "metadata": {
    "pycharm": {
     "name": "#%%\n"
    }
   },
   "outputs": [],
   "source": [
    "import matplotlib.pyplot as plt\n",
    "\n",
    "# todo - put this into functions in some plot_utils file\n",
    "# tofo - support filtering/splitting into multiple plots (e.g. plot only one model)\n",
    "\n",
    "plt.figure(figsize=(15,10))\n",
    "keys = []\n",
    "for key in sweeper.logger.where(**settings):\n",
    "    sweeper.logger.plot_QD(key)\n",
    "    keys.append(key)\n",
    "plt.legend(keys)#, bbox_to_anchor =(0.65, 1.25))\n",
    "plt.ylabel(settings[\"norm\"])\n",
    "plt.xlabel(\"Query\")\n",
    "plt.xscale('log')\n",
    "None"
   ]
  },
  {
   "cell_type": "code",
   "execution_count": null,
   "metadata": {
    "pycharm": {
     "name": "#%%\n"
    }
   },
   "outputs": [],
   "source": [
    "plt.figure(figsize=(15,10))\n",
    "keys = []\n",
    "for key in sweeper.logger.where(**settings):\n",
    "    sweeper.logger.plot_progress(kind=\"loss\", run_id=key)\n",
    "    keys.append(key)\n",
    "plt.legend(keys)#, bbox_to_anchor =(0.65, 1.25))\n",
    "plt.ylabel(\"DL Loss\")\n",
    "plt.xlabel(\"Query\")\n",
    "None"
   ]
  },
  {
   "cell_type": "code",
   "execution_count": null,
   "metadata": {
    "pycharm": {
     "name": "#%%\n"
    }
   },
   "outputs": [],
   "source": [
    "plt.figure(figsize=(15,10))\n",
    "for key in sweeper.logger.where(**settings):\n",
    "    sweeper.logger.plot_progress(kind=\"acc\", run_id=key)\n",
    "plt.legend([*sweeper.logger.dict.keys()])#, bbox_to_anchor =(0.65, 1.25))\n",
    "plt.ylabel(\"Accuracy\")\n",
    "plt.xlabel(\"Query\")\n",
    "None"
   ]
  },
  {
   "cell_type": "code",
   "execution_count": null,
   "metadata": {
    "pycharm": {
     "name": "#%%\n"
    }
   },
   "outputs": [],
   "source": []
  },
  {
   "cell_type": "code",
   "execution_count": null,
   "metadata": {
    "pycharm": {
     "name": "#%%\n"
    }
   },
   "outputs": [],
   "source": []
  }
 ],
 "metadata": {
  "kernelspec": {
   "display_name": "Python 3 (ipykernel)",
   "language": "python",
   "name": "python3"
  },
  "language_info": {
   "codemirror_mode": {
    "name": "ipython",
    "version": 3
   },
   "file_extension": ".py",
   "mimetype": "text/x-python",
   "name": "python",
   "nbconvert_exporter": "python",
   "pygments_lexer": "ipython3",
   "version": "3.8.12"
  }
 },
 "nbformat": 4,
 "nbformat_minor": 4
}
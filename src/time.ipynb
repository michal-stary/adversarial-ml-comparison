{
 "cells": [
  {
   "cell_type": "code",
   "execution_count": 1,
   "id": "8ba5be1a",
   "metadata": {},
   "outputs": [],
   "source": [
    "from logging_ import Logger\n",
    "import matplotlib.pyplot as plt\n",
    "from matplotlib.markers import MarkerStyle\n",
    "import pandas as pd\n",
    "from settings import OPTIMAL_HYPERS_BEST, OPTIMAL_HYPERS_NORM\n",
    "from scores import  SCORES\n",
    "\n",
    "\n",
    "\n",
    "%load_ext autoreload\n",
    "%autoreload 2"
   ]
  },
  {
   "cell_type": "code",
   "execution_count": 2,
   "id": "45565859",
   "metadata": {},
   "outputs": [],
   "source": [
    "logger = Logger(logs_dir=\"logs_aa\")"
   ]
  },
  {
   "cell_type": "code",
   "execution_count": 3,
   "id": "1978c542",
   "metadata": {},
   "outputs": [],
   "source": [
    "logger.load_all()\n"
   ]
  },
  {
   "cell_type": "code",
   "execution_count": 12,
   "id": "3ef85c5c",
   "metadata": {},
   "outputs": [],
   "source": [
    "arr = []\n",
    "for key in logger.dict:\n",
    "    time = logger.dict[key][\"end_time\"] - logger.dict[key][\"start_time\"]\n",
    "    arr.append((logger.value_from_id(\"model\", key), logger.value_from_id(\"attack\", key), time))"
   ]
  },
  {
   "cell_type": "code",
   "execution_count": 17,
   "id": "da90fe98",
   "metadata": {},
   "outputs": [],
   "source": [
    "res = pd.DataFrame(arr, columns=[\"model\", \"attack\", \"time\"])"
   ]
  },
  {
   "cell_type": "code",
   "execution_count": 35,
   "id": "33a4418b",
   "metadata": {},
   "outputs": [
    {
     "data": {
      "text/html": [
       "<div>\n",
       "<style scoped>\n",
       "    .dataframe tbody tr th:only-of-type {\n",
       "        vertical-align: middle;\n",
       "    }\n",
       "\n",
       "    .dataframe tbody tr th {\n",
       "        vertical-align: top;\n",
       "    }\n",
       "\n",
       "    .dataframe thead th {\n",
       "        text-align: right;\n",
       "    }\n",
       "</style>\n",
       "<table border=\"1\" class=\"dataframe\">\n",
       "  <thead>\n",
       "    <tr style=\"text-align: right;\">\n",
       "      <th></th>\n",
       "      <th>model</th>\n",
       "      <th>attack</th>\n",
       "      <th>time</th>\n",
       "    </tr>\n",
       "  </thead>\n",
       "  <tbody>\n",
       "    <tr>\n",
       "      <th>53</th>\n",
       "      <td>Maini2020MultipleAVG</td>\n",
       "      <td>fmn</td>\n",
       "      <td>21.973073</td>\n",
       "    </tr>\n",
       "    <tr>\n",
       "      <th>58</th>\n",
       "      <td>Maini2020MultipleAVG</td>\n",
       "      <td>fmn</td>\n",
       "      <td>3.071934</td>\n",
       "    </tr>\n",
       "    <tr>\n",
       "      <th>64</th>\n",
       "      <td>Maini2020MultipleAVG</td>\n",
       "      <td>aa</td>\n",
       "      <td>97.377686</td>\n",
       "    </tr>\n",
       "    <tr>\n",
       "      <th>70</th>\n",
       "      <td>Maini2020MultipleAVG</td>\n",
       "      <td>aa</td>\n",
       "      <td>106.173265</td>\n",
       "    </tr>\n",
       "    <tr>\n",
       "      <th>82</th>\n",
       "      <td>Maini2020MultipleAVG</td>\n",
       "      <td>fmn</td>\n",
       "      <td>22.039485</td>\n",
       "    </tr>\n",
       "    <tr>\n",
       "      <th>92</th>\n",
       "      <td>Maini2020MultipleAVG</td>\n",
       "      <td>aa</td>\n",
       "      <td>97.473732</td>\n",
       "    </tr>\n",
       "    <tr>\n",
       "      <th>98</th>\n",
       "      <td>Maini2020MultipleAVG</td>\n",
       "      <td>fmn</td>\n",
       "      <td>3.116728</td>\n",
       "    </tr>\n",
       "    <tr>\n",
       "      <th>105</th>\n",
       "      <td>Maini2020MultipleAVG</td>\n",
       "      <td>aa</td>\n",
       "      <td>107.499582</td>\n",
       "    </tr>\n",
       "  </tbody>\n",
       "</table>\n",
       "</div>"
      ],
      "text/plain": [
       "                    model attack        time\n",
       "53   Maini2020MultipleAVG    fmn   21.973073\n",
       "58   Maini2020MultipleAVG    fmn    3.071934\n",
       "64   Maini2020MultipleAVG     aa   97.377686\n",
       "70   Maini2020MultipleAVG     aa  106.173265\n",
       "82   Maini2020MultipleAVG    fmn   22.039485\n",
       "92   Maini2020MultipleAVG     aa   97.473732\n",
       "98   Maini2020MultipleAVG    fmn    3.116728\n",
       "105  Maini2020MultipleAVG     aa  107.499582"
      ]
     },
     "execution_count": 35,
     "metadata": {},
     "output_type": "execute_result"
    }
   ],
   "source": [
    "res[res.model == \"Maini2020MultipleAVG\"]"
   ]
  },
  {
   "cell_type": "code",
   "execution_count": 34,
   "id": "6b07e3ac",
   "metadata": {},
   "outputs": [
    {
     "data": {
      "text/plain": [
       "array(['Rade2021Helper_R18_extra', 'Gowal2021Improving_70_16_ddpm_100m',\n",
       "       'Rade2021Helper_R18_ddpm', 'Engstrom2019Robustness_l2',\n",
       "       'Gowal2021Improving_R18_ddpm_100m',\n",
       "       'Rebuffi2021Fixing_70_16_cutmix_extra_l2',\n",
       "       'Augustin2020Adversarial_34_10_extra',\n",
       "       'Rebuffi2021Fixing_70_16_cutmix_extra_linf', 'Xiao2020Enhancing',\n",
       "       'Rice2020Overfitting', 'Engstrom2019Robustness_linf',\n",
       "       'Rebuffi2021Fixing_70_16_cutmix_ddpm', 'Maini2020MultipleMSD',\n",
       "       'Rebuffi2021Fixing_R18_cutmix_ddpm', 'Gowal2020Uncovering_extra',\n",
       "       'Maini2020MultipleAVG', 'Gowal2020Uncovering_70_16_extra',\n",
       "       'Kang2021Stable'], dtype=object)"
      ]
     },
     "execution_count": 34,
     "metadata": {},
     "output_type": "execute_result"
    }
   ],
   "source": [
    "pd.unique(res.model)"
   ]
  },
  {
   "cell_type": "code",
   "execution_count": null,
   "id": "1e529325",
   "metadata": {},
   "outputs": [],
   "source": []
  }
 ],
 "metadata": {
  "kernelspec": {
   "display_name": "Python 3 (ipykernel)",
   "language": "python",
   "name": "python3"
  },
  "language_info": {
   "codemirror_mode": {
    "name": "ipython",
    "version": 3
   },
   "file_extension": ".py",
   "mimetype": "text/x-python",
   "name": "python",
   "nbconvert_exporter": "python",
   "pygments_lexer": "ipython3",
   "version": "3.8.12"
  }
 },
 "nbformat": 4,
 "nbformat_minor": 5
}

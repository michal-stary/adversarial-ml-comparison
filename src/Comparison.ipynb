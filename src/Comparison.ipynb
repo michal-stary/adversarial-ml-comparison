{
 "cells": [
  {
   "cell_type": "code",
   "execution_count": 1,
   "metadata": {},
   "outputs": [],
   "source": [
    "from sweeping import Sweeper\n",
    "import matplotlib.pyplot as plt\n",
    "\n",
    "%load_ext autoreload\n",
    "%autoreload 2"
   ]
  },
  {
   "cell_type": "code",
   "execution_count": 2,
   "metadata": {
    "pycharm": {
     "name": "#%%\n"
    }
   },
   "outputs": [],
   "source": [
    "sweeper = Sweeper.from_jsonfile(\"config.json\")"
   ]
  },
  {
   "cell_type": "code",
   "execution_count": 3,
   "metadata": {
    "pycharm": {
     "name": "#%%\n"
    }
   },
   "outputs": [
    {
     "data": {
      "text/html": [
       "<div>\n",
       "<style scoped>\n",
       "    .dataframe tbody tr th:only-of-type {\n",
       "        vertical-align: middle;\n",
       "    }\n",
       "\n",
       "    .dataframe tbody tr th {\n",
       "        vertical-align: top;\n",
       "    }\n",
       "\n",
       "    .dataframe thead th {\n",
       "        text-align: right;\n",
       "    }\n",
       "</style>\n",
       "<table border=\"1\" class=\"dataframe\">\n",
       "  <thead>\n",
       "    <tr style=\"text-align: right;\">\n",
       "      <th></th>\n",
       "      <th>dataset</th>\n",
       "      <th>norm</th>\n",
       "      <th>attack</th>\n",
       "      <th>model</th>\n",
       "      <th>binary_search_steps</th>\n",
       "      <th>loss_f</th>\n",
       "      <th>steps</th>\n",
       "      <th>α_final</th>\n",
       "      <th>α_init</th>\n",
       "      <th>γ_final</th>\n",
       "      <th>γ_init</th>\n",
       "      <th>max_eps</th>\n",
       "      <th>n_iter</th>\n",
       "      <th>init_lr_distance</th>\n",
       "      <th>num_steps</th>\n",
       "      <th>α</th>\n",
       "      <th>init_norm</th>\n",
       "      <th>γ</th>\n",
       "    </tr>\n",
       "  </thead>\n",
       "  <tbody>\n",
       "    <tr>\n",
       "      <th>0</th>\n",
       "      <td>CIFAR10</td>\n",
       "      <td>L1</td>\n",
       "      <td>alma</td>\n",
       "      <td>Augustin2020Adversarial_34_10_extra</td>\n",
       "      <td>&lt;NA&gt;</td>\n",
       "      <td>DL</td>\n",
       "      <td>&lt;NA&gt;</td>\n",
       "      <td>&lt;NA&gt;</td>\n",
       "      <td>&lt;NA&gt;</td>\n",
       "      <td>&lt;NA&gt;</td>\n",
       "      <td>&lt;NA&gt;</td>\n",
       "      <td>&lt;NA&gt;</td>\n",
       "      <td>&lt;NA&gt;</td>\n",
       "      <td>0.5</td>\n",
       "      <td>1000</td>\n",
       "      <td>0.9</td>\n",
       "      <td>&lt;NA&gt;</td>\n",
       "      <td>&lt;NA&gt;</td>\n",
       "    </tr>\n",
       "    <tr>\n",
       "      <th>1</th>\n",
       "      <td>CIFAR10</td>\n",
       "      <td>L1</td>\n",
       "      <td>alma</td>\n",
       "      <td>Augustin2020Adversarial_34_10_extra</td>\n",
       "      <td>&lt;NA&gt;</td>\n",
       "      <td>DL</td>\n",
       "      <td>&lt;NA&gt;</td>\n",
       "      <td>&lt;NA&gt;</td>\n",
       "      <td>&lt;NA&gt;</td>\n",
       "      <td>&lt;NA&gt;</td>\n",
       "      <td>&lt;NA&gt;</td>\n",
       "      <td>&lt;NA&gt;</td>\n",
       "      <td>&lt;NA&gt;</td>\n",
       "      <td>0.5</td>\n",
       "      <td>100</td>\n",
       "      <td>0.5</td>\n",
       "      <td>&lt;NA&gt;</td>\n",
       "      <td>&lt;NA&gt;</td>\n",
       "    </tr>\n",
       "    <tr>\n",
       "      <th>2</th>\n",
       "      <td>CIFAR10</td>\n",
       "      <td>L1</td>\n",
       "      <td>alma</td>\n",
       "      <td>Engstrom2019Robustness_l2</td>\n",
       "      <td>&lt;NA&gt;</td>\n",
       "      <td>DL</td>\n",
       "      <td>&lt;NA&gt;</td>\n",
       "      <td>&lt;NA&gt;</td>\n",
       "      <td>&lt;NA&gt;</td>\n",
       "      <td>&lt;NA&gt;</td>\n",
       "      <td>&lt;NA&gt;</td>\n",
       "      <td>&lt;NA&gt;</td>\n",
       "      <td>&lt;NA&gt;</td>\n",
       "      <td>0.5</td>\n",
       "      <td>1000</td>\n",
       "      <td>0.9</td>\n",
       "      <td>&lt;NA&gt;</td>\n",
       "      <td>&lt;NA&gt;</td>\n",
       "    </tr>\n",
       "    <tr>\n",
       "      <th>3</th>\n",
       "      <td>CIFAR10</td>\n",
       "      <td>L1</td>\n",
       "      <td>alma</td>\n",
       "      <td>Engstrom2019Robustness_l2</td>\n",
       "      <td>&lt;NA&gt;</td>\n",
       "      <td>DL</td>\n",
       "      <td>&lt;NA&gt;</td>\n",
       "      <td>&lt;NA&gt;</td>\n",
       "      <td>&lt;NA&gt;</td>\n",
       "      <td>&lt;NA&gt;</td>\n",
       "      <td>&lt;NA&gt;</td>\n",
       "      <td>&lt;NA&gt;</td>\n",
       "      <td>&lt;NA&gt;</td>\n",
       "      <td>0.5</td>\n",
       "      <td>100</td>\n",
       "      <td>0.5</td>\n",
       "      <td>&lt;NA&gt;</td>\n",
       "      <td>&lt;NA&gt;</td>\n",
       "    </tr>\n",
       "    <tr>\n",
       "      <th>4</th>\n",
       "      <td>CIFAR10</td>\n",
       "      <td>L1</td>\n",
       "      <td>alma</td>\n",
       "      <td>Engstrom2019Robustness_linf</td>\n",
       "      <td>&lt;NA&gt;</td>\n",
       "      <td>DL</td>\n",
       "      <td>&lt;NA&gt;</td>\n",
       "      <td>&lt;NA&gt;</td>\n",
       "      <td>&lt;NA&gt;</td>\n",
       "      <td>&lt;NA&gt;</td>\n",
       "      <td>&lt;NA&gt;</td>\n",
       "      <td>&lt;NA&gt;</td>\n",
       "      <td>&lt;NA&gt;</td>\n",
       "      <td>0.5</td>\n",
       "      <td>1000</td>\n",
       "      <td>0.9</td>\n",
       "      <td>&lt;NA&gt;</td>\n",
       "      <td>&lt;NA&gt;</td>\n",
       "    </tr>\n",
       "    <tr>\n",
       "      <th>...</th>\n",
       "      <td>...</td>\n",
       "      <td>...</td>\n",
       "      <td>...</td>\n",
       "      <td>...</td>\n",
       "      <td>...</td>\n",
       "      <td>...</td>\n",
       "      <td>...</td>\n",
       "      <td>...</td>\n",
       "      <td>...</td>\n",
       "      <td>...</td>\n",
       "      <td>...</td>\n",
       "      <td>...</td>\n",
       "      <td>...</td>\n",
       "      <td>...</td>\n",
       "      <td>...</td>\n",
       "      <td>...</td>\n",
       "      <td>...</td>\n",
       "      <td>...</td>\n",
       "    </tr>\n",
       "    <tr>\n",
       "      <th>389</th>\n",
       "      <td>CIFAR10</td>\n",
       "      <td>Linf</td>\n",
       "      <td>fmn</td>\n",
       "      <td>Rebuffi2021Fixing_70_16_cutmix_extra_linf</td>\n",
       "      <td>10</td>\n",
       "      <td>DL</td>\n",
       "      <td>1000</td>\n",
       "      <td>0.0001</td>\n",
       "      <td>10</td>\n",
       "      <td>0.001</td>\n",
       "      <td>0.03</td>\n",
       "      <td>&lt;NA&gt;</td>\n",
       "      <td>&lt;NA&gt;</td>\n",
       "      <td>&lt;NA&gt;</td>\n",
       "      <td>&lt;NA&gt;</td>\n",
       "      <td>&lt;NA&gt;</td>\n",
       "      <td>&lt;NA&gt;</td>\n",
       "      <td>&lt;NA&gt;</td>\n",
       "    </tr>\n",
       "    <tr>\n",
       "      <th>390</th>\n",
       "      <td>CIFAR10</td>\n",
       "      <td>Linf</td>\n",
       "      <td>fmn</td>\n",
       "      <td>Rebuffi2021Fixing_70_16_cutmix_extra_linf</td>\n",
       "      <td>10</td>\n",
       "      <td>DL</td>\n",
       "      <td>1000</td>\n",
       "      <td>0.0001</td>\n",
       "      <td>100</td>\n",
       "      <td>0.001</td>\n",
       "      <td>0.05</td>\n",
       "      <td>&lt;NA&gt;</td>\n",
       "      <td>&lt;NA&gt;</td>\n",
       "      <td>&lt;NA&gt;</td>\n",
       "      <td>&lt;NA&gt;</td>\n",
       "      <td>&lt;NA&gt;</td>\n",
       "      <td>&lt;NA&gt;</td>\n",
       "      <td>&lt;NA&gt;</td>\n",
       "    </tr>\n",
       "    <tr>\n",
       "      <th>391</th>\n",
       "      <td>CIFAR10</td>\n",
       "      <td>Linf</td>\n",
       "      <td>fmn</td>\n",
       "      <td>Rebuffi2021Fixing_70_16_cutmix_extra_linf</td>\n",
       "      <td>10</td>\n",
       "      <td>DL</td>\n",
       "      <td>1000</td>\n",
       "      <td>0.0001</td>\n",
       "      <td>100</td>\n",
       "      <td>0.001</td>\n",
       "      <td>0.03</td>\n",
       "      <td>&lt;NA&gt;</td>\n",
       "      <td>&lt;NA&gt;</td>\n",
       "      <td>&lt;NA&gt;</td>\n",
       "      <td>&lt;NA&gt;</td>\n",
       "      <td>&lt;NA&gt;</td>\n",
       "      <td>&lt;NA&gt;</td>\n",
       "      <td>&lt;NA&gt;</td>\n",
       "    </tr>\n",
       "    <tr>\n",
       "      <th>392</th>\n",
       "      <td>CIFAR10</td>\n",
       "      <td>Linf</td>\n",
       "      <td>fmn</td>\n",
       "      <td>Rebuffi2021Fixing_70_16_cutmix_extra_linf</td>\n",
       "      <td>10</td>\n",
       "      <td>DL</td>\n",
       "      <td>1000</td>\n",
       "      <td>0.0001</td>\n",
       "      <td>1000</td>\n",
       "      <td>0.001</td>\n",
       "      <td>0.05</td>\n",
       "      <td>&lt;NA&gt;</td>\n",
       "      <td>&lt;NA&gt;</td>\n",
       "      <td>&lt;NA&gt;</td>\n",
       "      <td>&lt;NA&gt;</td>\n",
       "      <td>&lt;NA&gt;</td>\n",
       "      <td>&lt;NA&gt;</td>\n",
       "      <td>&lt;NA&gt;</td>\n",
       "    </tr>\n",
       "    <tr>\n",
       "      <th>393</th>\n",
       "      <td>CIFAR10</td>\n",
       "      <td>Linf</td>\n",
       "      <td>fmn</td>\n",
       "      <td>Rebuffi2021Fixing_70_16_cutmix_extra_linf</td>\n",
       "      <td>10</td>\n",
       "      <td>DL</td>\n",
       "      <td>1000</td>\n",
       "      <td>0.0001</td>\n",
       "      <td>1000</td>\n",
       "      <td>0.001</td>\n",
       "      <td>0.03</td>\n",
       "      <td>&lt;NA&gt;</td>\n",
       "      <td>&lt;NA&gt;</td>\n",
       "      <td>&lt;NA&gt;</td>\n",
       "      <td>&lt;NA&gt;</td>\n",
       "      <td>&lt;NA&gt;</td>\n",
       "      <td>&lt;NA&gt;</td>\n",
       "      <td>&lt;NA&gt;</td>\n",
       "    </tr>\n",
       "  </tbody>\n",
       "</table>\n",
       "<p>394 rows × 18 columns</p>\n",
       "</div>"
      ],
      "text/plain": [
       "     dataset  norm attack                                      model  \\\n",
       "0    CIFAR10    L1   alma        Augustin2020Adversarial_34_10_extra   \n",
       "1    CIFAR10    L1   alma        Augustin2020Adversarial_34_10_extra   \n",
       "2    CIFAR10    L1   alma                  Engstrom2019Robustness_l2   \n",
       "3    CIFAR10    L1   alma                  Engstrom2019Robustness_l2   \n",
       "4    CIFAR10    L1   alma                Engstrom2019Robustness_linf   \n",
       "..       ...   ...    ...                                        ...   \n",
       "389  CIFAR10  Linf    fmn  Rebuffi2021Fixing_70_16_cutmix_extra_linf   \n",
       "390  CIFAR10  Linf    fmn  Rebuffi2021Fixing_70_16_cutmix_extra_linf   \n",
       "391  CIFAR10  Linf    fmn  Rebuffi2021Fixing_70_16_cutmix_extra_linf   \n",
       "392  CIFAR10  Linf    fmn  Rebuffi2021Fixing_70_16_cutmix_extra_linf   \n",
       "393  CIFAR10  Linf    fmn  Rebuffi2021Fixing_70_16_cutmix_extra_linf   \n",
       "\n",
       "     binary_search_steps loss_f  steps  α_final  α_init  γ_final  γ_init  \\\n",
       "0                   <NA>     DL   <NA>     <NA>    <NA>     <NA>    <NA>   \n",
       "1                   <NA>     DL   <NA>     <NA>    <NA>     <NA>    <NA>   \n",
       "2                   <NA>     DL   <NA>     <NA>    <NA>     <NA>    <NA>   \n",
       "3                   <NA>     DL   <NA>     <NA>    <NA>     <NA>    <NA>   \n",
       "4                   <NA>     DL   <NA>     <NA>    <NA>     <NA>    <NA>   \n",
       "..                   ...    ...    ...      ...     ...      ...     ...   \n",
       "389                   10     DL   1000   0.0001      10    0.001    0.03   \n",
       "390                   10     DL   1000   0.0001     100    0.001    0.05   \n",
       "391                   10     DL   1000   0.0001     100    0.001    0.03   \n",
       "392                   10     DL   1000   0.0001    1000    0.001    0.05   \n",
       "393                   10     DL   1000   0.0001    1000    0.001    0.03   \n",
       "\n",
       "     max_eps  n_iter  init_lr_distance  num_steps     α  init_norm     γ  \n",
       "0       <NA>    <NA>               0.5       1000   0.9       <NA>  <NA>  \n",
       "1       <NA>    <NA>               0.5        100   0.5       <NA>  <NA>  \n",
       "2       <NA>    <NA>               0.5       1000   0.9       <NA>  <NA>  \n",
       "3       <NA>    <NA>               0.5        100   0.5       <NA>  <NA>  \n",
       "4       <NA>    <NA>               0.5       1000   0.9       <NA>  <NA>  \n",
       "..       ...     ...               ...        ...   ...        ...   ...  \n",
       "389     <NA>    <NA>              <NA>       <NA>  <NA>       <NA>  <NA>  \n",
       "390     <NA>    <NA>              <NA>       <NA>  <NA>       <NA>  <NA>  \n",
       "391     <NA>    <NA>              <NA>       <NA>  <NA>       <NA>  <NA>  \n",
       "392     <NA>    <NA>              <NA>       <NA>  <NA>       <NA>  <NA>  \n",
       "393     <NA>    <NA>              <NA>       <NA>  <NA>       <NA>  <NA>  \n",
       "\n",
       "[394 rows x 18 columns]"
      ]
     },
     "execution_count": 3,
     "metadata": {},
     "output_type": "execute_result"
    }
   ],
   "source": [
    "sweeper.config_df"
   ]
  },
  {
   "cell_type": "code",
   "execution_count": 4,
   "metadata": {
    "pycharm": {
     "name": "#%%\n"
    }
   },
   "outputs": [],
   "source": [
    "sweeper.logger.load_all()"
   ]
  },
  {
   "cell_type": "code",
   "execution_count": null,
   "metadata": {
    "pycharm": {
     "name": "#%%\n"
    }
   },
   "outputs": [
    {
     "name": "stdout",
     "output_type": "stream",
     "text": [
      "dataset                                         CIFAR10\n",
      "norm                                                 L1\n",
      "attack                                             alma\n",
      "model               Augustin2020Adversarial_34_10_extra\n",
      "loss_f                                               DL\n",
      "init_lr_distance                                    0.5\n",
      "num_steps                                          1000\n",
      "α                                                   0.9\n",
      "Name: 0, dtype: object\n",
      "Files already downloaded and verified\n"
     ]
    },
    {
     "name": "stderr",
     "output_type": "stream",
     "text": [
      "100%|██████████| 2/2 [27:13<00:00, 816.67s/it]\n"
     ]
    },
    {
     "name": "stdout",
     "output_type": "stream",
     "text": [
      "Done: 1/394\n",
      "dataset                                         CIFAR10\n",
      "norm                                                 L1\n",
      "attack                                             alma\n",
      "model               Augustin2020Adversarial_34_10_extra\n",
      "loss_f                                               DL\n",
      "init_lr_distance                                    0.5\n",
      "num_steps                                           100\n",
      "α                                                   0.5\n",
      "Name: 1, dtype: object\n",
      "Files already downloaded and verified\n"
     ]
    },
    {
     "name": "stderr",
     "output_type": "stream",
     "text": [
      "100%|██████████| 2/2 [02:44<00:00, 82.00s/it]\n"
     ]
    },
    {
     "name": "stdout",
     "output_type": "stream",
     "text": [
      "Done: 2/394\n",
      "dataset                               CIFAR10\n",
      "norm                                       L1\n",
      "attack                                   alma\n",
      "model               Engstrom2019Robustness_l2\n",
      "loss_f                                     DL\n",
      "init_lr_distance                          0.5\n",
      "num_steps                                1000\n",
      "α                                         0.9\n",
      "Name: 2, dtype: object\n",
      "Files already downloaded and verified\n"
     ]
    },
    {
     "name": "stderr",
     "output_type": "stream",
     "text": [
      "100%|██████████| 2/2 [09:14<00:00, 277.50s/it]\n"
     ]
    },
    {
     "name": "stdout",
     "output_type": "stream",
     "text": [
      "Done: 3/394\n",
      "dataset                               CIFAR10\n",
      "norm                                       L1\n",
      "attack                                   alma\n",
      "model               Engstrom2019Robustness_l2\n",
      "loss_f                                     DL\n",
      "init_lr_distance                          0.5\n",
      "num_steps                                 100\n",
      "α                                         0.5\n",
      "Name: 3, dtype: object\n",
      "Files already downloaded and verified\n"
     ]
    },
    {
     "name": "stderr",
     "output_type": "stream",
     "text": [
      "100%|██████████| 2/2 [00:55<00:00, 27.67s/it]\n"
     ]
    },
    {
     "name": "stdout",
     "output_type": "stream",
     "text": [
      "Done: 4/394\n",
      "dataset                                 CIFAR10\n",
      "norm                                         L1\n",
      "attack                                     alma\n",
      "model               Engstrom2019Robustness_linf\n",
      "loss_f                                       DL\n",
      "init_lr_distance                            0.5\n",
      "num_steps                                  1000\n",
      "α                                           0.9\n",
      "Name: 4, dtype: object\n",
      "Files already downloaded and verified\n"
     ]
    },
    {
     "name": "stderr",
     "output_type": "stream",
     "text": [
      "  0%|          | 0/2 [00:00<?, ?it/s]"
     ]
    }
   ],
   "source": [
    "sweeper.save_df()\n",
    "sweeper.sweep(n_samples=200, device=None, recompute=False, batch_size=100)\n",
    "sweeper.save_df()"
   ]
  },
  {
   "cell_type": "code",
   "execution_count": null,
   "metadata": {
    "pycharm": {
     "name": "#%%\n"
    }
   },
   "outputs": [],
   "source": [
    "# sweeper.logger.where(model=\"Maini2020MultipleAVG\")"
   ]
  },
  {
   "cell_type": "code",
   "execution_count": null,
   "metadata": {
    "pycharm": {
     "name": "#%%\n"
    }
   },
   "outputs": [],
   "source": [
    "settings = {\"attack\":\"\", \"model\":\"Eng\", \"-norm\":\"Linf\", \"norm\":\"Linf\"}"
   ]
  },
  {
   "cell_type": "code",
   "execution_count": null,
   "metadata": {
    "pycharm": {
     "name": "#%%\n"
    }
   },
   "outputs": [],
   "source": [
    "import matplotlib.pyplot as plt\n",
    "\n",
    "# todo - put this into functions in some plot_utils file\n",
    "# tofo - support filtering/splitting into multiple plots (e.g. plot only one model)\n",
    "\n",
    "plt.figure(figsize=(15,10))\n",
    "keys = []\n",
    "for key in sweeper.logger.where(**settings):\n",
    "    sweeper.logger.plot_QD(key)\n",
    "    keys.append(key)\n",
    "plt.legend(keys)#, bbox_to_anchor =(0.65, 1.25))\n",
    "plt.ylabel(settings[\"norm\"])\n",
    "plt.xlabel(\"Query\")\n",
    "plt.xscale('log')\n",
    "None"
   ]
  },
  {
   "cell_type": "code",
   "execution_count": null,
   "metadata": {
    "pycharm": {
     "name": "#%%\n"
    }
   },
   "outputs": [],
   "source": [
    "plt.figure(figsize=(15,10))\n",
    "keys = []\n",
    "for key in sweeper.logger.where(**settings):\n",
    "    sweeper.logger.plot_progress(kind=\"loss\", run_id=key)\n",
    "    keys.append(key)\n",
    "plt.legend(keys)#, bbox_to_anchor =(0.65, 1.25))\n",
    "plt.ylabel(\"DL Loss\")\n",
    "plt.xlabel(\"Query\")\n",
    "None"
   ]
  },
  {
   "cell_type": "code",
   "execution_count": null,
   "metadata": {
    "pycharm": {
     "name": "#%%\n"
    }
   },
   "outputs": [],
   "source": [
    "plt.figure(figsize=(15,10))\n",
    "for key in sweeper.logger.where(**settings):\n",
    "    sweeper.logger.plot_progress(kind=\"acc\", run_id=key)\n",
    "plt.legend([*sweeper.logger.dict.keys()])#, bbox_to_anchor =(0.65, 1.25))\n",
    "plt.ylabel(\"Accuracy\")\n",
    "plt.xlabel(\"Query\")\n",
    "None"
   ]
  },
  {
   "cell_type": "code",
   "execution_count": null,
   "metadata": {
    "pycharm": {
     "name": "#%%\n"
    }
   },
   "outputs": [],
   "source": []
  },
  {
   "cell_type": "code",
   "execution_count": null,
   "metadata": {
    "pycharm": {
     "name": "#%%\n"
    }
   },
   "outputs": [],
   "source": []
  }
 ],
 "metadata": {
  "kernelspec": {
   "display_name": "Python 3",
   "language": "python",
   "name": "python3"
  },
  "language_info": {
   "codemirror_mode": {
    "name": "ipython",
    "version": 3
   },
   "file_extension": ".py",
   "mimetype": "text/x-python",
   "name": "python",
   "nbconvert_exporter": "python",
   "pygments_lexer": "ipython3",
   "version": "3.8.5"
  }
 },
 "nbformat": 4,
 "nbformat_minor": 4
}

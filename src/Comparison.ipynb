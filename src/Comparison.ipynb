{
 "cells": [
  {
   "cell_type": "code",
   "execution_count": 1,
   "metadata": {},
   "outputs": [],
   "source": [
    "from sweeping import Sweeper\n",
    "import matplotlib.pyplot as plt\n",
    "\n",
    "%load_ext autoreload\n",
    "%autoreload 2"
   ]
  },
  {
   "cell_type": "code",
   "execution_count": 2,
   "metadata": {
    "pycharm": {
     "name": "#%%\n"
    }
   },
   "outputs": [],
   "source": [
    "sweeper = Sweeper.from_jsonfile(\"config.json\")"
   ]
  },
  {
   "cell_type": "code",
   "execution_count": 3,
   "metadata": {
    "pycharm": {
     "name": "#%%\n"
    }
   },
   "outputs": [
    {
     "data": {
      "text/html": [
       "<div>\n",
       "<style scoped>\n",
       "    .dataframe tbody tr th:only-of-type {\n",
       "        vertical-align: middle;\n",
       "    }\n",
       "\n",
       "    .dataframe tbody tr th {\n",
       "        vertical-align: top;\n",
       "    }\n",
       "\n",
       "    .dataframe thead th {\n",
       "        text-align: right;\n",
       "    }\n",
       "</style>\n",
       "<table border=\"1\" class=\"dataframe\">\n",
       "  <thead>\n",
       "    <tr style=\"text-align: right;\">\n",
       "      <th></th>\n",
       "      <th>dataset</th>\n",
       "      <th>norm</th>\n",
       "      <th>attack</th>\n",
       "      <th>model</th>\n",
       "      <th>binary_search_steps</th>\n",
       "      <th>loss_f</th>\n",
       "      <th>steps</th>\n",
       "      <th>α_final</th>\n",
       "      <th>α_init</th>\n",
       "      <th>γ_final</th>\n",
       "      <th>γ_init</th>\n",
       "      <th>max_eps</th>\n",
       "      <th>n_iter</th>\n",
       "      <th>num_steps</th>\n",
       "      <th>α</th>\n",
       "    </tr>\n",
       "  </thead>\n",
       "  <tbody>\n",
       "    <tr>\n",
       "      <th>0</th>\n",
       "      <td>CIFAR10</td>\n",
       "      <td>L1</td>\n",
       "      <td>alma</td>\n",
       "      <td>Augustin2020Adversarial_34_10_extra</td>\n",
       "      <td>&lt;NA&gt;</td>\n",
       "      <td>DL</td>\n",
       "      <td>&lt;NA&gt;</td>\n",
       "      <td>&lt;NA&gt;</td>\n",
       "      <td>&lt;NA&gt;</td>\n",
       "      <td>&lt;NA&gt;</td>\n",
       "      <td>&lt;NA&gt;</td>\n",
       "      <td>&lt;NA&gt;</td>\n",
       "      <td>&lt;NA&gt;</td>\n",
       "      <td>1000</td>\n",
       "      <td>0.9</td>\n",
       "    </tr>\n",
       "    <tr>\n",
       "      <th>1</th>\n",
       "      <td>CIFAR10</td>\n",
       "      <td>L1</td>\n",
       "      <td>alma</td>\n",
       "      <td>Augustin2020Adversarial_34_10_extra</td>\n",
       "      <td>&lt;NA&gt;</td>\n",
       "      <td>DL</td>\n",
       "      <td>&lt;NA&gt;</td>\n",
       "      <td>&lt;NA&gt;</td>\n",
       "      <td>&lt;NA&gt;</td>\n",
       "      <td>&lt;NA&gt;</td>\n",
       "      <td>&lt;NA&gt;</td>\n",
       "      <td>&lt;NA&gt;</td>\n",
       "      <td>&lt;NA&gt;</td>\n",
       "      <td>100</td>\n",
       "      <td>0.5</td>\n",
       "    </tr>\n",
       "    <tr>\n",
       "      <th>2</th>\n",
       "      <td>CIFAR10</td>\n",
       "      <td>L1</td>\n",
       "      <td>alma</td>\n",
       "      <td>Engstrom2019Robustness_l2</td>\n",
       "      <td>&lt;NA&gt;</td>\n",
       "      <td>DL</td>\n",
       "      <td>&lt;NA&gt;</td>\n",
       "      <td>&lt;NA&gt;</td>\n",
       "      <td>&lt;NA&gt;</td>\n",
       "      <td>&lt;NA&gt;</td>\n",
       "      <td>&lt;NA&gt;</td>\n",
       "      <td>&lt;NA&gt;</td>\n",
       "      <td>&lt;NA&gt;</td>\n",
       "      <td>1000</td>\n",
       "      <td>0.9</td>\n",
       "    </tr>\n",
       "    <tr>\n",
       "      <th>3</th>\n",
       "      <td>CIFAR10</td>\n",
       "      <td>L1</td>\n",
       "      <td>alma</td>\n",
       "      <td>Engstrom2019Robustness_l2</td>\n",
       "      <td>&lt;NA&gt;</td>\n",
       "      <td>DL</td>\n",
       "      <td>&lt;NA&gt;</td>\n",
       "      <td>&lt;NA&gt;</td>\n",
       "      <td>&lt;NA&gt;</td>\n",
       "      <td>&lt;NA&gt;</td>\n",
       "      <td>&lt;NA&gt;</td>\n",
       "      <td>&lt;NA&gt;</td>\n",
       "      <td>&lt;NA&gt;</td>\n",
       "      <td>100</td>\n",
       "      <td>0.5</td>\n",
       "    </tr>\n",
       "    <tr>\n",
       "      <th>4</th>\n",
       "      <td>CIFAR10</td>\n",
       "      <td>L1</td>\n",
       "      <td>alma</td>\n",
       "      <td>Engstrom2019Robustness_linf</td>\n",
       "      <td>&lt;NA&gt;</td>\n",
       "      <td>DL</td>\n",
       "      <td>&lt;NA&gt;</td>\n",
       "      <td>&lt;NA&gt;</td>\n",
       "      <td>&lt;NA&gt;</td>\n",
       "      <td>&lt;NA&gt;</td>\n",
       "      <td>&lt;NA&gt;</td>\n",
       "      <td>&lt;NA&gt;</td>\n",
       "      <td>&lt;NA&gt;</td>\n",
       "      <td>1000</td>\n",
       "      <td>0.9</td>\n",
       "    </tr>\n",
       "    <tr>\n",
       "      <th>...</th>\n",
       "      <td>...</td>\n",
       "      <td>...</td>\n",
       "      <td>...</td>\n",
       "      <td>...</td>\n",
       "      <td>...</td>\n",
       "      <td>...</td>\n",
       "      <td>...</td>\n",
       "      <td>...</td>\n",
       "      <td>...</td>\n",
       "      <td>...</td>\n",
       "      <td>...</td>\n",
       "      <td>...</td>\n",
       "      <td>...</td>\n",
       "      <td>...</td>\n",
       "      <td>...</td>\n",
       "    </tr>\n",
       "    <tr>\n",
       "      <th>317</th>\n",
       "      <td>CIFAR10</td>\n",
       "      <td>Linf</td>\n",
       "      <td>fmn</td>\n",
       "      <td>Rebuffi2021Fixing_70_16_cutmix_extra</td>\n",
       "      <td>10</td>\n",
       "      <td>DL</td>\n",
       "      <td>1000</td>\n",
       "      <td>0.0001</td>\n",
       "      <td>10</td>\n",
       "      <td>0.001</td>\n",
       "      <td>0.03</td>\n",
       "      <td>&lt;NA&gt;</td>\n",
       "      <td>&lt;NA&gt;</td>\n",
       "      <td>&lt;NA&gt;</td>\n",
       "      <td>&lt;NA&gt;</td>\n",
       "    </tr>\n",
       "    <tr>\n",
       "      <th>318</th>\n",
       "      <td>CIFAR10</td>\n",
       "      <td>Linf</td>\n",
       "      <td>fmn</td>\n",
       "      <td>Rebuffi2021Fixing_70_16_cutmix_extra</td>\n",
       "      <td>10</td>\n",
       "      <td>DL</td>\n",
       "      <td>1000</td>\n",
       "      <td>0.0001</td>\n",
       "      <td>100</td>\n",
       "      <td>0.001</td>\n",
       "      <td>0.05</td>\n",
       "      <td>&lt;NA&gt;</td>\n",
       "      <td>&lt;NA&gt;</td>\n",
       "      <td>&lt;NA&gt;</td>\n",
       "      <td>&lt;NA&gt;</td>\n",
       "    </tr>\n",
       "    <tr>\n",
       "      <th>319</th>\n",
       "      <td>CIFAR10</td>\n",
       "      <td>Linf</td>\n",
       "      <td>fmn</td>\n",
       "      <td>Rebuffi2021Fixing_70_16_cutmix_extra</td>\n",
       "      <td>10</td>\n",
       "      <td>DL</td>\n",
       "      <td>1000</td>\n",
       "      <td>0.0001</td>\n",
       "      <td>100</td>\n",
       "      <td>0.001</td>\n",
       "      <td>0.03</td>\n",
       "      <td>&lt;NA&gt;</td>\n",
       "      <td>&lt;NA&gt;</td>\n",
       "      <td>&lt;NA&gt;</td>\n",
       "      <td>&lt;NA&gt;</td>\n",
       "    </tr>\n",
       "    <tr>\n",
       "      <th>320</th>\n",
       "      <td>CIFAR10</td>\n",
       "      <td>Linf</td>\n",
       "      <td>fmn</td>\n",
       "      <td>Rebuffi2021Fixing_70_16_cutmix_extra</td>\n",
       "      <td>10</td>\n",
       "      <td>DL</td>\n",
       "      <td>1000</td>\n",
       "      <td>0.0001</td>\n",
       "      <td>1000</td>\n",
       "      <td>0.001</td>\n",
       "      <td>0.05</td>\n",
       "      <td>&lt;NA&gt;</td>\n",
       "      <td>&lt;NA&gt;</td>\n",
       "      <td>&lt;NA&gt;</td>\n",
       "      <td>&lt;NA&gt;</td>\n",
       "    </tr>\n",
       "    <tr>\n",
       "      <th>321</th>\n",
       "      <td>CIFAR10</td>\n",
       "      <td>Linf</td>\n",
       "      <td>fmn</td>\n",
       "      <td>Rebuffi2021Fixing_70_16_cutmix_extra</td>\n",
       "      <td>10</td>\n",
       "      <td>DL</td>\n",
       "      <td>1000</td>\n",
       "      <td>0.0001</td>\n",
       "      <td>1000</td>\n",
       "      <td>0.001</td>\n",
       "      <td>0.03</td>\n",
       "      <td>&lt;NA&gt;</td>\n",
       "      <td>&lt;NA&gt;</td>\n",
       "      <td>&lt;NA&gt;</td>\n",
       "      <td>&lt;NA&gt;</td>\n",
       "    </tr>\n",
       "  </tbody>\n",
       "</table>\n",
       "<p>322 rows × 15 columns</p>\n",
       "</div>"
      ],
      "text/plain": [
       "     dataset  norm attack                                 model  \\\n",
       "0    CIFAR10    L1   alma   Augustin2020Adversarial_34_10_extra   \n",
       "1    CIFAR10    L1   alma   Augustin2020Adversarial_34_10_extra   \n",
       "2    CIFAR10    L1   alma             Engstrom2019Robustness_l2   \n",
       "3    CIFAR10    L1   alma             Engstrom2019Robustness_l2   \n",
       "4    CIFAR10    L1   alma           Engstrom2019Robustness_linf   \n",
       "..       ...   ...    ...                                   ...   \n",
       "317  CIFAR10  Linf    fmn  Rebuffi2021Fixing_70_16_cutmix_extra   \n",
       "318  CIFAR10  Linf    fmn  Rebuffi2021Fixing_70_16_cutmix_extra   \n",
       "319  CIFAR10  Linf    fmn  Rebuffi2021Fixing_70_16_cutmix_extra   \n",
       "320  CIFAR10  Linf    fmn  Rebuffi2021Fixing_70_16_cutmix_extra   \n",
       "321  CIFAR10  Linf    fmn  Rebuffi2021Fixing_70_16_cutmix_extra   \n",
       "\n",
       "     binary_search_steps loss_f  steps  α_final  α_init  γ_final  γ_init  \\\n",
       "0                   <NA>     DL   <NA>     <NA>    <NA>     <NA>    <NA>   \n",
       "1                   <NA>     DL   <NA>     <NA>    <NA>     <NA>    <NA>   \n",
       "2                   <NA>     DL   <NA>     <NA>    <NA>     <NA>    <NA>   \n",
       "3                   <NA>     DL   <NA>     <NA>    <NA>     <NA>    <NA>   \n",
       "4                   <NA>     DL   <NA>     <NA>    <NA>     <NA>    <NA>   \n",
       "..                   ...    ...    ...      ...     ...      ...     ...   \n",
       "317                   10     DL   1000   0.0001      10    0.001    0.03   \n",
       "318                   10     DL   1000   0.0001     100    0.001    0.05   \n",
       "319                   10     DL   1000   0.0001     100    0.001    0.03   \n",
       "320                   10     DL   1000   0.0001    1000    0.001    0.05   \n",
       "321                   10     DL   1000   0.0001    1000    0.001    0.03   \n",
       "\n",
       "     max_eps  n_iter  num_steps     α  \n",
       "0       <NA>    <NA>       1000   0.9  \n",
       "1       <NA>    <NA>        100   0.5  \n",
       "2       <NA>    <NA>       1000   0.9  \n",
       "3       <NA>    <NA>        100   0.5  \n",
       "4       <NA>    <NA>       1000   0.9  \n",
       "..       ...     ...        ...   ...  \n",
       "317     <NA>    <NA>       <NA>  <NA>  \n",
       "318     <NA>    <NA>       <NA>  <NA>  \n",
       "319     <NA>    <NA>       <NA>  <NA>  \n",
       "320     <NA>    <NA>       <NA>  <NA>  \n",
       "321     <NA>    <NA>       <NA>  <NA>  \n",
       "\n",
       "[322 rows x 15 columns]"
      ]
     },
     "execution_count": 3,
     "metadata": {},
     "output_type": "execute_result"
    }
   ],
   "source": [
    "sweeper.config_df"
   ]
  },
  {
   "cell_type": "code",
   "execution_count": 4,
   "metadata": {
    "pycharm": {
     "name": "#%%\n"
    }
   },
   "outputs": [],
   "source": [
    "sweeper.logger.load_all()"
   ]
  },
  {
   "cell_type": "code",
   "execution_count": null,
   "metadata": {
    "pycharm": {
     "name": "#%%\n"
    }
   },
   "outputs": [
    {
     "name": "stdout",
     "output_type": "stream",
     "text": [
      "dataset                        CIFAR10\n",
      "norm                                L2\n",
      "attack                            alma\n",
      "model        Gowal2020Uncovering_extra\n",
      "loss_f                              DL\n",
      "num_steps                         1000\n",
      "α                                  0.9\n",
      "Name: 114, dtype: object\n",
      "Files already downloaded and verified\n"
     ]
    },
    {
     "name": "stderr",
     "output_type": "stream",
     "text": [
      "100%|██████████| 2/2 [1:44:55<00:00, 3147.76s/it]\n"
     ]
    },
    {
     "name": "stdout",
     "output_type": "stream",
     "text": [
      "Done: 115/322\n",
      "dataset                        CIFAR10\n",
      "norm                                L2\n",
      "attack                            alma\n",
      "model        Gowal2020Uncovering_extra\n",
      "loss_f                              DL\n",
      "num_steps                          100\n",
      "α                                  0.5\n",
      "Name: 115, dtype: object\n",
      "Files already downloaded and verified\n"
     ]
    },
    {
     "name": "stderr",
     "output_type": "stream",
     "text": [
      "100%|██████████| 2/2 [10:30<00:00, 315.19s/it]\n"
     ]
    },
    {
     "name": "stdout",
     "output_type": "stream",
     "text": [
      "Done: 116/322\n",
      "dataset                                  CIFAR10\n",
      "norm                                          L2\n",
      "attack                                      alma\n",
      "model        Rebuffi2021Fixing_70_16_cutmix_ddpm\n",
      "loss_f                                        DL\n",
      "num_steps                                   1000\n",
      "α                                            0.9\n",
      "Name: 118, dtype: object\n",
      "Download started: path=models/cifar10/L2/Rebuffi2021Fixing_70_16_cutmix_ddpm.pt (gdrive_id=1-8ECIOYF4JB0ywxJOmhkefnv4TW-KuXp)\n",
      "Download finished: path=models/cifar10/L2/Rebuffi2021Fixing_70_16_cutmix_ddpm.pt (gdrive_id=1-8ECIOYF4JB0ywxJOmhkefnv4TW-KuXp)\n",
      "Files already downloaded and verified\n"
     ]
    },
    {
     "name": "stderr",
     "output_type": "stream",
     "text": [
      "100%|██████████| 2/2 [1:45:10<00:00, 3155.17s/it]\n"
     ]
    },
    {
     "name": "stdout",
     "output_type": "stream",
     "text": [
      "Done: 119/322\n",
      "dataset                                  CIFAR10\n",
      "norm                                          L2\n",
      "attack                                      alma\n",
      "model        Rebuffi2021Fixing_70_16_cutmix_ddpm\n",
      "loss_f                                        DL\n",
      "num_steps                                    100\n",
      "α                                            0.5\n",
      "Name: 119, dtype: object\n",
      "Files already downloaded and verified\n"
     ]
    },
    {
     "name": "stderr",
     "output_type": "stream",
     "text": [
      "100%|██████████| 2/2 [10:30<00:00, 315.30s/it]\n"
     ]
    },
    {
     "name": "stdout",
     "output_type": "stream",
     "text": [
      "Done: 120/322\n",
      "dataset                                   CIFAR10\n",
      "norm                                           L2\n",
      "attack                                       alma\n",
      "model        Rebuffi2021Fixing_70_16_cutmix_extra\n",
      "loss_f                                         DL\n",
      "num_steps                                    1000\n",
      "α                                             0.9\n",
      "Name: 120, dtype: object\n",
      "Download started: path=models/cifar10/L2/Rebuffi2021Fixing_70_16_cutmix_extra.pt (gdrive_id=1JX82BDVBNO-Ffa2J37EuB8C-aFCbz708)\n",
      "Download finished: path=models/cifar10/L2/Rebuffi2021Fixing_70_16_cutmix_extra.pt (gdrive_id=1JX82BDVBNO-Ffa2J37EuB8C-aFCbz708)\n",
      "Files already downloaded and verified\n"
     ]
    },
    {
     "name": "stderr",
     "output_type": "stream",
     "text": [
      "100%|██████████| 2/2 [1:45:10<00:00, 3155.46s/it]\n"
     ]
    },
    {
     "name": "stdout",
     "output_type": "stream",
     "text": [
      "Done: 121/322\n",
      "dataset                                   CIFAR10\n",
      "norm                                           L2\n",
      "attack                                       alma\n",
      "model        Rebuffi2021Fixing_70_16_cutmix_extra\n",
      "loss_f                                         DL\n",
      "num_steps                                     100\n",
      "α                                             0.5\n",
      "Name: 121, dtype: object\n",
      "Files already downloaded and verified\n"
     ]
    },
    {
     "name": "stderr",
     "output_type": "stream",
     "text": [
      "100%|██████████| 2/2 [10:30<00:00, 315.19s/it]\n"
     ]
    },
    {
     "name": "stdout",
     "output_type": "stream",
     "text": [
      "Done: 122/322\n",
      "dataset                                  CIFAR10\n",
      "norm                                          L2\n",
      "attack                                       fmn\n",
      "model                  Gowal2020Uncovering_extra\n",
      "binary_search_steps                           10\n",
      "loss_f                                        DL\n",
      "steps                                        100\n",
      "α_final                                   0.0001\n",
      "α_init                                         1\n",
      "γ_final                                    0.001\n",
      "γ_init                                      0.05\n",
      "Name: 136, dtype: object\n",
      "Files already downloaded and verified\n"
     ]
    },
    {
     "name": "stderr",
     "output_type": "stream",
     "text": [
      "100%|██████████| 2/2 [10:30<00:00, 315.47s/it]\n"
     ]
    },
    {
     "name": "stdout",
     "output_type": "stream",
     "text": [
      "Done: 137/322\n",
      "dataset                                  CIFAR10\n",
      "norm                                          L2\n",
      "attack                                       fmn\n",
      "model                  Gowal2020Uncovering_extra\n",
      "binary_search_steps                           10\n",
      "loss_f                                        DL\n",
      "steps                                        100\n",
      "α_final                                   0.0001\n",
      "α_init                                         1\n",
      "γ_final                                    0.001\n",
      "γ_init                                      0.03\n",
      "Name: 137, dtype: object\n",
      "Files already downloaded and verified\n"
     ]
    },
    {
     "name": "stderr",
     "output_type": "stream",
     "text": [
      "100%|██████████| 2/2 [10:30<00:00, 315.42s/it]\n"
     ]
    },
    {
     "name": "stdout",
     "output_type": "stream",
     "text": [
      "Done: 138/322\n",
      "dataset                                  CIFAR10\n",
      "norm                                          L2\n",
      "attack                                       fmn\n",
      "model                  Gowal2020Uncovering_extra\n",
      "binary_search_steps                           10\n",
      "loss_f                                        DL\n",
      "steps                                        100\n",
      "α_final                                   0.0001\n",
      "α_init                                         5\n",
      "γ_final                                    0.001\n",
      "γ_init                                      0.05\n",
      "Name: 138, dtype: object\n",
      "Files already downloaded and verified\n"
     ]
    },
    {
     "name": "stderr",
     "output_type": "stream",
     "text": [
      "100%|██████████| 2/2 [10:31<00:00, 315.64s/it]\n"
     ]
    },
    {
     "name": "stdout",
     "output_type": "stream",
     "text": [
      "Done: 139/322\n",
      "dataset                                  CIFAR10\n",
      "norm                                          L2\n",
      "attack                                       fmn\n",
      "model                  Gowal2020Uncovering_extra\n",
      "binary_search_steps                           10\n",
      "loss_f                                        DL\n",
      "steps                                        100\n",
      "α_final                                   0.0001\n",
      "α_init                                         5\n",
      "γ_final                                    0.001\n",
      "γ_init                                      0.03\n",
      "Name: 139, dtype: object\n",
      "Files already downloaded and verified\n"
     ]
    },
    {
     "name": "stderr",
     "output_type": "stream",
     "text": [
      "100%|██████████| 2/2 [10:31<00:00, 315.97s/it]\n"
     ]
    },
    {
     "name": "stdout",
     "output_type": "stream",
     "text": [
      "Done: 140/322\n",
      "dataset                                  CIFAR10\n",
      "norm                                          L2\n",
      "attack                                       fmn\n",
      "model                  Gowal2020Uncovering_extra\n",
      "binary_search_steps                           10\n",
      "loss_f                                        DL\n",
      "steps                                        100\n",
      "α_final                                   0.0001\n",
      "α_init                                        10\n",
      "γ_final                                    0.001\n",
      "γ_init                                      0.05\n",
      "Name: 140, dtype: object\n",
      "Files already downloaded and verified\n"
     ]
    },
    {
     "name": "stderr",
     "output_type": "stream",
     "text": [
      "100%|██████████| 2/2 [10:32<00:00, 316.10s/it]\n"
     ]
    },
    {
     "name": "stdout",
     "output_type": "stream",
     "text": [
      "Done: 141/322\n",
      "dataset                                  CIFAR10\n",
      "norm                                          L2\n",
      "attack                                       fmn\n",
      "model                  Gowal2020Uncovering_extra\n",
      "binary_search_steps                           10\n",
      "loss_f                                        DL\n",
      "steps                                        100\n",
      "α_final                                   0.0001\n",
      "α_init                                        10\n",
      "γ_final                                    0.001\n",
      "γ_init                                      0.03\n",
      "Name: 141, dtype: object\n",
      "Files already downloaded and verified\n"
     ]
    },
    {
     "name": "stderr",
     "output_type": "stream",
     "text": [
      "100%|██████████| 2/2 [10:32<00:00, 316.11s/it]\n"
     ]
    },
    {
     "name": "stdout",
     "output_type": "stream",
     "text": [
      "Done: 142/322\n",
      "dataset                                  CIFAR10\n",
      "norm                                          L2\n",
      "attack                                       fmn\n",
      "model                  Gowal2020Uncovering_extra\n",
      "binary_search_steps                           10\n",
      "loss_f                                        DL\n",
      "steps                                       1000\n",
      "α_final                                   0.0001\n",
      "α_init                                         1\n",
      "γ_final                                    0.001\n",
      "γ_init                                      0.05\n",
      "Name: 142, dtype: object\n",
      "Files already downloaded and verified\n"
     ]
    },
    {
     "name": "stderr",
     "output_type": "stream",
     "text": [
      "100%|██████████| 2/2 [1:45:27<00:00, 3163.59s/it]\n"
     ]
    },
    {
     "name": "stdout",
     "output_type": "stream",
     "text": [
      "Done: 143/322\n",
      "dataset                                  CIFAR10\n",
      "norm                                          L2\n",
      "attack                                       fmn\n",
      "model                  Gowal2020Uncovering_extra\n",
      "binary_search_steps                           10\n",
      "loss_f                                        DL\n",
      "steps                                       1000\n",
      "α_final                                   0.0001\n",
      "α_init                                         1\n",
      "γ_final                                    0.001\n",
      "γ_init                                      0.03\n",
      "Name: 143, dtype: object\n",
      "Files already downloaded and verified\n"
     ]
    },
    {
     "name": "stderr",
     "output_type": "stream",
     "text": [
      "100%|██████████| 2/2 [1:45:24<00:00, 3162.42s/it]\n"
     ]
    },
    {
     "name": "stdout",
     "output_type": "stream",
     "text": [
      "Done: 144/322\n",
      "dataset                                  CIFAR10\n",
      "norm                                          L2\n",
      "attack                                       fmn\n",
      "model                  Gowal2020Uncovering_extra\n",
      "binary_search_steps                           10\n",
      "loss_f                                        DL\n",
      "steps                                       1000\n",
      "α_final                                   0.0001\n",
      "α_init                                         5\n",
      "γ_final                                    0.001\n",
      "γ_init                                      0.05\n",
      "Name: 144, dtype: object\n",
      "Files already downloaded and verified\n"
     ]
    },
    {
     "name": "stderr",
     "output_type": "stream",
     "text": [
      "100%|██████████| 2/2 [1:45:13<00:00, 3156.75s/it]\n"
     ]
    },
    {
     "name": "stdout",
     "output_type": "stream",
     "text": [
      "Done: 145/322\n",
      "dataset                                  CIFAR10\n",
      "norm                                          L2\n",
      "attack                                       fmn\n",
      "model                  Gowal2020Uncovering_extra\n",
      "binary_search_steps                           10\n",
      "loss_f                                        DL\n",
      "steps                                       1000\n",
      "α_final                                   0.0001\n",
      "α_init                                         5\n",
      "γ_final                                    0.001\n",
      "γ_init                                      0.03\n",
      "Name: 145, dtype: object\n",
      "Files already downloaded and verified\n"
     ]
    },
    {
     "name": "stderr",
     "output_type": "stream",
     "text": [
      "100%|██████████| 2/2 [1:44:59<00:00, 3149.79s/it]\n"
     ]
    },
    {
     "name": "stdout",
     "output_type": "stream",
     "text": [
      "Done: 146/322\n",
      "dataset                                  CIFAR10\n",
      "norm                                          L2\n",
      "attack                                       fmn\n",
      "model                  Gowal2020Uncovering_extra\n",
      "binary_search_steps                           10\n",
      "loss_f                                        DL\n",
      "steps                                       1000\n",
      "α_final                                   0.0001\n",
      "α_init                                        10\n",
      "γ_final                                    0.001\n",
      "γ_init                                      0.05\n",
      "Name: 146, dtype: object\n",
      "Files already downloaded and verified\n"
     ]
    },
    {
     "name": "stderr",
     "output_type": "stream",
     "text": [
      "100%|██████████| 2/2 [1:44:52<00:00, 3146.20s/it]\n"
     ]
    },
    {
     "name": "stdout",
     "output_type": "stream",
     "text": [
      "Done: 147/322\n",
      "dataset                                  CIFAR10\n",
      "norm                                          L2\n",
      "attack                                       fmn\n",
      "model                  Gowal2020Uncovering_extra\n",
      "binary_search_steps                           10\n",
      "loss_f                                        DL\n",
      "steps                                       1000\n",
      "α_final                                   0.0001\n",
      "α_init                                        10\n",
      "γ_final                                    0.001\n",
      "γ_init                                      0.03\n",
      "Name: 147, dtype: object\n",
      "Files already downloaded and verified\n"
     ]
    },
    {
     "name": "stderr",
     "output_type": "stream",
     "text": [
      "100%|██████████| 2/2 [1:44:50<00:00, 3145.32s/it]\n"
     ]
    },
    {
     "name": "stdout",
     "output_type": "stream",
     "text": [
      "Done: 148/322\n",
      "dataset                                            CIFAR10\n",
      "norm                                                    L2\n",
      "attack                                                 fmn\n",
      "model                  Rebuffi2021Fixing_70_16_cutmix_ddpm\n",
      "binary_search_steps                                     10\n",
      "loss_f                                                  DL\n",
      "steps                                                  100\n",
      "α_final                                             0.0001\n",
      "α_init                                                   1\n",
      "γ_final                                              0.001\n",
      "γ_init                                                0.05\n",
      "Name: 160, dtype: object\n",
      "Files already downloaded and verified\n"
     ]
    },
    {
     "name": "stderr",
     "output_type": "stream",
     "text": [
      "100%|██████████| 2/2 [10:28<00:00, 314.19s/it]\n"
     ]
    },
    {
     "name": "stdout",
     "output_type": "stream",
     "text": [
      "Done: 161/322\n",
      "dataset                                            CIFAR10\n",
      "norm                                                    L2\n",
      "attack                                                 fmn\n",
      "model                  Rebuffi2021Fixing_70_16_cutmix_ddpm\n",
      "binary_search_steps                                     10\n",
      "loss_f                                                  DL\n",
      "steps                                                  100\n",
      "α_final                                             0.0001\n",
      "α_init                                                   1\n",
      "γ_final                                              0.001\n",
      "γ_init                                                0.03\n",
      "Name: 161, dtype: object\n",
      "Files already downloaded and verified\n"
     ]
    },
    {
     "name": "stderr",
     "output_type": "stream",
     "text": [
      "100%|██████████| 2/2 [10:28<00:00, 314.45s/it]\n"
     ]
    },
    {
     "name": "stdout",
     "output_type": "stream",
     "text": [
      "Done: 162/322\n",
      "dataset                                            CIFAR10\n",
      "norm                                                    L2\n",
      "attack                                                 fmn\n",
      "model                  Rebuffi2021Fixing_70_16_cutmix_ddpm\n",
      "binary_search_steps                                     10\n",
      "loss_f                                                  DL\n",
      "steps                                                  100\n",
      "α_final                                             0.0001\n",
      "α_init                                                   5\n",
      "γ_final                                              0.001\n",
      "γ_init                                                0.05\n",
      "Name: 162, dtype: object\n",
      "Files already downloaded and verified\n"
     ]
    },
    {
     "name": "stderr",
     "output_type": "stream",
     "text": [
      "100%|██████████| 2/2 [10:29<00:00, 314.85s/it]\n"
     ]
    },
    {
     "name": "stdout",
     "output_type": "stream",
     "text": [
      "Done: 163/322\n",
      "dataset                                            CIFAR10\n",
      "norm                                                    L2\n",
      "attack                                                 fmn\n",
      "model                  Rebuffi2021Fixing_70_16_cutmix_ddpm\n",
      "binary_search_steps                                     10\n",
      "loss_f                                                  DL\n",
      "steps                                                  100\n",
      "α_final                                             0.0001\n",
      "α_init                                                   5\n",
      "γ_final                                              0.001\n",
      "γ_init                                                0.03\n",
      "Name: 163, dtype: object\n",
      "Files already downloaded and verified\n"
     ]
    },
    {
     "name": "stderr",
     "output_type": "stream",
     "text": [
      "100%|██████████| 2/2 [10:29<00:00, 314.77s/it]\n"
     ]
    },
    {
     "name": "stdout",
     "output_type": "stream",
     "text": [
      "Done: 164/322\n",
      "dataset                                            CIFAR10\n",
      "norm                                                    L2\n",
      "attack                                                 fmn\n",
      "model                  Rebuffi2021Fixing_70_16_cutmix_ddpm\n",
      "binary_search_steps                                     10\n",
      "loss_f                                                  DL\n",
      "steps                                                  100\n",
      "α_final                                             0.0001\n",
      "α_init                                                  10\n",
      "γ_final                                              0.001\n",
      "γ_init                                                0.05\n",
      "Name: 164, dtype: object\n",
      "Files already downloaded and verified\n"
     ]
    },
    {
     "name": "stderr",
     "output_type": "stream",
     "text": [
      "100%|██████████| 2/2 [10:29<00:00, 314.85s/it]\n"
     ]
    },
    {
     "name": "stdout",
     "output_type": "stream",
     "text": [
      "Done: 165/322\n",
      "dataset                                            CIFAR10\n",
      "norm                                                    L2\n",
      "attack                                                 fmn\n",
      "model                  Rebuffi2021Fixing_70_16_cutmix_ddpm\n",
      "binary_search_steps                                     10\n",
      "loss_f                                                  DL\n",
      "steps                                                  100\n",
      "α_final                                             0.0001\n",
      "α_init                                                  10\n",
      "γ_final                                              0.001\n",
      "γ_init                                                0.03\n",
      "Name: 165, dtype: object\n",
      "Files already downloaded and verified\n"
     ]
    },
    {
     "name": "stderr",
     "output_type": "stream",
     "text": [
      "100%|██████████| 2/2 [10:29<00:00, 314.91s/it]\n"
     ]
    },
    {
     "name": "stdout",
     "output_type": "stream",
     "text": [
      "Done: 166/322\n",
      "dataset                                            CIFAR10\n",
      "norm                                                    L2\n",
      "attack                                                 fmn\n",
      "model                  Rebuffi2021Fixing_70_16_cutmix_ddpm\n",
      "binary_search_steps                                     10\n",
      "loss_f                                                  DL\n",
      "steps                                                 1000\n",
      "α_final                                             0.0001\n",
      "α_init                                                   1\n",
      "γ_final                                              0.001\n",
      "γ_init                                                0.05\n",
      "Name: 166, dtype: object\n",
      "Files already downloaded and verified\n"
     ]
    },
    {
     "name": "stderr",
     "output_type": "stream",
     "text": [
      "100%|██████████| 2/2 [1:44:46<00:00, 3143.25s/it]\n"
     ]
    },
    {
     "name": "stdout",
     "output_type": "stream",
     "text": [
      "Done: 167/322\n",
      "dataset                                            CIFAR10\n",
      "norm                                                    L2\n",
      "attack                                                 fmn\n",
      "model                  Rebuffi2021Fixing_70_16_cutmix_ddpm\n",
      "binary_search_steps                                     10\n",
      "loss_f                                                  DL\n",
      "steps                                                 1000\n",
      "α_final                                             0.0001\n",
      "α_init                                                   1\n",
      "γ_final                                              0.001\n",
      "γ_init                                                0.03\n",
      "Name: 167, dtype: object\n",
      "Files already downloaded and verified\n"
     ]
    },
    {
     "name": "stderr",
     "output_type": "stream",
     "text": [
      " 50%|█████     | 1/2 [52:18<52:18, 3138.21s/it]"
     ]
    }
   ],
   "source": [
    "sweeper.save_df()\n",
    "sweeper.sweep(n_samples=200,device=None, recompute=False, batch_size=100)\n",
    "sweeper.save_df()"
   ]
  },
  {
   "cell_type": "code",
   "execution_count": null,
   "metadata": {
    "pycharm": {
     "name": "#%%\n"
    }
   },
   "outputs": [],
   "source": [
    "# sweeper.logger.where(model=\"Maini2020MultipleAVG\")"
   ]
  },
  {
   "cell_type": "code",
   "execution_count": null,
   "metadata": {
    "pycharm": {
     "name": "#%%\n"
    }
   },
   "outputs": [],
   "source": [
    "settings = {\"attack\":\"\", \"model\":\"Eng\", \"-norm\":\"Linf\", \"norm\":\"Linf\"}"
   ]
  },
  {
   "cell_type": "code",
   "execution_count": null,
   "metadata": {
    "pycharm": {
     "name": "#%%\n"
    }
   },
   "outputs": [],
   "source": [
    "import matplotlib.pyplot as plt\n",
    "\n",
    "# todo - put this into functions in some plot_utils file\n",
    "# tofo - support filtering/splitting into multiple plots (e.g. plot only one model)\n",
    "\n",
    "plt.figure(figsize=(15,10))\n",
    "keys = []\n",
    "for key in sweeper.logger.where(**settings):\n",
    "    sweeper.logger.plot_QD(key)\n",
    "    keys.append(key)\n",
    "plt.legend(keys)#, bbox_to_anchor =(0.65, 1.25))\n",
    "plt.ylabel(settings[\"norm\"])\n",
    "plt.xlabel(\"Query\")\n",
    "plt.xscale('log')\n",
    "None"
   ]
  },
  {
   "cell_type": "code",
   "execution_count": null,
   "metadata": {
    "pycharm": {
     "name": "#%%\n"
    }
   },
   "outputs": [],
   "source": [
    "plt.figure(figsize=(15,10))\n",
    "keys = []\n",
    "for key in sweeper.logger.where(**settings):\n",
    "    sweeper.logger.plot_progress(kind=\"loss\", run_id=key)\n",
    "    keys.append(key)\n",
    "plt.legend(keys)#, bbox_to_anchor =(0.65, 1.25))\n",
    "plt.ylabel(\"DL Loss\")\n",
    "plt.xlabel(\"Query\")\n",
    "None"
   ]
  },
  {
   "cell_type": "code",
   "execution_count": null,
   "metadata": {
    "pycharm": {
     "name": "#%%\n"
    }
   },
   "outputs": [],
   "source": [
    "plt.figure(figsize=(15,10))\n",
    "for key in sweeper.logger.where(**settings):\n",
    "    sweeper.logger.plot_progress(kind=\"acc\", run_id=key)\n",
    "plt.legend([*sweeper.logger.dict.keys()])#, bbox_to_anchor =(0.65, 1.25))\n",
    "plt.ylabel(\"Accuracy\")\n",
    "plt.xlabel(\"Query\")\n",
    "None"
   ]
  },
  {
   "cell_type": "code",
   "execution_count": null,
   "metadata": {
    "pycharm": {
     "name": "#%%\n"
    }
   },
   "outputs": [],
   "source": []
  },
  {
   "cell_type": "code",
   "execution_count": null,
   "metadata": {
    "pycharm": {
     "name": "#%%\n"
    }
   },
   "outputs": [],
   "source": []
  }
 ],
 "metadata": {
  "kernelspec": {
   "display_name": "Python 3",
   "language": "python",
   "name": "python3"
  },
  "language_info": {
   "codemirror_mode": {
    "name": "ipython",
    "version": 3
   },
   "file_extension": ".py",
   "mimetype": "text/x-python",
   "name": "python",
   "nbconvert_exporter": "python",
   "pygments_lexer": "ipython3",
   "version": "3.8.5"
  }
 },
 "nbformat": 4,
 "nbformat_minor": 4
}

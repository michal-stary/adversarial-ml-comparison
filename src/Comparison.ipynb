{
 "cells": [
  {
   "cell_type": "code",
   "execution_count": 72,
   "metadata": {
    "collapsed": true
   },
   "outputs": [
    {
     "name": "stdout",
     "output_type": "stream",
     "text": [
      "The autoreload extension is already loaded. To reload it, use:\n",
      "  %reload_ext autoreload\n"
     ]
    }
   ],
   "source": [
    "from sweeping import Sweeper\n",
    "import matplotlib.pyplot as plt\n",
    "\n",
    "%load_ext autoreload\n",
    "%autoreload 2"
   ]
  },
  {
   "cell_type": "code",
   "execution_count": 73,
   "outputs": [],
   "source": [
    "sweeper = Sweeper.from_jsonfile(\"config.json\")"
   ],
   "metadata": {
    "collapsed": false,
    "pycharm": {
     "name": "#%%\n"
    }
   }
  },
  {
   "cell_type": "code",
   "execution_count": 74,
   "outputs": [
    {
     "data": {
      "text/plain": "    dataset attack  norm                                model  \\\n0   CIFAR10   alma    L1  Augustin2020Adversarial_34_10_extra   \n1   CIFAR10   alma    L1  Augustin2020Adversarial_34_10_extra   \n2   CIFAR10   alma    L1               Engstrom2019Robustness   \n3   CIFAR10   alma    L1               Engstrom2019Robustness   \n4   CIFAR10   alma    L1               Engstrom2019Robustness   \n5   CIFAR10   alma    L1               Engstrom2019Robustness   \n6   CIFAR10   alma    L2               Engstrom2019Robustness   \n7   CIFAR10   alma    L2               Engstrom2019Robustness   \n8   CIFAR10   alma    L2              Rade2021Helper_R18_ddpm   \n9   CIFAR10   alma    L2              Rade2021Helper_R18_ddpm   \n10  CIFAR10   alma    L2    Rebuffi2021Fixing_R18_cutmix_ddpm   \n11  CIFAR10   alma    L2    Rebuffi2021Fixing_R18_cutmix_ddpm   \n12  CIFAR10   apgd    L1  Augustin2020Adversarial_34_10_extra   \n13  CIFAR10   apgd    L1  Augustin2020Adversarial_34_10_extra   \n14  CIFAR10   apgd    L1               Engstrom2019Robustness   \n15  CIFAR10   apgd    L1               Engstrom2019Robustness   \n16  CIFAR10   apgd    L1               Engstrom2019Robustness   \n17  CIFAR10   apgd    L1               Engstrom2019Robustness   \n18  CIFAR10   apgd  Linf               Engstrom2019Robustness   \n19  CIFAR10   apgd  Linf               Engstrom2019Robustness   \n20  CIFAR10   apgd  Linf     Gowal2021Improving_R18_ddpm_100m   \n21  CIFAR10   apgd  Linf     Gowal2021Improving_R18_ddpm_100m   \n22  CIFAR10   apgd  Linf             Rade2021Helper_R18_extra   \n23  CIFAR10   apgd  Linf             Rade2021Helper_R18_extra   \n24  CIFAR10    fmn    L1  Augustin2020Adversarial_34_10_extra   \n25  CIFAR10    fmn    L1  Augustin2020Adversarial_34_10_extra   \n26  CIFAR10    fmn    L1               Engstrom2019Robustness   \n27  CIFAR10    fmn    L1               Engstrom2019Robustness   \n28  CIFAR10    fmn    L1               Engstrom2019Robustness   \n29  CIFAR10    fmn    L1               Engstrom2019Robustness   \n30  CIFAR10    fmn    L2               Engstrom2019Robustness   \n31  CIFAR10    fmn    L2               Engstrom2019Robustness   \n32  CIFAR10    fmn    L2              Rade2021Helper_R18_ddpm   \n33  CIFAR10    fmn    L2              Rade2021Helper_R18_ddpm   \n34  CIFAR10    fmn    L2    Rebuffi2021Fixing_R18_cutmix_ddpm   \n35  CIFAR10    fmn    L2    Rebuffi2021Fixing_R18_cutmix_ddpm   \n36  CIFAR10    fmn  Linf               Engstrom2019Robustness   \n37  CIFAR10    fmn  Linf               Engstrom2019Robustness   \n38  CIFAR10    fmn  Linf     Gowal2021Improving_R18_ddpm_100m   \n39  CIFAR10    fmn  Linf     Gowal2021Improving_R18_ddpm_100m   \n40  CIFAR10    fmn  Linf             Rade2021Helper_R18_extra   \n41  CIFAR10    fmn  Linf             Rade2021Helper_R18_extra   \n\n    binary_search_steps loss_f  steps  α_final  α_init  γ_final  γ_init  \\\n0                  <NA>     DL   <NA>     <NA>    <NA>     <NA>    <NA>   \n1                  <NA>     DL   <NA>     <NA>    <NA>     <NA>    <NA>   \n2                  <NA>     DL   <NA>     <NA>    <NA>     <NA>    <NA>   \n3                  <NA>     DL   <NA>     <NA>    <NA>     <NA>    <NA>   \n4                  <NA>     DL   <NA>     <NA>    <NA>     <NA>    <NA>   \n5                  <NA>     DL   <NA>     <NA>    <NA>     <NA>    <NA>   \n6                  <NA>     DL   <NA>     <NA>    <NA>     <NA>    <NA>   \n7                  <NA>     DL   <NA>     <NA>    <NA>     <NA>    <NA>   \n8                  <NA>     DL   <NA>     <NA>    <NA>     <NA>    <NA>   \n9                  <NA>     DL   <NA>     <NA>    <NA>     <NA>    <NA>   \n10                 <NA>     DL   <NA>     <NA>    <NA>     <NA>    <NA>   \n11                 <NA>     DL   <NA>     <NA>    <NA>     <NA>    <NA>   \n12                   10     DL   <NA>     <NA>    <NA>     <NA>    <NA>   \n13                   10     DL   <NA>     <NA>    <NA>     <NA>    <NA>   \n14                   10     DL   <NA>     <NA>    <NA>     <NA>    <NA>   \n15                   10     DL   <NA>     <NA>    <NA>     <NA>    <NA>   \n16                   10     DL   <NA>     <NA>    <NA>     <NA>    <NA>   \n17                   10     DL   <NA>     <NA>    <NA>     <NA>    <NA>   \n18                   10     DL   <NA>     <NA>    <NA>     <NA>    <NA>   \n19                   10     DL   <NA>     <NA>    <NA>     <NA>    <NA>   \n20                   10     DL   <NA>     <NA>    <NA>     <NA>    <NA>   \n21                   10     DL   <NA>     <NA>    <NA>     <NA>    <NA>   \n22                   10     DL   <NA>     <NA>    <NA>     <NA>    <NA>   \n23                   10     DL   <NA>     <NA>    <NA>     <NA>    <NA>   \n24                 <NA>     DL    100     <NA>    <NA>     <NA>    <NA>   \n25                 <NA>     DL   1000     <NA>    <NA>     <NA>    <NA>   \n26                 <NA>     DL    100     <NA>    <NA>     <NA>    <NA>   \n27                 <NA>     DL    100     <NA>    <NA>     <NA>    <NA>   \n28                 <NA>     DL   1000     <NA>    <NA>     <NA>    <NA>   \n29                 <NA>     DL   1000     <NA>    <NA>     <NA>    <NA>   \n30                 <NA>     DL    100     <NA>    <NA>     <NA>    <NA>   \n31                 <NA>     DL   1000     <NA>    <NA>     <NA>    <NA>   \n32                 <NA>     DL    100     <NA>    <NA>     <NA>    <NA>   \n33                 <NA>     DL   1000     <NA>    <NA>     <NA>    <NA>   \n34                 <NA>     DL    100     <NA>    <NA>     <NA>    <NA>   \n35                 <NA>     DL   1000     <NA>    <NA>     <NA>    <NA>   \n36                   10     DL    100     <NA>       1    0.001    0.05   \n37                   10     DL   1000     <NA>       1    0.001    0.05   \n38                   10     DL    100     <NA>       1    0.001    0.05   \n39                   10     DL   1000     <NA>       1    0.001    0.05   \n40                   10     DL    100     <NA>       1    0.001    0.05   \n41                   10     DL   1000     <NA>       1    0.001    0.05   \n\n    max_eps  n_iter  num_steps threat_norm  \n0      <NA>    <NA>        100          L2  \n1      <NA>    <NA>       1000          L2  \n2      <NA>    <NA>        100          L2  \n3      <NA>    <NA>        100        Linf  \n4      <NA>    <NA>       1000          L2  \n5      <NA>    <NA>       1000        Linf  \n6      <NA>    <NA>        100        <NA>  \n7      <NA>    <NA>       1000        <NA>  \n8      <NA>    <NA>        100        <NA>  \n9      <NA>    <NA>       1000        <NA>  \n10     <NA>    <NA>        100        <NA>  \n11     <NA>    <NA>       1000        <NA>  \n12     12.0     100       <NA>          L2  \n13     24.0     100       <NA>          L2  \n14     12.0     100       <NA>        Linf  \n15     12.0     100       <NA>          L2  \n16     24.0     100       <NA>        Linf  \n17     24.0     100       <NA>          L2  \n18    0.032     100       <NA>        <NA>  \n19      0.1     100       <NA>        <NA>  \n20    0.032     100       <NA>        <NA>  \n21      0.1     100       <NA>        <NA>  \n22    0.032     100       <NA>        <NA>  \n23      0.1     100       <NA>        <NA>  \n24     <NA>    <NA>       <NA>          L2  \n25     <NA>    <NA>       <NA>          L2  \n26     <NA>    <NA>       <NA>          L2  \n27     <NA>    <NA>       <NA>        Linf  \n28     <NA>    <NA>       <NA>          L2  \n29     <NA>    <NA>       <NA>        Linf  \n30     <NA>    <NA>       <NA>        <NA>  \n31     <NA>    <NA>       <NA>        <NA>  \n32     <NA>    <NA>       <NA>        <NA>  \n33     <NA>    <NA>       <NA>        <NA>  \n34     <NA>    <NA>       <NA>        <NA>  \n35     <NA>    <NA>       <NA>        <NA>  \n36     <NA>    <NA>       <NA>        <NA>  \n37     <NA>    <NA>       <NA>        <NA>  \n38     <NA>    <NA>       <NA>        <NA>  \n39     <NA>    <NA>       <NA>        <NA>  \n40     <NA>    <NA>       <NA>        <NA>  \n41     <NA>    <NA>       <NA>        <NA>  ",
      "text/html": "<div>\n<style scoped>\n    .dataframe tbody tr th:only-of-type {\n        vertical-align: middle;\n    }\n\n    .dataframe tbody tr th {\n        vertical-align: top;\n    }\n\n    .dataframe thead th {\n        text-align: right;\n    }\n</style>\n<table border=\"1\" class=\"dataframe\">\n  <thead>\n    <tr style=\"text-align: right;\">\n      <th></th>\n      <th>dataset</th>\n      <th>attack</th>\n      <th>norm</th>\n      <th>model</th>\n      <th>binary_search_steps</th>\n      <th>loss_f</th>\n      <th>steps</th>\n      <th>α_final</th>\n      <th>α_init</th>\n      <th>γ_final</th>\n      <th>γ_init</th>\n      <th>max_eps</th>\n      <th>n_iter</th>\n      <th>num_steps</th>\n      <th>threat_norm</th>\n    </tr>\n  </thead>\n  <tbody>\n    <tr>\n      <th>0</th>\n      <td>CIFAR10</td>\n      <td>alma</td>\n      <td>L1</td>\n      <td>Augustin2020Adversarial_34_10_extra</td>\n      <td>&lt;NA&gt;</td>\n      <td>DL</td>\n      <td>&lt;NA&gt;</td>\n      <td>&lt;NA&gt;</td>\n      <td>&lt;NA&gt;</td>\n      <td>&lt;NA&gt;</td>\n      <td>&lt;NA&gt;</td>\n      <td>&lt;NA&gt;</td>\n      <td>&lt;NA&gt;</td>\n      <td>100</td>\n      <td>L2</td>\n    </tr>\n    <tr>\n      <th>1</th>\n      <td>CIFAR10</td>\n      <td>alma</td>\n      <td>L1</td>\n      <td>Augustin2020Adversarial_34_10_extra</td>\n      <td>&lt;NA&gt;</td>\n      <td>DL</td>\n      <td>&lt;NA&gt;</td>\n      <td>&lt;NA&gt;</td>\n      <td>&lt;NA&gt;</td>\n      <td>&lt;NA&gt;</td>\n      <td>&lt;NA&gt;</td>\n      <td>&lt;NA&gt;</td>\n      <td>&lt;NA&gt;</td>\n      <td>1000</td>\n      <td>L2</td>\n    </tr>\n    <tr>\n      <th>2</th>\n      <td>CIFAR10</td>\n      <td>alma</td>\n      <td>L1</td>\n      <td>Engstrom2019Robustness</td>\n      <td>&lt;NA&gt;</td>\n      <td>DL</td>\n      <td>&lt;NA&gt;</td>\n      <td>&lt;NA&gt;</td>\n      <td>&lt;NA&gt;</td>\n      <td>&lt;NA&gt;</td>\n      <td>&lt;NA&gt;</td>\n      <td>&lt;NA&gt;</td>\n      <td>&lt;NA&gt;</td>\n      <td>100</td>\n      <td>L2</td>\n    </tr>\n    <tr>\n      <th>3</th>\n      <td>CIFAR10</td>\n      <td>alma</td>\n      <td>L1</td>\n      <td>Engstrom2019Robustness</td>\n      <td>&lt;NA&gt;</td>\n      <td>DL</td>\n      <td>&lt;NA&gt;</td>\n      <td>&lt;NA&gt;</td>\n      <td>&lt;NA&gt;</td>\n      <td>&lt;NA&gt;</td>\n      <td>&lt;NA&gt;</td>\n      <td>&lt;NA&gt;</td>\n      <td>&lt;NA&gt;</td>\n      <td>100</td>\n      <td>Linf</td>\n    </tr>\n    <tr>\n      <th>4</th>\n      <td>CIFAR10</td>\n      <td>alma</td>\n      <td>L1</td>\n      <td>Engstrom2019Robustness</td>\n      <td>&lt;NA&gt;</td>\n      <td>DL</td>\n      <td>&lt;NA&gt;</td>\n      <td>&lt;NA&gt;</td>\n      <td>&lt;NA&gt;</td>\n      <td>&lt;NA&gt;</td>\n      <td>&lt;NA&gt;</td>\n      <td>&lt;NA&gt;</td>\n      <td>&lt;NA&gt;</td>\n      <td>1000</td>\n      <td>L2</td>\n    </tr>\n    <tr>\n      <th>5</th>\n      <td>CIFAR10</td>\n      <td>alma</td>\n      <td>L1</td>\n      <td>Engstrom2019Robustness</td>\n      <td>&lt;NA&gt;</td>\n      <td>DL</td>\n      <td>&lt;NA&gt;</td>\n      <td>&lt;NA&gt;</td>\n      <td>&lt;NA&gt;</td>\n      <td>&lt;NA&gt;</td>\n      <td>&lt;NA&gt;</td>\n      <td>&lt;NA&gt;</td>\n      <td>&lt;NA&gt;</td>\n      <td>1000</td>\n      <td>Linf</td>\n    </tr>\n    <tr>\n      <th>6</th>\n      <td>CIFAR10</td>\n      <td>alma</td>\n      <td>L2</td>\n      <td>Engstrom2019Robustness</td>\n      <td>&lt;NA&gt;</td>\n      <td>DL</td>\n      <td>&lt;NA&gt;</td>\n      <td>&lt;NA&gt;</td>\n      <td>&lt;NA&gt;</td>\n      <td>&lt;NA&gt;</td>\n      <td>&lt;NA&gt;</td>\n      <td>&lt;NA&gt;</td>\n      <td>&lt;NA&gt;</td>\n      <td>100</td>\n      <td>&lt;NA&gt;</td>\n    </tr>\n    <tr>\n      <th>7</th>\n      <td>CIFAR10</td>\n      <td>alma</td>\n      <td>L2</td>\n      <td>Engstrom2019Robustness</td>\n      <td>&lt;NA&gt;</td>\n      <td>DL</td>\n      <td>&lt;NA&gt;</td>\n      <td>&lt;NA&gt;</td>\n      <td>&lt;NA&gt;</td>\n      <td>&lt;NA&gt;</td>\n      <td>&lt;NA&gt;</td>\n      <td>&lt;NA&gt;</td>\n      <td>&lt;NA&gt;</td>\n      <td>1000</td>\n      <td>&lt;NA&gt;</td>\n    </tr>\n    <tr>\n      <th>8</th>\n      <td>CIFAR10</td>\n      <td>alma</td>\n      <td>L2</td>\n      <td>Rade2021Helper_R18_ddpm</td>\n      <td>&lt;NA&gt;</td>\n      <td>DL</td>\n      <td>&lt;NA&gt;</td>\n      <td>&lt;NA&gt;</td>\n      <td>&lt;NA&gt;</td>\n      <td>&lt;NA&gt;</td>\n      <td>&lt;NA&gt;</td>\n      <td>&lt;NA&gt;</td>\n      <td>&lt;NA&gt;</td>\n      <td>100</td>\n      <td>&lt;NA&gt;</td>\n    </tr>\n    <tr>\n      <th>9</th>\n      <td>CIFAR10</td>\n      <td>alma</td>\n      <td>L2</td>\n      <td>Rade2021Helper_R18_ddpm</td>\n      <td>&lt;NA&gt;</td>\n      <td>DL</td>\n      <td>&lt;NA&gt;</td>\n      <td>&lt;NA&gt;</td>\n      <td>&lt;NA&gt;</td>\n      <td>&lt;NA&gt;</td>\n      <td>&lt;NA&gt;</td>\n      <td>&lt;NA&gt;</td>\n      <td>&lt;NA&gt;</td>\n      <td>1000</td>\n      <td>&lt;NA&gt;</td>\n    </tr>\n    <tr>\n      <th>10</th>\n      <td>CIFAR10</td>\n      <td>alma</td>\n      <td>L2</td>\n      <td>Rebuffi2021Fixing_R18_cutmix_ddpm</td>\n      <td>&lt;NA&gt;</td>\n      <td>DL</td>\n      <td>&lt;NA&gt;</td>\n      <td>&lt;NA&gt;</td>\n      <td>&lt;NA&gt;</td>\n      <td>&lt;NA&gt;</td>\n      <td>&lt;NA&gt;</td>\n      <td>&lt;NA&gt;</td>\n      <td>&lt;NA&gt;</td>\n      <td>100</td>\n      <td>&lt;NA&gt;</td>\n    </tr>\n    <tr>\n      <th>11</th>\n      <td>CIFAR10</td>\n      <td>alma</td>\n      <td>L2</td>\n      <td>Rebuffi2021Fixing_R18_cutmix_ddpm</td>\n      <td>&lt;NA&gt;</td>\n      <td>DL</td>\n      <td>&lt;NA&gt;</td>\n      <td>&lt;NA&gt;</td>\n      <td>&lt;NA&gt;</td>\n      <td>&lt;NA&gt;</td>\n      <td>&lt;NA&gt;</td>\n      <td>&lt;NA&gt;</td>\n      <td>&lt;NA&gt;</td>\n      <td>1000</td>\n      <td>&lt;NA&gt;</td>\n    </tr>\n    <tr>\n      <th>12</th>\n      <td>CIFAR10</td>\n      <td>apgd</td>\n      <td>L1</td>\n      <td>Augustin2020Adversarial_34_10_extra</td>\n      <td>10</td>\n      <td>DL</td>\n      <td>&lt;NA&gt;</td>\n      <td>&lt;NA&gt;</td>\n      <td>&lt;NA&gt;</td>\n      <td>&lt;NA&gt;</td>\n      <td>&lt;NA&gt;</td>\n      <td>12.0</td>\n      <td>100</td>\n      <td>&lt;NA&gt;</td>\n      <td>L2</td>\n    </tr>\n    <tr>\n      <th>13</th>\n      <td>CIFAR10</td>\n      <td>apgd</td>\n      <td>L1</td>\n      <td>Augustin2020Adversarial_34_10_extra</td>\n      <td>10</td>\n      <td>DL</td>\n      <td>&lt;NA&gt;</td>\n      <td>&lt;NA&gt;</td>\n      <td>&lt;NA&gt;</td>\n      <td>&lt;NA&gt;</td>\n      <td>&lt;NA&gt;</td>\n      <td>24.0</td>\n      <td>100</td>\n      <td>&lt;NA&gt;</td>\n      <td>L2</td>\n    </tr>\n    <tr>\n      <th>14</th>\n      <td>CIFAR10</td>\n      <td>apgd</td>\n      <td>L1</td>\n      <td>Engstrom2019Robustness</td>\n      <td>10</td>\n      <td>DL</td>\n      <td>&lt;NA&gt;</td>\n      <td>&lt;NA&gt;</td>\n      <td>&lt;NA&gt;</td>\n      <td>&lt;NA&gt;</td>\n      <td>&lt;NA&gt;</td>\n      <td>12.0</td>\n      <td>100</td>\n      <td>&lt;NA&gt;</td>\n      <td>Linf</td>\n    </tr>\n    <tr>\n      <th>15</th>\n      <td>CIFAR10</td>\n      <td>apgd</td>\n      <td>L1</td>\n      <td>Engstrom2019Robustness</td>\n      <td>10</td>\n      <td>DL</td>\n      <td>&lt;NA&gt;</td>\n      <td>&lt;NA&gt;</td>\n      <td>&lt;NA&gt;</td>\n      <td>&lt;NA&gt;</td>\n      <td>&lt;NA&gt;</td>\n      <td>12.0</td>\n      <td>100</td>\n      <td>&lt;NA&gt;</td>\n      <td>L2</td>\n    </tr>\n    <tr>\n      <th>16</th>\n      <td>CIFAR10</td>\n      <td>apgd</td>\n      <td>L1</td>\n      <td>Engstrom2019Robustness</td>\n      <td>10</td>\n      <td>DL</td>\n      <td>&lt;NA&gt;</td>\n      <td>&lt;NA&gt;</td>\n      <td>&lt;NA&gt;</td>\n      <td>&lt;NA&gt;</td>\n      <td>&lt;NA&gt;</td>\n      <td>24.0</td>\n      <td>100</td>\n      <td>&lt;NA&gt;</td>\n      <td>Linf</td>\n    </tr>\n    <tr>\n      <th>17</th>\n      <td>CIFAR10</td>\n      <td>apgd</td>\n      <td>L1</td>\n      <td>Engstrom2019Robustness</td>\n      <td>10</td>\n      <td>DL</td>\n      <td>&lt;NA&gt;</td>\n      <td>&lt;NA&gt;</td>\n      <td>&lt;NA&gt;</td>\n      <td>&lt;NA&gt;</td>\n      <td>&lt;NA&gt;</td>\n      <td>24.0</td>\n      <td>100</td>\n      <td>&lt;NA&gt;</td>\n      <td>L2</td>\n    </tr>\n    <tr>\n      <th>18</th>\n      <td>CIFAR10</td>\n      <td>apgd</td>\n      <td>Linf</td>\n      <td>Engstrom2019Robustness</td>\n      <td>10</td>\n      <td>DL</td>\n      <td>&lt;NA&gt;</td>\n      <td>&lt;NA&gt;</td>\n      <td>&lt;NA&gt;</td>\n      <td>&lt;NA&gt;</td>\n      <td>&lt;NA&gt;</td>\n      <td>0.032</td>\n      <td>100</td>\n      <td>&lt;NA&gt;</td>\n      <td>&lt;NA&gt;</td>\n    </tr>\n    <tr>\n      <th>19</th>\n      <td>CIFAR10</td>\n      <td>apgd</td>\n      <td>Linf</td>\n      <td>Engstrom2019Robustness</td>\n      <td>10</td>\n      <td>DL</td>\n      <td>&lt;NA&gt;</td>\n      <td>&lt;NA&gt;</td>\n      <td>&lt;NA&gt;</td>\n      <td>&lt;NA&gt;</td>\n      <td>&lt;NA&gt;</td>\n      <td>0.1</td>\n      <td>100</td>\n      <td>&lt;NA&gt;</td>\n      <td>&lt;NA&gt;</td>\n    </tr>\n    <tr>\n      <th>20</th>\n      <td>CIFAR10</td>\n      <td>apgd</td>\n      <td>Linf</td>\n      <td>Gowal2021Improving_R18_ddpm_100m</td>\n      <td>10</td>\n      <td>DL</td>\n      <td>&lt;NA&gt;</td>\n      <td>&lt;NA&gt;</td>\n      <td>&lt;NA&gt;</td>\n      <td>&lt;NA&gt;</td>\n      <td>&lt;NA&gt;</td>\n      <td>0.032</td>\n      <td>100</td>\n      <td>&lt;NA&gt;</td>\n      <td>&lt;NA&gt;</td>\n    </tr>\n    <tr>\n      <th>21</th>\n      <td>CIFAR10</td>\n      <td>apgd</td>\n      <td>Linf</td>\n      <td>Gowal2021Improving_R18_ddpm_100m</td>\n      <td>10</td>\n      <td>DL</td>\n      <td>&lt;NA&gt;</td>\n      <td>&lt;NA&gt;</td>\n      <td>&lt;NA&gt;</td>\n      <td>&lt;NA&gt;</td>\n      <td>&lt;NA&gt;</td>\n      <td>0.1</td>\n      <td>100</td>\n      <td>&lt;NA&gt;</td>\n      <td>&lt;NA&gt;</td>\n    </tr>\n    <tr>\n      <th>22</th>\n      <td>CIFAR10</td>\n      <td>apgd</td>\n      <td>Linf</td>\n      <td>Rade2021Helper_R18_extra</td>\n      <td>10</td>\n      <td>DL</td>\n      <td>&lt;NA&gt;</td>\n      <td>&lt;NA&gt;</td>\n      <td>&lt;NA&gt;</td>\n      <td>&lt;NA&gt;</td>\n      <td>&lt;NA&gt;</td>\n      <td>0.032</td>\n      <td>100</td>\n      <td>&lt;NA&gt;</td>\n      <td>&lt;NA&gt;</td>\n    </tr>\n    <tr>\n      <th>23</th>\n      <td>CIFAR10</td>\n      <td>apgd</td>\n      <td>Linf</td>\n      <td>Rade2021Helper_R18_extra</td>\n      <td>10</td>\n      <td>DL</td>\n      <td>&lt;NA&gt;</td>\n      <td>&lt;NA&gt;</td>\n      <td>&lt;NA&gt;</td>\n      <td>&lt;NA&gt;</td>\n      <td>&lt;NA&gt;</td>\n      <td>0.1</td>\n      <td>100</td>\n      <td>&lt;NA&gt;</td>\n      <td>&lt;NA&gt;</td>\n    </tr>\n    <tr>\n      <th>24</th>\n      <td>CIFAR10</td>\n      <td>fmn</td>\n      <td>L1</td>\n      <td>Augustin2020Adversarial_34_10_extra</td>\n      <td>&lt;NA&gt;</td>\n      <td>DL</td>\n      <td>100</td>\n      <td>&lt;NA&gt;</td>\n      <td>&lt;NA&gt;</td>\n      <td>&lt;NA&gt;</td>\n      <td>&lt;NA&gt;</td>\n      <td>&lt;NA&gt;</td>\n      <td>&lt;NA&gt;</td>\n      <td>&lt;NA&gt;</td>\n      <td>L2</td>\n    </tr>\n    <tr>\n      <th>25</th>\n      <td>CIFAR10</td>\n      <td>fmn</td>\n      <td>L1</td>\n      <td>Augustin2020Adversarial_34_10_extra</td>\n      <td>&lt;NA&gt;</td>\n      <td>DL</td>\n      <td>1000</td>\n      <td>&lt;NA&gt;</td>\n      <td>&lt;NA&gt;</td>\n      <td>&lt;NA&gt;</td>\n      <td>&lt;NA&gt;</td>\n      <td>&lt;NA&gt;</td>\n      <td>&lt;NA&gt;</td>\n      <td>&lt;NA&gt;</td>\n      <td>L2</td>\n    </tr>\n    <tr>\n      <th>26</th>\n      <td>CIFAR10</td>\n      <td>fmn</td>\n      <td>L1</td>\n      <td>Engstrom2019Robustness</td>\n      <td>&lt;NA&gt;</td>\n      <td>DL</td>\n      <td>100</td>\n      <td>&lt;NA&gt;</td>\n      <td>&lt;NA&gt;</td>\n      <td>&lt;NA&gt;</td>\n      <td>&lt;NA&gt;</td>\n      <td>&lt;NA&gt;</td>\n      <td>&lt;NA&gt;</td>\n      <td>&lt;NA&gt;</td>\n      <td>L2</td>\n    </tr>\n    <tr>\n      <th>27</th>\n      <td>CIFAR10</td>\n      <td>fmn</td>\n      <td>L1</td>\n      <td>Engstrom2019Robustness</td>\n      <td>&lt;NA&gt;</td>\n      <td>DL</td>\n      <td>100</td>\n      <td>&lt;NA&gt;</td>\n      <td>&lt;NA&gt;</td>\n      <td>&lt;NA&gt;</td>\n      <td>&lt;NA&gt;</td>\n      <td>&lt;NA&gt;</td>\n      <td>&lt;NA&gt;</td>\n      <td>&lt;NA&gt;</td>\n      <td>Linf</td>\n    </tr>\n    <tr>\n      <th>28</th>\n      <td>CIFAR10</td>\n      <td>fmn</td>\n      <td>L1</td>\n      <td>Engstrom2019Robustness</td>\n      <td>&lt;NA&gt;</td>\n      <td>DL</td>\n      <td>1000</td>\n      <td>&lt;NA&gt;</td>\n      <td>&lt;NA&gt;</td>\n      <td>&lt;NA&gt;</td>\n      <td>&lt;NA&gt;</td>\n      <td>&lt;NA&gt;</td>\n      <td>&lt;NA&gt;</td>\n      <td>&lt;NA&gt;</td>\n      <td>L2</td>\n    </tr>\n    <tr>\n      <th>29</th>\n      <td>CIFAR10</td>\n      <td>fmn</td>\n      <td>L1</td>\n      <td>Engstrom2019Robustness</td>\n      <td>&lt;NA&gt;</td>\n      <td>DL</td>\n      <td>1000</td>\n      <td>&lt;NA&gt;</td>\n      <td>&lt;NA&gt;</td>\n      <td>&lt;NA&gt;</td>\n      <td>&lt;NA&gt;</td>\n      <td>&lt;NA&gt;</td>\n      <td>&lt;NA&gt;</td>\n      <td>&lt;NA&gt;</td>\n      <td>Linf</td>\n    </tr>\n    <tr>\n      <th>30</th>\n      <td>CIFAR10</td>\n      <td>fmn</td>\n      <td>L2</td>\n      <td>Engstrom2019Robustness</td>\n      <td>&lt;NA&gt;</td>\n      <td>DL</td>\n      <td>100</td>\n      <td>&lt;NA&gt;</td>\n      <td>&lt;NA&gt;</td>\n      <td>&lt;NA&gt;</td>\n      <td>&lt;NA&gt;</td>\n      <td>&lt;NA&gt;</td>\n      <td>&lt;NA&gt;</td>\n      <td>&lt;NA&gt;</td>\n      <td>&lt;NA&gt;</td>\n    </tr>\n    <tr>\n      <th>31</th>\n      <td>CIFAR10</td>\n      <td>fmn</td>\n      <td>L2</td>\n      <td>Engstrom2019Robustness</td>\n      <td>&lt;NA&gt;</td>\n      <td>DL</td>\n      <td>1000</td>\n      <td>&lt;NA&gt;</td>\n      <td>&lt;NA&gt;</td>\n      <td>&lt;NA&gt;</td>\n      <td>&lt;NA&gt;</td>\n      <td>&lt;NA&gt;</td>\n      <td>&lt;NA&gt;</td>\n      <td>&lt;NA&gt;</td>\n      <td>&lt;NA&gt;</td>\n    </tr>\n    <tr>\n      <th>32</th>\n      <td>CIFAR10</td>\n      <td>fmn</td>\n      <td>L2</td>\n      <td>Rade2021Helper_R18_ddpm</td>\n      <td>&lt;NA&gt;</td>\n      <td>DL</td>\n      <td>100</td>\n      <td>&lt;NA&gt;</td>\n      <td>&lt;NA&gt;</td>\n      <td>&lt;NA&gt;</td>\n      <td>&lt;NA&gt;</td>\n      <td>&lt;NA&gt;</td>\n      <td>&lt;NA&gt;</td>\n      <td>&lt;NA&gt;</td>\n      <td>&lt;NA&gt;</td>\n    </tr>\n    <tr>\n      <th>33</th>\n      <td>CIFAR10</td>\n      <td>fmn</td>\n      <td>L2</td>\n      <td>Rade2021Helper_R18_ddpm</td>\n      <td>&lt;NA&gt;</td>\n      <td>DL</td>\n      <td>1000</td>\n      <td>&lt;NA&gt;</td>\n      <td>&lt;NA&gt;</td>\n      <td>&lt;NA&gt;</td>\n      <td>&lt;NA&gt;</td>\n      <td>&lt;NA&gt;</td>\n      <td>&lt;NA&gt;</td>\n      <td>&lt;NA&gt;</td>\n      <td>&lt;NA&gt;</td>\n    </tr>\n    <tr>\n      <th>34</th>\n      <td>CIFAR10</td>\n      <td>fmn</td>\n      <td>L2</td>\n      <td>Rebuffi2021Fixing_R18_cutmix_ddpm</td>\n      <td>&lt;NA&gt;</td>\n      <td>DL</td>\n      <td>100</td>\n      <td>&lt;NA&gt;</td>\n      <td>&lt;NA&gt;</td>\n      <td>&lt;NA&gt;</td>\n      <td>&lt;NA&gt;</td>\n      <td>&lt;NA&gt;</td>\n      <td>&lt;NA&gt;</td>\n      <td>&lt;NA&gt;</td>\n      <td>&lt;NA&gt;</td>\n    </tr>\n    <tr>\n      <th>35</th>\n      <td>CIFAR10</td>\n      <td>fmn</td>\n      <td>L2</td>\n      <td>Rebuffi2021Fixing_R18_cutmix_ddpm</td>\n      <td>&lt;NA&gt;</td>\n      <td>DL</td>\n      <td>1000</td>\n      <td>&lt;NA&gt;</td>\n      <td>&lt;NA&gt;</td>\n      <td>&lt;NA&gt;</td>\n      <td>&lt;NA&gt;</td>\n      <td>&lt;NA&gt;</td>\n      <td>&lt;NA&gt;</td>\n      <td>&lt;NA&gt;</td>\n      <td>&lt;NA&gt;</td>\n    </tr>\n    <tr>\n      <th>36</th>\n      <td>CIFAR10</td>\n      <td>fmn</td>\n      <td>Linf</td>\n      <td>Engstrom2019Robustness</td>\n      <td>10</td>\n      <td>DL</td>\n      <td>100</td>\n      <td>&lt;NA&gt;</td>\n      <td>1</td>\n      <td>0.001</td>\n      <td>0.05</td>\n      <td>&lt;NA&gt;</td>\n      <td>&lt;NA&gt;</td>\n      <td>&lt;NA&gt;</td>\n      <td>&lt;NA&gt;</td>\n    </tr>\n    <tr>\n      <th>37</th>\n      <td>CIFAR10</td>\n      <td>fmn</td>\n      <td>Linf</td>\n      <td>Engstrom2019Robustness</td>\n      <td>10</td>\n      <td>DL</td>\n      <td>1000</td>\n      <td>&lt;NA&gt;</td>\n      <td>1</td>\n      <td>0.001</td>\n      <td>0.05</td>\n      <td>&lt;NA&gt;</td>\n      <td>&lt;NA&gt;</td>\n      <td>&lt;NA&gt;</td>\n      <td>&lt;NA&gt;</td>\n    </tr>\n    <tr>\n      <th>38</th>\n      <td>CIFAR10</td>\n      <td>fmn</td>\n      <td>Linf</td>\n      <td>Gowal2021Improving_R18_ddpm_100m</td>\n      <td>10</td>\n      <td>DL</td>\n      <td>100</td>\n      <td>&lt;NA&gt;</td>\n      <td>1</td>\n      <td>0.001</td>\n      <td>0.05</td>\n      <td>&lt;NA&gt;</td>\n      <td>&lt;NA&gt;</td>\n      <td>&lt;NA&gt;</td>\n      <td>&lt;NA&gt;</td>\n    </tr>\n    <tr>\n      <th>39</th>\n      <td>CIFAR10</td>\n      <td>fmn</td>\n      <td>Linf</td>\n      <td>Gowal2021Improving_R18_ddpm_100m</td>\n      <td>10</td>\n      <td>DL</td>\n      <td>1000</td>\n      <td>&lt;NA&gt;</td>\n      <td>1</td>\n      <td>0.001</td>\n      <td>0.05</td>\n      <td>&lt;NA&gt;</td>\n      <td>&lt;NA&gt;</td>\n      <td>&lt;NA&gt;</td>\n      <td>&lt;NA&gt;</td>\n    </tr>\n    <tr>\n      <th>40</th>\n      <td>CIFAR10</td>\n      <td>fmn</td>\n      <td>Linf</td>\n      <td>Rade2021Helper_R18_extra</td>\n      <td>10</td>\n      <td>DL</td>\n      <td>100</td>\n      <td>&lt;NA&gt;</td>\n      <td>1</td>\n      <td>0.001</td>\n      <td>0.05</td>\n      <td>&lt;NA&gt;</td>\n      <td>&lt;NA&gt;</td>\n      <td>&lt;NA&gt;</td>\n      <td>&lt;NA&gt;</td>\n    </tr>\n    <tr>\n      <th>41</th>\n      <td>CIFAR10</td>\n      <td>fmn</td>\n      <td>Linf</td>\n      <td>Rade2021Helper_R18_extra</td>\n      <td>10</td>\n      <td>DL</td>\n      <td>1000</td>\n      <td>&lt;NA&gt;</td>\n      <td>1</td>\n      <td>0.001</td>\n      <td>0.05</td>\n      <td>&lt;NA&gt;</td>\n      <td>&lt;NA&gt;</td>\n      <td>&lt;NA&gt;</td>\n      <td>&lt;NA&gt;</td>\n    </tr>\n  </tbody>\n</table>\n</div>"
     },
     "execution_count": 74,
     "metadata": {},
     "output_type": "execute_result"
    }
   ],
   "source": [
    "sweeper.config_df"
   ],
   "metadata": {
    "collapsed": false,
    "pycharm": {
     "name": "#%%\n"
    }
   }
  },
  {
   "cell_type": "code",
   "execution_count": 75,
   "outputs": [],
   "source": [
    "sweeper.logger.load_all()"
   ],
   "metadata": {
    "collapsed": false,
    "pycharm": {
     "name": "#%%\n"
    }
   }
  },
  {
   "cell_type": "code",
   "execution_count": 77,
   "outputs": [
    {
     "name": "stdout",
     "output_type": "stream",
     "text": [
      "dataset                                    CIFAR10\n",
      "attack                                        alma\n",
      "norm                                            L1\n",
      "model          Augustin2020Adversarial_34_10_extra\n",
      "loss_f                                          DL\n",
      "num_steps                                      100\n",
      "threat_norm                                     L2\n",
      "Name: 0, dtype: object\n"
     ]
    },
    {
     "ename": "RuntimeError",
     "evalue": "Found no NVIDIA driver on your system. Please check that you have an NVIDIA GPU and installed a driver from http://www.nvidia.com/Download/index.aspx",
     "output_type": "error",
     "traceback": [
      "\u001B[0;31m---------------------------------------------------------------------------\u001B[0m",
      "\u001B[0;31mRuntimeError\u001B[0m                              Traceback (most recent call last)",
      "Input \u001B[0;32mIn [77]\u001B[0m, in \u001B[0;36m<cell line: 1>\u001B[0;34m()\u001B[0m\n\u001B[0;32m----> 1\u001B[0m \u001B[43msweeper\u001B[49m\u001B[38;5;241;43m.\u001B[39;49m\u001B[43msweep\u001B[49m\u001B[43m(\u001B[49m\u001B[43mn_samples\u001B[49m\u001B[38;5;241;43m=\u001B[39;49m\u001B[38;5;241;43m60\u001B[39;49m\u001B[43m,\u001B[49m\u001B[43mdevice\u001B[49m\u001B[38;5;241;43m=\u001B[39;49m\u001B[38;5;124;43m\"\u001B[39;49m\u001B[38;5;124;43mcuda\u001B[39;49m\u001B[38;5;124;43m\"\u001B[39;49m\u001B[43m,\u001B[49m\u001B[43m \u001B[49m\u001B[43mrecompute\u001B[49m\u001B[38;5;241;43m=\u001B[39;49m\u001B[38;5;28;43;01mFalse\u001B[39;49;00m\u001B[43m)\u001B[49m\n\u001B[1;32m      2\u001B[0m sweeper\u001B[38;5;241m.\u001B[39msave_df()\n",
      "File \u001B[0;32m~/adversarial-ml-comparison/src/sweeping.py:69\u001B[0m, in \u001B[0;36mSweeper.sweep\u001B[0;34m(self, n_samples, recompute, logs_dir, device)\u001B[0m\n\u001B[1;32m     67\u001B[0m \u001B[38;5;28mself\u001B[39m\u001B[38;5;241m.\u001B[39mlogger\u001B[38;5;241m.\u001B[39msetup(run_id\u001B[38;5;241m=\u001B[39mrun_id)\n\u001B[1;32m     68\u001B[0m \u001B[38;5;66;03m# self.logger.setup(attack_name=row.attack, model_name=row.model, hyperparams=\"default\")\u001B[39;00m\n\u001B[0;32m---> 69\u001B[0m \u001B[38;5;28;43mself\u001B[39;49m\u001B[38;5;241;43m.\u001B[39;49m\u001B[43mrun\u001B[49m\u001B[43m(\u001B[49m\u001B[43mn_samples\u001B[49m\u001B[38;5;241;43m=\u001B[39;49m\u001B[43mn_samples\u001B[49m\u001B[43m,\u001B[49m\u001B[43m \u001B[49m\u001B[43mdevice\u001B[49m\u001B[38;5;241;43m=\u001B[39;49m\u001B[43mdevice\u001B[49m\u001B[43m,\u001B[49m\u001B[43m \u001B[49m\u001B[38;5;241;43m*\u001B[39;49m\u001B[38;5;241;43m*\u001B[39;49m\u001B[43mrow\u001B[49m\u001B[38;5;241;43m.\u001B[39;49m\u001B[43mto_dict\u001B[49m\u001B[43m(\u001B[49m\u001B[43m)\u001B[49m\u001B[43m)\u001B[49m\n\u001B[1;32m     71\u001B[0m \u001B[38;5;66;03m# save attack log to disk\u001B[39;00m\n\u001B[1;32m     72\u001B[0m \u001B[38;5;28mself\u001B[39m\u001B[38;5;241m.\u001B[39mlogger\u001B[38;5;241m.\u001B[39msave(force\u001B[38;5;241m=\u001B[39m\u001B[38;5;28;01mTrue\u001B[39;00m)\n",
      "File \u001B[0;32m~/adversarial-ml-comparison/src/sweeping.py:110\u001B[0m, in \u001B[0;36mSweeper.run\u001B[0;34m(self, n_samples, batch_size, n_workers, device, **kwargs)\u001B[0m\n\u001B[1;32m    108\u001B[0m \u001B[38;5;66;03m#\u001B[39;00m\n\u001B[1;32m    109\u001B[0m model\u001B[38;5;241m.\u001B[39meval()\n\u001B[0;32m--> 110\u001B[0m model \u001B[38;5;241m=\u001B[39m \u001B[43mmodel\u001B[49m\u001B[38;5;241;43m.\u001B[39;49m\u001B[43mto\u001B[49m\u001B[43m(\u001B[49m\u001B[43mdevice\u001B[49m\u001B[43m)\u001B[49m\n\u001B[1;32m    113\u001B[0m tracked_model \u001B[38;5;241m=\u001B[39m PyTorchModelTracker(model, p\u001B[38;5;241m=\u001B[39mnumeric_norm, logger\u001B[38;5;241m=\u001B[39m\u001B[38;5;28mself\u001B[39m\u001B[38;5;241m.\u001B[39mlogger, loss_f\u001B[38;5;241m=\u001B[39mkwargs[\u001B[38;5;124m\"\u001B[39m\u001B[38;5;124mloss_f\u001B[39m\u001B[38;5;124m\"\u001B[39m], track_acc\u001B[38;5;241m=\u001B[39m\u001B[38;5;28;01mTrue\u001B[39;00m)  \u001B[38;5;66;03m# pytorch model\u001B[39;00m\n\u001B[1;32m    115\u001B[0m \u001B[38;5;66;03m# automatic batch size discovery\u001B[39;00m\n",
      "File \u001B[0;32m~/adversarial-ml-comparison/adv_env/lib/python3.8/site-packages/torch/nn/modules/module.py:907\u001B[0m, in \u001B[0;36mModule.to\u001B[0;34m(self, *args, **kwargs)\u001B[0m\n\u001B[1;32m    903\u001B[0m         \u001B[38;5;28;01mreturn\u001B[39;00m t\u001B[38;5;241m.\u001B[39mto(device, dtype \u001B[38;5;28;01mif\u001B[39;00m t\u001B[38;5;241m.\u001B[39mis_floating_point() \u001B[38;5;129;01mor\u001B[39;00m t\u001B[38;5;241m.\u001B[39mis_complex() \u001B[38;5;28;01melse\u001B[39;00m \u001B[38;5;28;01mNone\u001B[39;00m,\n\u001B[1;32m    904\u001B[0m                     non_blocking, memory_format\u001B[38;5;241m=\u001B[39mconvert_to_format)\n\u001B[1;32m    905\u001B[0m     \u001B[38;5;28;01mreturn\u001B[39;00m t\u001B[38;5;241m.\u001B[39mto(device, dtype \u001B[38;5;28;01mif\u001B[39;00m t\u001B[38;5;241m.\u001B[39mis_floating_point() \u001B[38;5;129;01mor\u001B[39;00m t\u001B[38;5;241m.\u001B[39mis_complex() \u001B[38;5;28;01melse\u001B[39;00m \u001B[38;5;28;01mNone\u001B[39;00m, non_blocking)\n\u001B[0;32m--> 907\u001B[0m \u001B[38;5;28;01mreturn\u001B[39;00m \u001B[38;5;28;43mself\u001B[39;49m\u001B[38;5;241;43m.\u001B[39;49m\u001B[43m_apply\u001B[49m\u001B[43m(\u001B[49m\u001B[43mconvert\u001B[49m\u001B[43m)\u001B[49m\n",
      "File \u001B[0;32m~/adversarial-ml-comparison/adv_env/lib/python3.8/site-packages/torch/nn/modules/module.py:578\u001B[0m, in \u001B[0;36mModule._apply\u001B[0;34m(self, fn)\u001B[0m\n\u001B[1;32m    576\u001B[0m \u001B[38;5;28;01mdef\u001B[39;00m \u001B[38;5;21m_apply\u001B[39m(\u001B[38;5;28mself\u001B[39m, fn):\n\u001B[1;32m    577\u001B[0m     \u001B[38;5;28;01mfor\u001B[39;00m module \u001B[38;5;129;01min\u001B[39;00m \u001B[38;5;28mself\u001B[39m\u001B[38;5;241m.\u001B[39mchildren():\n\u001B[0;32m--> 578\u001B[0m         \u001B[43mmodule\u001B[49m\u001B[38;5;241;43m.\u001B[39;49m\u001B[43m_apply\u001B[49m\u001B[43m(\u001B[49m\u001B[43mfn\u001B[49m\u001B[43m)\u001B[49m\n\u001B[1;32m    580\u001B[0m     \u001B[38;5;28;01mdef\u001B[39;00m \u001B[38;5;21mcompute_should_use_set_data\u001B[39m(tensor, tensor_applied):\n\u001B[1;32m    581\u001B[0m         \u001B[38;5;28;01mif\u001B[39;00m torch\u001B[38;5;241m.\u001B[39m_has_compatible_shallow_copy_type(tensor, tensor_applied):\n\u001B[1;32m    582\u001B[0m             \u001B[38;5;66;03m# If the new tensor has compatible tensor type as the existing tensor,\u001B[39;00m\n\u001B[1;32m    583\u001B[0m             \u001B[38;5;66;03m# the current behavior is to change the tensor in-place using `.data =`,\u001B[39;00m\n\u001B[0;32m   (...)\u001B[0m\n\u001B[1;32m    588\u001B[0m             \u001B[38;5;66;03m# global flag to let the user control whether they want the future\u001B[39;00m\n\u001B[1;32m    589\u001B[0m             \u001B[38;5;66;03m# behavior of overwriting the existing tensor or not.\u001B[39;00m\n",
      "File \u001B[0;32m~/adversarial-ml-comparison/adv_env/lib/python3.8/site-packages/torch/nn/modules/module.py:601\u001B[0m, in \u001B[0;36mModule._apply\u001B[0;34m(self, fn)\u001B[0m\n\u001B[1;32m    597\u001B[0m \u001B[38;5;66;03m# Tensors stored in modules are graph leaves, and we don't want to\u001B[39;00m\n\u001B[1;32m    598\u001B[0m \u001B[38;5;66;03m# track autograd history of `param_applied`, so we have to use\u001B[39;00m\n\u001B[1;32m    599\u001B[0m \u001B[38;5;66;03m# `with torch.no_grad():`\u001B[39;00m\n\u001B[1;32m    600\u001B[0m \u001B[38;5;28;01mwith\u001B[39;00m torch\u001B[38;5;241m.\u001B[39mno_grad():\n\u001B[0;32m--> 601\u001B[0m     param_applied \u001B[38;5;241m=\u001B[39m \u001B[43mfn\u001B[49m\u001B[43m(\u001B[49m\u001B[43mparam\u001B[49m\u001B[43m)\u001B[49m\n\u001B[1;32m    602\u001B[0m should_use_set_data \u001B[38;5;241m=\u001B[39m compute_should_use_set_data(param, param_applied)\n\u001B[1;32m    603\u001B[0m \u001B[38;5;28;01mif\u001B[39;00m should_use_set_data:\n",
      "File \u001B[0;32m~/adversarial-ml-comparison/adv_env/lib/python3.8/site-packages/torch/nn/modules/module.py:905\u001B[0m, in \u001B[0;36mModule.to.<locals>.convert\u001B[0;34m(t)\u001B[0m\n\u001B[1;32m    902\u001B[0m \u001B[38;5;28;01mif\u001B[39;00m convert_to_format \u001B[38;5;129;01mis\u001B[39;00m \u001B[38;5;129;01mnot\u001B[39;00m \u001B[38;5;28;01mNone\u001B[39;00m \u001B[38;5;129;01mand\u001B[39;00m t\u001B[38;5;241m.\u001B[39mdim() \u001B[38;5;129;01min\u001B[39;00m (\u001B[38;5;241m4\u001B[39m, \u001B[38;5;241m5\u001B[39m):\n\u001B[1;32m    903\u001B[0m     \u001B[38;5;28;01mreturn\u001B[39;00m t\u001B[38;5;241m.\u001B[39mto(device, dtype \u001B[38;5;28;01mif\u001B[39;00m t\u001B[38;5;241m.\u001B[39mis_floating_point() \u001B[38;5;129;01mor\u001B[39;00m t\u001B[38;5;241m.\u001B[39mis_complex() \u001B[38;5;28;01melse\u001B[39;00m \u001B[38;5;28;01mNone\u001B[39;00m,\n\u001B[1;32m    904\u001B[0m                 non_blocking, memory_format\u001B[38;5;241m=\u001B[39mconvert_to_format)\n\u001B[0;32m--> 905\u001B[0m \u001B[38;5;28;01mreturn\u001B[39;00m \u001B[43mt\u001B[49m\u001B[38;5;241;43m.\u001B[39;49m\u001B[43mto\u001B[49m\u001B[43m(\u001B[49m\u001B[43mdevice\u001B[49m\u001B[43m,\u001B[49m\u001B[43m \u001B[49m\u001B[43mdtype\u001B[49m\u001B[43m \u001B[49m\u001B[38;5;28;43;01mif\u001B[39;49;00m\u001B[43m \u001B[49m\u001B[43mt\u001B[49m\u001B[38;5;241;43m.\u001B[39;49m\u001B[43mis_floating_point\u001B[49m\u001B[43m(\u001B[49m\u001B[43m)\u001B[49m\u001B[43m \u001B[49m\u001B[38;5;129;43;01mor\u001B[39;49;00m\u001B[43m \u001B[49m\u001B[43mt\u001B[49m\u001B[38;5;241;43m.\u001B[39;49m\u001B[43mis_complex\u001B[49m\u001B[43m(\u001B[49m\u001B[43m)\u001B[49m\u001B[43m \u001B[49m\u001B[38;5;28;43;01melse\u001B[39;49;00m\u001B[43m \u001B[49m\u001B[38;5;28;43;01mNone\u001B[39;49;00m\u001B[43m,\u001B[49m\u001B[43m \u001B[49m\u001B[43mnon_blocking\u001B[49m\u001B[43m)\u001B[49m\n",
      "File \u001B[0;32m~/adversarial-ml-comparison/adv_env/lib/python3.8/site-packages/torch/cuda/__init__.py:216\u001B[0m, in \u001B[0;36m_lazy_init\u001B[0;34m()\u001B[0m\n\u001B[1;32m    212\u001B[0m     \u001B[38;5;28;01mraise\u001B[39;00m \u001B[38;5;167;01mAssertionError\u001B[39;00m(\n\u001B[1;32m    213\u001B[0m         \u001B[38;5;124m\"\u001B[39m\u001B[38;5;124mlibcudart functions unavailable. It looks like you have a broken build?\u001B[39m\u001B[38;5;124m\"\u001B[39m)\n\u001B[1;32m    214\u001B[0m \u001B[38;5;66;03m# This function throws if there's a driver initialization error, no GPUs\u001B[39;00m\n\u001B[1;32m    215\u001B[0m \u001B[38;5;66;03m# are found or any other error occurs\u001B[39;00m\n\u001B[0;32m--> 216\u001B[0m \u001B[43mtorch\u001B[49m\u001B[38;5;241;43m.\u001B[39;49m\u001B[43m_C\u001B[49m\u001B[38;5;241;43m.\u001B[39;49m\u001B[43m_cuda_init\u001B[49m\u001B[43m(\u001B[49m\u001B[43m)\u001B[49m\n\u001B[1;32m    217\u001B[0m \u001B[38;5;66;03m# Some of the queued calls may reentrantly call _lazy_init();\u001B[39;00m\n\u001B[1;32m    218\u001B[0m \u001B[38;5;66;03m# we need to just return without initializing in that case.\u001B[39;00m\n\u001B[1;32m    219\u001B[0m \u001B[38;5;66;03m# However, we must not let any *other* threads in!\u001B[39;00m\n\u001B[1;32m    220\u001B[0m _tls\u001B[38;5;241m.\u001B[39mis_initializing \u001B[38;5;241m=\u001B[39m \u001B[38;5;28;01mTrue\u001B[39;00m\n",
      "\u001B[0;31mRuntimeError\u001B[0m: Found no NVIDIA driver on your system. Please check that you have an NVIDIA GPU and installed a driver from http://www.nvidia.com/Download/index.aspx"
     ]
    }
   ],
   "source": [
    "sweeper.sweep(n_samples=60,device=\"cuda\", recompute=False)\n",
    "sweeper.save_df()"
   ],
   "metadata": {
    "collapsed": false,
    "pycharm": {
     "name": "#%%\n"
    }
   }
  },
  {
   "cell_type": "code",
   "execution_count": null,
   "outputs": [],
   "source": [
    "sweeper.logger.where(model=\"Maini2020MultipleAVG\")"
   ],
   "metadata": {
    "collapsed": false,
    "pycharm": {
     "name": "#%%\n"
    }
   }
  },
  {
   "cell_type": "code",
   "execution_count": null,
   "outputs": [],
   "source": [
    "settings = {\"attack\":\"\", \"model\":\"\", \"norm\":\"Linf\"}"
   ],
   "metadata": {
    "collapsed": false,
    "pycharm": {
     "name": "#%%\n"
    }
   }
  },
  {
   "cell_type": "code",
   "execution_count": null,
   "outputs": [],
   "source": [
    "import matplotlib.pyplot as plt\n",
    "\n",
    "# todo - put this into functions in some plot_utils file\n",
    "# todo - support some agregation by keywords of a dict (add abstraction)\n",
    "# tofo - support filtering/splitting into multiple plots (e.g. plot only one model)\n",
    "\n",
    "plt.figure(figsize=(15,10))\n",
    "keys = []\n",
    "for key in sweeper.logger.where(**settings):\n",
    "    sweeper.logger.plot_QD(key)\n",
    "    keys.append(key)\n",
    "plt.legend(keys)#, bbox_to_anchor =(0.65, 1.25))\n",
    "plt.ylabel(settings[\"norm\"])\n",
    "plt.xlabel(\"Query\")\n",
    "plt.xscale('log')\n",
    "None"
   ],
   "metadata": {
    "collapsed": false,
    "pycharm": {
     "name": "#%%\n"
    }
   }
  },
  {
   "cell_type": "code",
   "execution_count": null,
   "outputs": [],
   "source": [
    "plt.figure(figsize=(15,10))\n",
    "for key in sweeper.logger.where(**settings):\n",
    "    sweeper.logger.plot_progress(kind=\"loss\", run_id=key)\n",
    "plt.legend([*sweeper.logger.dict.keys()])#, bbox_to_anchor =(0.65, 1.25))\n",
    "plt.ylabel(\"DL Loss\")\n",
    "plt.xlabel(\"Query\")\n",
    "None"
   ],
   "metadata": {
    "collapsed": false,
    "pycharm": {
     "name": "#%%\n"
    }
   }
  },
  {
   "cell_type": "code",
   "execution_count": null,
   "outputs": [],
   "source": [
    "plt.figure(figsize=(15,10))\n",
    "for key in sweeper.logger.where(**settings):\n",
    "    sweeper.logger.plot_progress(kind=\"acc\", run_id=key)\n",
    "plt.legend([*sweeper.logger.dict.keys()])#, bbox_to_anchor =(0.65, 1.25))\n",
    "plt.ylabel(\"Accuracy\")\n",
    "plt.xlabel(\"Query\")\n",
    "None"
   ],
   "metadata": {
    "collapsed": false,
    "pycharm": {
     "name": "#%%\n"
    }
   }
  },
  {
   "cell_type": "code",
   "execution_count": null,
   "outputs": [],
   "source": [],
   "metadata": {
    "collapsed": false,
    "pycharm": {
     "name": "#%%\n"
    }
   }
  },
  {
   "cell_type": "code",
   "execution_count": null,
   "outputs": [],
   "source": [],
   "metadata": {
    "collapsed": false,
    "pycharm": {
     "name": "#%%\n"
    }
   }
  }
 ],
 "metadata": {
  "kernelspec": {
   "display_name": "Python 3",
   "language": "python",
   "name": "python3"
  },
  "language_info": {
   "codemirror_mode": {
    "name": "ipython",
    "version": 2
   },
   "file_extension": ".py",
   "mimetype": "text/x-python",
   "name": "python",
   "nbconvert_exporter": "python",
   "pygments_lexer": "ipython2",
   "version": "2.7.6"
  }
 },
 "nbformat": 4,
 "nbformat_minor": 0
}
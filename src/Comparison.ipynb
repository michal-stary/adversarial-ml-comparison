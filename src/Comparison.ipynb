{
 "cells": [
  {
   "cell_type": "code",
   "execution_count": 52,
   "metadata": {
    "collapsed": true
   },
   "outputs": [
    {
     "name": "stdout",
     "output_type": "stream",
     "text": [
      "The autoreload extension is already loaded. To reload it, use:\n",
      "  %reload_ext autoreload\n"
     ]
    }
   ],
   "source": [
    "from sweeping import Sweeper\n",
    "import matplotlib.pyplot as plt\n",
    "\n",
    "%load_ext autoreload\n",
    "%autoreload 2"
   ]
  },
  {
   "cell_type": "code",
   "execution_count": 53,
   "outputs": [],
   "source": [
    "sweeper = Sweeper.from_jsonfile(\"config_test.json\")"
   ],
   "metadata": {
    "collapsed": false,
    "pycharm": {
     "name": "#%%\n"
    }
   }
  },
  {
   "cell_type": "code",
   "execution_count": 54,
   "outputs": [
    {
     "data": {
      "text/plain": "   dataset attack  norm                 model  binary_search_steps loss_f  \\\n0  CIFAR10    fmn  Linf  Maini2020MultipleAVG                   10     DL   \n\n   steps α_final  α_init  γ_final  γ_init  \n0     50    None       1    0.001    0.05  ",
      "text/html": "<div>\n<style scoped>\n    .dataframe tbody tr th:only-of-type {\n        vertical-align: middle;\n    }\n\n    .dataframe tbody tr th {\n        vertical-align: top;\n    }\n\n    .dataframe thead th {\n        text-align: right;\n    }\n</style>\n<table border=\"1\" class=\"dataframe\">\n  <thead>\n    <tr style=\"text-align: right;\">\n      <th></th>\n      <th>dataset</th>\n      <th>attack</th>\n      <th>norm</th>\n      <th>model</th>\n      <th>binary_search_steps</th>\n      <th>loss_f</th>\n      <th>steps</th>\n      <th>α_final</th>\n      <th>α_init</th>\n      <th>γ_final</th>\n      <th>γ_init</th>\n    </tr>\n  </thead>\n  <tbody>\n    <tr>\n      <th>0</th>\n      <td>CIFAR10</td>\n      <td>fmn</td>\n      <td>Linf</td>\n      <td>Maini2020MultipleAVG</td>\n      <td>10</td>\n      <td>DL</td>\n      <td>50</td>\n      <td>None</td>\n      <td>1</td>\n      <td>0.001</td>\n      <td>0.05</td>\n    </tr>\n  </tbody>\n</table>\n</div>"
     },
     "execution_count": 54,
     "metadata": {},
     "output_type": "execute_result"
    }
   ],
   "source": [
    "sweeper.config_df"
   ],
   "metadata": {
    "collapsed": false,
    "pycharm": {
     "name": "#%%\n"
    }
   }
  },
  {
   "cell_type": "code",
   "execution_count": 55,
   "outputs": [],
   "source": [
    "sweeper.logger.load_all()"
   ],
   "metadata": {
    "collapsed": false,
    "pycharm": {
     "name": "#%%\n"
    }
   }
  },
  {
   "cell_type": "code",
   "execution_count": null,
   "outputs": [
    {
     "name": "stdout",
     "output_type": "stream",
     "text": [
      "dataset                             CIFAR10\n",
      "attack                                  fmn\n",
      "norm                                   Linf\n",
      "model                  Maini2020MultipleAVG\n",
      "binary_search_steps                      10\n",
      "loss_f                                   DL\n",
      "steps                                    50\n",
      "α_init                                    1\n",
      "γ_final                               0.001\n",
      "γ_init                                 0.05\n",
      "Name: 0, dtype: object\n",
      "Files already downloaded and verified\n"
     ]
    },
    {
     "name": "stderr",
     "output_type": "stream",
     "text": [
      " 67%|██████▋   | 2/3 [01:06<00:33, 33.44s/it]"
     ]
    }
   ],
   "source": [
    "sweeper.sweep(n_samples=60, recompute=False)\n",
    "sweeper.save_df()"
   ],
   "metadata": {
    "collapsed": false,
    "pycharm": {
     "name": "#%%\n",
     "is_executing": true
    }
   }
  },
  {
   "cell_type": "code",
   "execution_count": null,
   "outputs": [],
   "source": [
    "sweeper.logger.where(attack=\"apgd\")"
   ],
   "metadata": {
    "collapsed": false,
    "pycharm": {
     "name": "#%%\n",
     "is_executing": true
    }
   }
  },
  {
   "cell_type": "code",
   "execution_count": null,
   "outputs": [],
   "source": [
    "settings = {\"attack\":\"\", \"model\":\"\", \"norm\":\"L1\"}"
   ],
   "metadata": {
    "collapsed": false,
    "pycharm": {
     "name": "#%%\n",
     "is_executing": true
    }
   }
  },
  {
   "cell_type": "code",
   "execution_count": null,
   "outputs": [],
   "source": [
    "import matplotlib.pyplot as plt\n",
    "\n",
    "# todo - put this into functions in some plot_utils file\n",
    "# todo - support some agregation by keywords of a dict (add abstraction)\n",
    "# tofo - support filtering/splitting into multiple plots (e.g. plot only one model)\n",
    "\n",
    "plt.figure(figsize=(15,10))\n",
    "keys = []\n",
    "for key in sweeper.logger.where(**settings):\n",
    "    sweeper.logger.plot_QD(key)\n",
    "    keys.append(key)\n",
    "plt.legend(keys)#, bbox_to_anchor =(0.65, 1.25))\n",
    "plt.ylabel(settings[\"norm\"])\n",
    "plt.xlabel(\"Query\")\n",
    "plt.xscale('log')\n",
    "None"
   ],
   "metadata": {
    "collapsed": false,
    "pycharm": {
     "name": "#%%\n",
     "is_executing": true
    }
   }
  },
  {
   "cell_type": "code",
   "execution_count": null,
   "outputs": [],
   "source": [
    "plt.figure(figsize=(15,10))\n",
    "for key in sweeper.logger.where(**settings):\n",
    "    sweeper.logger.plot_progress(kind=\"loss\", run_id=key)\n",
    "plt.legend([*sweeper.logger.dict.keys()])#, bbox_to_anchor =(0.65, 1.25))\n",
    "plt.ylabel(\"DL Loss\")\n",
    "plt.xlabel(\"Query\")\n",
    "None"
   ],
   "metadata": {
    "collapsed": false,
    "pycharm": {
     "name": "#%%\n",
     "is_executing": true
    }
   }
  },
  {
   "cell_type": "code",
   "execution_count": null,
   "outputs": [],
   "source": [
    "plt.figure(figsize=(15,10))\n",
    "for key in sweeper.logger.where(**settings):\n",
    "    sweeper.logger.plot_progress(kind=\"acc\", run_id=key)\n",
    "plt.legend([*sweeper.logger.dict.keys()])#, bbox_to_anchor =(0.65, 1.25))\n",
    "plt.ylabel(\"Accuracy\")\n",
    "plt.xlabel(\"Query\")\n",
    "None"
   ],
   "metadata": {
    "collapsed": false,
    "pycharm": {
     "name": "#%%\n",
     "is_executing": true
    }
   }
  },
  {
   "cell_type": "code",
   "execution_count": null,
   "outputs": [],
   "source": [],
   "metadata": {
    "collapsed": false,
    "pycharm": {
     "name": "#%%\n",
     "is_executing": true
    }
   }
  },
  {
   "cell_type": "code",
   "execution_count": null,
   "outputs": [],
   "source": [],
   "metadata": {
    "collapsed": false,
    "pycharm": {
     "name": "#%%\n",
     "is_executing": true
    }
   }
  }
 ],
 "metadata": {
  "kernelspec": {
   "display_name": "Python 3",
   "language": "python",
   "name": "python3"
  },
  "language_info": {
   "codemirror_mode": {
    "name": "ipython",
    "version": 2
   },
   "file_extension": ".py",
   "mimetype": "text/x-python",
   "name": "python",
   "nbconvert_exporter": "python",
   "pygments_lexer": "ipython2",
   "version": "2.7.6"
  }
 },
 "nbformat": 4,
 "nbformat_minor": 0
}
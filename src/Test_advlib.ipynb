{
 "cells": [
  {
   "cell_type": "code",
   "execution_count": 1,
   "metadata": {
    "pycharm": {
     "name": "#%%\n"
    }
   },
   "outputs": [],
   "source": [
    "%load_ext autoreload\n",
    "%autoreload 2"
   ]
  },
  {
   "cell_type": "code",
   "execution_count": 2,
   "metadata": {
    "pycharm": {
     "name": "#%%\n"
    }
   },
   "outputs": [],
   "source": [
    "\n",
    "from robustbench.utils import load_model\n",
    "# Load a model from the model zoo\n",
    "model = load_model(model_name='Gowal2021Improving_R18_ddpm_100m', dataset='cifar10', threat_model='Linf',  model_dir=\"models\")\n"
   ]
  },
  {
   "cell_type": "code",
   "execution_count": 3,
   "metadata": {
    "pycharm": {
     "name": "#%%\n"
    }
   },
   "outputs": [],
   "source": [
    "## get data"
   ]
  },
  {
   "cell_type": "code",
   "execution_count": 40,
   "metadata": {
    "pycharm": {
     "name": "#%%\n"
    }
   },
   "outputs": [
    {
     "name": "stdout",
     "output_type": "stream",
     "text": [
      "Files already downloaded and verified\n"
     ]
    }
   ],
   "source": [
    "import torchvision.datasets as datasets\n",
    "from torchvision import transforms\n",
    "import torch\n",
    "from src.utils.data_utils import create_loaders\n",
    "\n",
    "\n",
    "transf = transforms.Compose([lambda x: x/1])\n",
    "device = torch.device('cuda') if torch.cuda.is_available() else 'cpu'\n",
    "\n",
    "# cifar_trainset = datasets.CIFAR10(root='data', train=True, download=True, transform=None)\n",
    "# cifar_testset = datasets.CIFAR10(root='data', train=False, download=True, transform=None)\n",
    "\n",
    "\n",
    "\n",
    "\n",
    "\n",
    "batch_size = 20\n",
    "n_workers = 1\n",
    "data_loader = create_loaders(\"./data\", task_config=\"CIFAR10\",\n",
    "                             batch_size=batch_size,\n",
    "                             transform=transf,\n",
    "                             random_state=0,\n",
    "                             n_workers=n_workers)\n"
   ]
  },
  {
   "cell_type": "code",
   "execution_count": 41,
   "metadata": {
    "pycharm": {
     "name": "#%%\n"
    }
   },
   "outputs": [],
   "source": [
    "images, labels = next(iter(data_loader))\n",
    "images, labels = images.to(device), labels.to(device)"
   ]
  },
  {
   "cell_type": "code",
   "execution_count": 160,
   "metadata": {
    "pycharm": {
     "name": "#%%\n"
    }
   },
   "outputs": [
    {
     "name": "stderr",
     "output_type": "stream",
     "text": [
      "100%|██████████| 2/2 [01:41<00:00, 50.99s/it]\n"
     ]
    }
   ],
   "source": [
    "from adv_lib.attacks import fmn\n",
    "from tracking import PyTorchModelTrackerSetup\n",
    "from logging_ import Logger\n",
    "from tqdm import tqdm\n",
    "import sys\n",
    "\n",
    "logger = Logger()\n",
    "logger.setup(run_id=0)\n",
    "tracked_model = PyTorchModelTrackerSetup(model, loss_f=\"CE\", logger=logger)  # pytorch model\n",
    "\n",
    "\n",
    "norm = float(\"inf\")  # will use Linf norm\n",
    "n_samples = 40\n",
    "\n",
    "for b, (images, labels) in enumerate(tqdm(data_loader, total=n_samples//batch_size)):\n",
    "\n",
    "    if b*batch_size >= n_samples:\n",
    "        break\n",
    "\n",
    "    tracked_model.setup(images, labels)\n",
    "    # do attack on selected examples\n",
    "    results = fmn(tracked_model, images, labels, norm, steps=50)\n",
    "    tracked_model.log()\n",
    "    #print(logger.loss_progress)\n",
    "\n",
    "    #print(sum(map(lambda x: sys.getsizeof(x.storage()), logger.loss_progress)))\n",
    "#     print(sys.getsizeof(logger.norm_progress.storage()))\n"
   ]
  },
  {
   "cell_type": "code",
   "execution_count": 161,
   "metadata": {
    "pycharm": {
     "name": "#%%\n"
    }
   },
   "outputs": [
    {
     "data": {
      "text/plain": "torch.Size([20, 3, 32, 32])"
     },
     "execution_count": 161,
     "metadata": {},
     "output_type": "execute_result"
    }
   ],
   "source": [
    "results.shape"
   ]
  },
  {
   "cell_type": "code",
   "execution_count": 162,
   "metadata": {
    "pycharm": {
     "name": "#%%\n"
    }
   },
   "outputs": [
    {
     "data": {
      "text/plain": "[0.18496224,\n 0.2967093,\n 0.4982221,\n 0.8320486,\n 1.2259119,\n 1.5879011,\n 1.8741812,\n 2.083234,\n 2.229856,\n 2.316859,\n 2.3684402,\n 2.3733656,\n 2.3434477,\n 2.3011036,\n 2.2307172,\n 2.1561236,\n 2.0610878,\n 1.9719656,\n 1.8757718,\n 1.7789272,\n 1.7017081,\n 1.6234955,\n 1.5526606,\n 1.4909273,\n 1.4253695,\n 1.3776684,\n 1.3344295,\n 1.2856934,\n 1.2607132,\n 1.2182722,\n 1.2086159,\n 1.1747879,\n 1.1645277,\n 1.1311744,\n 1.1322222,\n 1.1057899,\n 1.09872,\n 1.0852387,\n 1.0799303,\n 1.0713274,\n 1.0626113,\n 1.0612156,\n 1.056319,\n 1.0519658,\n 1.0477186,\n 1.0466,\n 1.0441452,\n 1.0435966,\n 1.0410241,\n 1.0407655]"
     },
     "execution_count": 162,
     "metadata": {},
     "output_type": "execute_result"
    }
   ],
   "source": [
    "[x.mean() for x in logger.curr_dict[\"loss_progress\"]]"
   ]
  },
  {
   "cell_type": "code",
   "execution_count": 163,
   "metadata": {
    "pycharm": {
     "name": "#%%\n"
    }
   },
   "outputs": [
    {
     "data": {
      "text/plain": "tensor([8, 9, 0, 5, 4, 8, 8, 7, 9, 4, 9, 0, 1, 2, 5, 8, 1, 1, 2, 3])"
     },
     "execution_count": 163,
     "metadata": {},
     "output_type": "execute_result"
    }
   ],
   "source": [
    "model(results).argmax(dim=-1)"
   ]
  },
  {
   "cell_type": "code",
   "execution_count": 164,
   "metadata": {
    "pycharm": {
     "name": "#%%\n"
    }
   },
   "outputs": [
    {
     "data": {
      "text/plain": "tensor([8, 6, 4, 0, 6, 6, 8, 9, 6, 1, 6, 3, 0, 0, 4, 8, 5, 7, 8, 8])"
     },
     "execution_count": 164,
     "metadata": {},
     "output_type": "execute_result"
    }
   ],
   "source": [
    "model(images).argmax(dim=-1)"
   ]
  },
  {
   "cell_type": "code",
   "execution_count": 165,
   "metadata": {
    "pycharm": {
     "name": "#%%\n"
    }
   },
   "outputs": [
    {
     "data": {
      "text/plain": "tensor([8, 6, 4, 0, 6, 6, 8, 9, 6, 1, 6, 3, 0, 0, 2, 8, 5, 7, 8, 8])"
     },
     "execution_count": 165,
     "metadata": {},
     "output_type": "execute_result"
    }
   ],
   "source": [
    "labels"
   ]
  },
  {
   "cell_type": "code",
   "execution_count": 166,
   "metadata": {
    "pycharm": {
     "name": "#%%\n"
    }
   },
   "outputs": [
    {
     "data": {
      "text/plain": "<Figure size 432x288 with 1 Axes>",
      "image/png": "[encoded data removed]"
     },
     "metadata": {
      "needs_background": "light"
     },
     "output_type": "display_data"
    }
   ],
   "source": [
    "logger.plot_progress(kind=\"loss\")"
   ]
  },
  {
   "cell_type": "code",
   "execution_count": 167,
   "metadata": {
    "pycharm": {
     "name": "#%%\n"
    }
   },
   "outputs": [
    {
     "data": {
      "text/plain": "<Figure size 432x288 with 1 Axes>",
      "image/png": "[encoded data removed]"
     },
     "metadata": {
      "needs_background": "light"
     },
     "output_type": "display_data"
    }
   ],
   "source": [
    "logger.plot_progress(kind=\"acc\")"
   ]
  },
  {
   "cell_type": "code",
   "execution_count": 173,
   "outputs": [
    {
     "data": {
      "text/plain": "<Figure size 432x288 with 1 Axes>",
      "image/png": "[encoded data removed]"
     },
     "metadata": {
      "needs_background": "light"
     },
     "output_type": "display_data"
    }
   ],
   "source": [
    "logger.plot_QD()"
   ],
   "metadata": {
    "collapsed": false,
    "pycharm": {
     "name": "#%%\n"
    }
   }
  },
  {
   "cell_type": "code",
   "execution_count": 169,
   "outputs": [],
   "source": [
    "logger.save_all(force=True)"
   ],
   "metadata": {
    "collapsed": false,
    "pycharm": {
     "name": "#%%\n"
    }
   }
  },
  {
   "cell_type": "code",
   "execution_count": 170,
   "outputs": [
    {
     "data": {
      "text/plain": "defaultdict(dict,\n            {0: {'norm_progress': array([[0.        , 0.        , 0.        , ..., 0.        , 0.        ,\n                      0.        ],\n                     [0.        , 0.04007831, 0.10700542, ..., 0.05925915, 0.02764684,\n                      0.05600905],\n                     [0.        , 0.05724892, 0.16422555, ..., 0.08851808, 0.04410398,\n                      0.08677661],\n                     ...,\n                     [0.        , 0.03716201, 0.09298959, ..., 0.04862723, 0.03383946,\n                      0.05414796],\n                     [0.        , 0.03710872, 0.09312296, ..., 0.04869696, 0.03379095,\n                      0.05422559],\n                     [0.        , 0.03706446, 0.09301183, ..., 0.04863885, 0.03383124,\n                      0.05416089]], dtype=float32),\n              'loss_progress': array([[1.0361254 , 0.640678  , 0.00133223, ..., 0.02308878, 0.56411695,\n                      0.10169575],\n                     [1.0361254 , 0.9521005 , 0.02211155, ..., 0.10681905, 0.6585025 ,\n                      0.30465782],\n                     [1.0361254 , 1.2374294 , 0.10221766, ..., 0.5666767 , 0.7291885 ,\n                      0.72588056],\n                     ...,\n                     [1.0361254 , 1.2407849 , 0.71692115, ..., 0.69485503, 0.770081  ,\n                      0.802452  ],\n                     [1.0361254 , 1.2393484 , 0.7238671 , ..., 0.69908506, 0.769734  ,\n                      0.80519134],\n                     [1.0361254 , 1.2381455 , 0.7191437 , ..., 0.6956579 , 0.7700254 ,\n                      0.80301666]], dtype=float32),\n              'acc_progress': array([[0., 1., 1., ..., 1., 1., 1.],\n                     [0., 1., 1., ..., 1., 1., 1.],\n                     [0., 1., 1., ..., 1., 1., 1.],\n                     ...,\n                     [0., 0., 1., ..., 1., 0., 1.],\n                     [0., 0., 0., ..., 0., 1., 0.],\n                     [0., 1., 1., ..., 1., 0., 1.]], dtype=float32)}})"
     },
     "execution_count": 170,
     "metadata": {},
     "output_type": "execute_result"
    }
   ],
   "source": [
    "logger.dict"
   ],
   "metadata": {
    "collapsed": false,
    "pycharm": {
     "name": "#%%\n"
    }
   }
  },
  {
   "cell_type": "code",
   "execution_count": 174,
   "outputs": [],
   "source": [
    "from sweeping import Sweeper"
   ],
   "metadata": {
    "collapsed": false,
    "pycharm": {
     "name": "#%%\n"
    }
   }
  },
  {
   "cell_type": "code",
   "execution_count": 178,
   "outputs": [],
   "source": [
    "sweeper = Sweeper.from_jsonfile(\"config.json\")"
   ],
   "metadata": {
    "collapsed": false,
    "pycharm": {
     "name": "#%%\n"
    }
   }
  },
  {
   "cell_type": "code",
   "execution_count": 179,
   "outputs": [
    {
     "data": {
      "text/plain": "  attack  dataset loss_f                             model  norm  steps  \\\n0    fmn  CIFAR10     DL  Gowal2021Improving_R18_ddpm_100m  Linf    100   \n1    fmn  CIFAR10     DL          Rade2021Helper_R18_extra  Linf    100   \n2    fmn  CIFAR10   <NA>  Gowal2021Improving_R18_ddpm_100m    L2    100   \n3    fmn  CIFAR10   <NA>          Rade2021Helper_R18_extra    L2    100   \n4   alma  CIFAR10   <NA>  Gowal2021Improving_R18_ddpm_100m    L2   <NA>   \n5   alma  CIFAR10   <NA>          Rade2021Helper_R18_extra    L2   <NA>   \n6   alma  CIFAR10   <NA>  Gowal2021Improving_R18_ddpm_100m  Linf   <NA>   \n7   alma  CIFAR10   <NA>          Rade2021Helper_R18_extra  Linf   <NA>   \n\n   num_steps  \n0       <NA>  \n1       <NA>  \n2       <NA>  \n3       <NA>  \n4        100  \n5        100  \n6        100  \n7        100  ",
      "text/html": "<div>\n<style scoped>\n    .dataframe tbody tr th:only-of-type {\n        vertical-align: middle;\n    }\n\n    .dataframe tbody tr th {\n        vertical-align: top;\n    }\n\n    .dataframe thead th {\n        text-align: right;\n    }\n</style>\n<table border=\"1\" class=\"dataframe\">\n  <thead>\n    <tr style=\"text-align: right;\">\n      <th></th>\n      <th>attack</th>\n      <th>dataset</th>\n      <th>loss_f</th>\n      <th>model</th>\n      <th>norm</th>\n      <th>steps</th>\n      <th>num_steps</th>\n    </tr>\n  </thead>\n  <tbody>\n    <tr>\n      <th>0</th>\n      <td>fmn</td>\n      <td>CIFAR10</td>\n      <td>DL</td>\n      <td>Gowal2021Improving_R18_ddpm_100m</td>\n      <td>Linf</td>\n      <td>100</td>\n      <td>&lt;NA&gt;</td>\n    </tr>\n    <tr>\n      <th>1</th>\n      <td>fmn</td>\n      <td>CIFAR10</td>\n      <td>DL</td>\n      <td>Rade2021Helper_R18_extra</td>\n      <td>Linf</td>\n      <td>100</td>\n      <td>&lt;NA&gt;</td>\n    </tr>\n    <tr>\n      <th>2</th>\n      <td>fmn</td>\n      <td>CIFAR10</td>\n      <td>&lt;NA&gt;</td>\n      <td>Gowal2021Improving_R18_ddpm_100m</td>\n      <td>L2</td>\n      <td>100</td>\n      <td>&lt;NA&gt;</td>\n    </tr>\n    <tr>\n      <th>3</th>\n      <td>fmn</td>\n      <td>CIFAR10</td>\n      <td>&lt;NA&gt;</td>\n      <td>Rade2021Helper_R18_extra</td>\n      <td>L2</td>\n      <td>100</td>\n      <td>&lt;NA&gt;</td>\n    </tr>\n    <tr>\n      <th>4</th>\n      <td>alma</td>\n      <td>CIFAR10</td>\n      <td>&lt;NA&gt;</td>\n      <td>Gowal2021Improving_R18_ddpm_100m</td>\n      <td>L2</td>\n      <td>&lt;NA&gt;</td>\n      <td>100</td>\n    </tr>\n    <tr>\n      <th>5</th>\n      <td>alma</td>\n      <td>CIFAR10</td>\n      <td>&lt;NA&gt;</td>\n      <td>Rade2021Helper_R18_extra</td>\n      <td>L2</td>\n      <td>&lt;NA&gt;</td>\n      <td>100</td>\n    </tr>\n    <tr>\n      <th>6</th>\n      <td>alma</td>\n      <td>CIFAR10</td>\n      <td>&lt;NA&gt;</td>\n      <td>Gowal2021Improving_R18_ddpm_100m</td>\n      <td>Linf</td>\n      <td>&lt;NA&gt;</td>\n      <td>100</td>\n    </tr>\n    <tr>\n      <th>7</th>\n      <td>alma</td>\n      <td>CIFAR10</td>\n      <td>&lt;NA&gt;</td>\n      <td>Rade2021Helper_R18_extra</td>\n      <td>Linf</td>\n      <td>&lt;NA&gt;</td>\n      <td>100</td>\n    </tr>\n  </tbody>\n</table>\n</div>"
     },
     "execution_count": 179,
     "metadata": {},
     "output_type": "execute_result"
    }
   ],
   "source": [
    "sweeper.config_df"
   ],
   "metadata": {
    "collapsed": false,
    "pycharm": {
     "name": "#%%\n"
    }
   }
  },
  {
   "cell_type": "code",
   "execution_count": null,
   "outputs": [
    {
     "name": "stdout",
     "output_type": "stream",
     "text": [
      "attack                          fmn\n",
      "dataset                     CIFAR10\n",
      "loss_f                           DL\n",
      "model      Rade2021Helper_R18_extra\n",
      "norm                           Linf\n",
      "steps                           100\n",
      "Name: 1, dtype: object\n",
      "Files already downloaded and verified\n"
     ]
    },
    {
     "name": "stderr",
     "output_type": "stream",
     "text": [
      " 20%|██        | 1/5 [01:33<06:12, 93.18s/it]"
     ]
    }
   ],
   "source": [
    "sweeper.sweep()"
   ],
   "metadata": {
    "collapsed": false,
    "pycharm": {
     "name": "#%%\n",
     "is_executing": true
    }
   }
  },
  {
   "cell_type": "code",
   "execution_count": 75,
   "outputs": [],
   "source": [],
   "metadata": {
    "collapsed": false,
    "pycharm": {
     "name": "#%%\n"
    }
   }
  }
 ],
 "metadata": {
  "kernelspec": {
   "display_name": "Python 3",
   "language": "python",
   "name": "python3"
  },
  "language_info": {
   "codemirror_mode": {
    "name": "ipython",
    "version": 3
   },
   "file_extension": ".py",
   "mimetype": "text/x-python",
   "name": "python",
   "nbconvert_exporter": "python",
   "pygments_lexer": "ipython3",
   "version": "3.8.10"
  }
 },
 "nbformat": 4,
 "nbformat_minor": 1
}
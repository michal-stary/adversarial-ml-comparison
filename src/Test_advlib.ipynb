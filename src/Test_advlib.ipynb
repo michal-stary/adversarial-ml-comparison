{
 "cells": [
  {
   "cell_type": "code",
   "execution_count": 1,
   "metadata": {
    "pycharm": {
     "name": "#%%\n"
    }
   },
   "outputs": [],
   "source": [
    "%load_ext autoreload\n",
    "%autoreload 2"
   ]
  },
  {
   "cell_type": "code",
   "execution_count": 2,
   "metadata": {
    "pycharm": {
     "name": "#%%\n"
    }
   },
   "outputs": [],
   "source": [
    "\n",
    "from robustbench.utils import load_model\n",
    "# Load a model from the model zoo\n",
    "model = load_model(model_name='Gowal2021Improving_R18_ddpm_100m', dataset='cifar10', threat_model='Linf',  model_dir=\"models\")\n"
   ]
  },
  {
   "cell_type": "code",
   "execution_count": 3,
   "metadata": {
    "pycharm": {
     "name": "#%%\n"
    }
   },
   "outputs": [],
   "source": [
    "## get data"
   ]
  },
  {
   "cell_type": "code",
   "execution_count": 4,
   "metadata": {
    "pycharm": {
     "name": "#%%\n"
    }
   },
   "outputs": [
    {
     "name": "stdout",
     "output_type": "stream",
     "text": [
      "Files already downloaded and verified\n"
     ]
    }
   ],
   "source": [
    "import torchvision.datasets as datasets\n",
    "from torchvision import transforms\n",
    "import torch\n",
    "from src.utils.data_utils import create_loaders\n",
    "\n",
    "\n",
    "transf = transforms.Compose([lambda x: x/1])\n",
    "device = torch.device('cuda') if torch.cuda.is_available() else 'cpu'\n",
    "\n",
    "# cifar_trainset = datasets.CIFAR10(root='data', train=True, download=True, transform=None)\n",
    "# cifar_testset = datasets.CIFAR10(root='data', train=False, download=True, transform=None)\n",
    "\n",
    "\n",
    "\n",
    "\n",
    "\n",
    "batch_size = 20\n",
    "n_workers = 1\n",
    "data_loader = create_loaders(\"./data\", task_config=\"CIFAR10\",\n",
    "                             batch_size=batch_size,\n",
    "                             transform=transf,\n",
    "                             random_state=0,\n",
    "                             n_workers=n_workers)\n"
   ]
  },
  {
   "cell_type": "code",
   "execution_count": 5,
   "metadata": {
    "pycharm": {
     "name": "#%%\n"
    }
   },
   "outputs": [],
   "source": [
    "images, labels = next(iter(data_loader))\n",
    "images, labels = images.to(device), labels.to(device)"
   ]
  },
  {
   "cell_type": "code",
   "execution_count": 33,
   "metadata": {
    "pycharm": {
     "is_executing": true,
     "name": "#%%\n"
    }
   },
   "outputs": [
    {
     "name": "stderr",
     "output_type": "stream",
     "text": [
      "100%|██████████| 5/5 [09:38<00:00, 115.63s/it]\n"
     ]
    }
   ],
   "source": [
    "from adv_lib.attacks import fmn\n",
    "from tracking.tracker import PyTorchModelTrackerSetup\n",
    "from logging_ import Logger\n",
    "from tqdm import tqdm\n",
    "import sys\n",
    "\n",
    "logger = Logger()\n",
    "tracked_model = PyTorchModelTrackerSetup(model, loss_f=\"CE\", logger=logger)  # pytorch model\n",
    "\n",
    "\n",
    "norm = float(\"inf\")  # will use Linf norm\n",
    "n_samples = 100\n",
    "\n",
    "for b, (images, labels) in enumerate(tqdm(data_loader, total=n_samples//batch_size)):\n",
    "\n",
    "    if b*batch_size >= n_samples:\n",
    "        break\n",
    "\n",
    "    tracked_model.setup(images, labels)\n",
    "    # do attack on selected examples\n",
    "    results = fmn(tracked_model, images, labels, norm, steps=100)\n",
    "    tracked_model.log()\n",
    "    #print(logger.loss_progress)\n",
    "\n",
    "    #print(sum(map(lambda x: sys.getsizeof(x.storage()), logger.loss_progress)))\n",
    "#     print(sys.getsizeof(logger.norm_progress.storage()))\n"
   ]
  },
  {
   "cell_type": "code",
   "execution_count": 7,
   "metadata": {
    "pycharm": {
     "is_executing": true,
     "name": "#%%\n"
    }
   },
   "outputs": [
    {
     "data": {
      "text/plain": [
       "torch.Size([20, 3, 32, 32])"
      ]
     },
     "execution_count": 7,
     "metadata": {},
     "output_type": "execute_result"
    }
   ],
   "source": [
    "results.shape"
   ]
  },
  {
   "cell_type": "code",
   "execution_count": 8,
   "metadata": {
    "pycharm": {
     "is_executing": true,
     "name": "#%%\n"
    }
   },
   "outputs": [
    {
     "data": {
      "text/plain": [
       "dict_items([('model', defaultdict(<function Logger.__init__.<locals>.<lambda>.<locals>.<lambda> at 0x7f6b2d09aa60>, {'attack': defaultdict(<function Logger.__init__.<locals>.<lambda>.<locals>.<lambda>.<locals>.<lambda> at 0x7f6b4edc0430>, {'{}': defaultdict(None, {'norm_progress': [tensor([0., 0., 0., 0., 0., 0., 0., 0., 0., 0., 0., 0., 0., 0., 0., 0., 0., 0., 0., 0.]), tensor([0.0000, 0.0401, 0.1070, 0.1092, 0.0662, 0.2201, 0.1033, 0.0627, 0.0341,\n",
       "        0.0856, 0.0132, 0.1173, 0.0744, 0.1174, 0.0429, 0.0013, 0.0492, 0.0153,\n",
       "        0.0625, 0.0815]), tensor([0.0000, 0.0572, 0.1642, 0.1980, 0.1197, 0.4011, 0.1814, 0.1099, 0.0488,\n",
       "        0.1576, 0.0159, 0.1806, 0.1329, 0.1947, 0.0626, 0.0013, 0.0662, 0.0207,\n",
       "        0.1088, 0.1445]), tensor([0.0000, 0.0577, 0.2156, 0.2483, 0.1460, 0.4852, 0.2307, 0.1449, 0.0494,\n",
       "        0.1919, 0.0152, 0.2014, 0.1575, 0.2319, 0.0664, 0.0012, 0.0632, 0.0198,\n",
       "        0.1243, 0.1792]), tensor([0.0000, 0.0554, 0.2531, 0.2659, 0.1488, 0.5364, 0.2459, 0.1617, 0.0475,\n",
       "        0.1948, 0.0145, 0.1934, 0.1513, 0.2370, 0.0638, 0.0013, 0.0607, 0.0190,\n",
       "        0.1194, 0.1884]), tensor([0.0000, 0.0536, 0.2598, 0.2571, 0.1439, 0.5659, 0.2378, 0.1563, 0.0459,\n",
       "        0.1883, 0.0141, 0.1870, 0.1463, 0.2292, 0.0617, 0.0012, 0.0587, 0.0184,\n",
       "        0.1154, 0.1821]), tensor([0.0000, 0.0522, 0.2532, 0.2505, 0.1402, 0.5811, 0.2317, 0.1524, 0.0447,\n",
       "        0.1835, 0.0137, 0.1822, 0.1425, 0.2233, 0.0601, 0.0013, 0.0572, 0.0179,\n",
       "        0.1125, 0.1775]), tensor([0.0000, 0.0513, 0.2486, 0.2461, 0.1377, 0.5913, 0.2276, 0.1496, 0.0439,\n",
       "        0.1802, 0.0140, 0.1790, 0.1400, 0.2193, 0.0590, 0.0013, 0.0562, 0.0182,\n",
       "        0.1105, 0.1743]), tensor([0.0000, 0.0507, 0.2459, 0.2433, 0.1362, 0.5977, 0.2251, 0.1480, 0.0434,\n",
       "        0.1782, 0.0138, 0.1770, 0.1384, 0.2169, 0.0584, 0.0013, 0.0556, 0.0180,\n",
       "        0.1092, 0.1724]), tensor([0.0000, 0.0504, 0.2445, 0.2419, 0.1354, 0.6018, 0.2238, 0.1471, 0.0432,\n",
       "        0.1772, 0.0139, 0.1760, 0.1376, 0.2157, 0.0580, 0.0013, 0.0552, 0.0179,\n",
       "        0.1086, 0.1714])], 'loss_progress': [tensor([1.0361e+00, 6.4068e-01, 1.3322e-03, 7.6508e-03, 1.7425e-02, 5.0425e-04,\n",
       "        2.8088e-03, 3.6348e-03, 7.6688e-02, 7.4360e-02, 4.6686e-01, 5.5949e-03,\n",
       "        1.3680e-02, 2.9637e-03, 1.3967e-01, 6.4891e-01, 1.2091e-01, 6.1714e-01,\n",
       "        7.0003e-03, 1.6998e-02]), tensor([1.0361, 0.9521, 0.0221, 0.0396, 0.0934, 0.0024, 0.0207, 0.0307, 0.3144,\n",
       "        0.1597, 0.8651, 0.0378, 0.1274, 0.0243, 0.3924, 0.6927, 0.4609, 0.8988,\n",
       "        0.0538, 0.0721]), tensor([1.0361, 1.2340, 0.1005, 0.1463, 0.3261, 0.0079, 0.1062, 0.1379, 0.7210,\n",
       "        0.3462, 1.0074, 0.2468, 0.7146, 0.1742, 0.6544, 0.6936, 1.0354, 1.0287,\n",
       "        0.3137, 0.2454]), tensor([1.0361, 1.3793, 0.2701, 0.4582, 0.7166, 0.0243, 0.4442, 0.3867, 0.9225,\n",
       "        0.6868, 1.0036, 0.8202, 1.7902, 0.7085, 0.7830, 0.6916, 1.2864, 1.0346,\n",
       "        1.0658, 0.6835]), tensor([1.0361, 1.4460, 0.6161, 1.0384, 1.1879, 0.0647, 0.9490, 0.7320, 0.9707,\n",
       "        1.1494, 0.9895, 1.7484, 2.6994, 1.5322, 0.8090, 0.6933, 1.3997, 1.0304,\n",
       "        1.5073, 1.3836]), tensor([1.0361, 1.4809, 0.9932, 1.7607, 1.6173, 0.1329, 1.3153, 0.9795, 0.9772,\n",
       "        1.7248, 0.9743, 2.5440, 3.1608, 2.0967, 0.8172, 0.6919, 1.4321, 1.0235,\n",
       "        1.7054, 2.0808]), tensor([1.0361, 1.4856, 1.3133, 2.4867, 1.9062, 0.2139, 1.5942, 1.1292, 0.9673,\n",
       "        2.2085, 0.9615, 3.0628, 3.4266, 2.4416, 0.8173, 0.6930, 1.4372, 1.0167,\n",
       "        1.7655, 2.6102]), tensor([1.0361, 1.4852, 1.5516, 3.0281, 2.1103, 0.2921, 1.7745, 1.2053, 0.9565,\n",
       "        2.5819, 0.9737, 3.3770, 3.5552, 2.6534, 0.8137, 0.6938, 1.4306, 1.0259,\n",
       "        1.7872, 2.9381]), tensor([1.0361, 1.4823, 1.6994, 3.3479, 2.2491, 0.3540, 1.8856, 1.2408, 0.9489,\n",
       "        2.8304, 0.9677, 3.5440, 3.6130, 2.7694, 0.8103, 0.6933, 1.4232, 1.0225,\n",
       "        1.7998, 3.1358]), tensor([1.0361, 1.4805, 1.7704, 3.5071, 2.3146, 0.3904, 1.9404, 1.2561, 0.9444,\n",
       "        2.9598, 0.9715, 3.6137, 3.6381, 2.8239, 0.8084, 0.6930, 1.4185, 1.0207,\n",
       "        1.8018, 3.2327])], 'acc_progress': [tensor([0., 1., 1., 1., 1., 1., 1., 1., 1., 1., 1., 1., 1., 1., 1., 1., 1., 1.,\n",
       "        1., 1.]), tensor([0., 1., 1., 1., 1., 1., 1., 1., 1., 1., 1., 1., 1., 1., 1., 1., 1., 1.,\n",
       "        1., 1.]), tensor([0., 1., 1., 1., 1., 1., 1., 1., 1., 1., 0., 1., 1., 1., 1., 0., 0., 0.,\n",
       "        1., 1.]), tensor([0., 0., 1., 1., 1., 1., 1., 1., 0., 1., 0., 0., 0., 1., 0., 1., 0., 0.,\n",
       "        0., 1.]), tensor([0., 0., 1., 0., 0., 1., 0., 0., 0., 0., 0., 0., 0., 0., 0., 0., 0., 0.,\n",
       "        0., 0.]), tensor([0., 0., 0., 0., 0., 1., 0., 0., 0., 0., 0., 0., 0., 0., 0., 1., 0., 0.,\n",
       "        0., 0.]), tensor([0., 0., 0., 0., 0., 1., 0., 0., 0., 0., 1., 0., 0., 0., 0., 1., 0., 1.,\n",
       "        0., 0.]), tensor([0., 0., 0., 0., 0., 1., 0., 0., 0., 0., 0., 0., 0., 0., 0., 0., 0., 0.,\n",
       "        0., 0.]), tensor([0., 0., 0., 0., 0., 1., 0., 0., 0., 0., 1., 0., 0., 0., 0., 0., 0., 0.,\n",
       "        0., 0.]), tensor([0., 0., 0., 0., 0., 1., 0., 0., 0., 0., 1., 0., 0., 0., 0., 1., 0., 0.,\n",
       "        0., 0.])]})})}))])"
      ]
     },
     "execution_count": 8,
     "metadata": {},
     "output_type": "execute_result"
    }
   ],
   "source": [
    "logger.dict.items()"
   ]
  },
  {
   "cell_type": "code",
   "execution_count": 9,
   "metadata": {
    "pycharm": {
     "is_executing": true,
     "name": "#%%\n"
    }
   },
   "outputs": [
    {
     "data": {
      "text/plain": [
       "tensor([0., 0., 0., 0., 0., 0., 0., 0., 0., 0., 0., 0., 0., 0., 0., 0., 0., 0., 0., 0.])"
      ]
     },
     "execution_count": 9,
     "metadata": {},
     "output_type": "execute_result"
    }
   ],
   "source": [
    "logger.norm_progress[0]"
   ]
  },
  {
   "cell_type": "code",
   "execution_count": 10,
   "metadata": {
    "pycharm": {
     "is_executing": true,
     "name": "#%%\n"
    }
   },
   "outputs": [
    {
     "data": {
      "text/plain": [
       "[tensor(0.1950),\n",
       " tensor(0.3148),\n",
       " tensor(0.5138),\n",
       " tensor(0.8096),\n",
       " tensor(1.1492),\n",
       " tensor(1.4272),\n",
       " tensor(1.6287),\n",
       " tensor(1.7635),\n",
       " tensor(1.8427),\n",
       " tensor(1.8811)]"
      ]
     },
     "execution_count": 10,
     "metadata": {},
     "output_type": "execute_result"
    }
   ],
   "source": [
    "[x.mean() for x in logger.loss_progress]"
   ]
  },
  {
   "cell_type": "code",
   "execution_count": 11,
   "metadata": {
    "pycharm": {
     "is_executing": true,
     "name": "#%%\n"
    }
   },
   "outputs": [
    {
     "data": {
      "text/plain": [
       "tensor([[[[0.8667, 0.8000, 0.7843,  ..., 0.7569, 0.7608, 0.8000],\n",
       "          [0.8275, 0.6863, 0.6314,  ..., 0.6157, 0.6118, 0.6863],\n",
       "          [0.7765, 0.5725, 0.4667,  ..., 0.4549, 0.4471, 0.5529],\n",
       "          ...,\n",
       "          [0.8392, 0.7412, 0.6784,  ..., 0.8275, 0.8157, 0.8314],\n",
       "          [0.8902, 0.8235, 0.7922,  ..., 0.8000, 0.8118, 0.8471],\n",
       "          [0.9333, 0.8902, 0.8706,  ..., 0.8627, 0.8706, 0.9020]],\n",
       "\n",
       "         [[0.8980, 0.8157, 0.7843,  ..., 0.7922, 0.7922, 0.8314],\n",
       "          [0.8549, 0.7098, 0.6431,  ..., 0.6431, 0.6353, 0.7098],\n",
       "          [0.7961, 0.5922, 0.4824,  ..., 0.4784, 0.4667, 0.5725],\n",
       "          ...,\n",
       "          [0.8745, 0.7529, 0.6745,  ..., 0.8314, 0.8235, 0.8471],\n",
       "          [0.9255, 0.8431, 0.8039,  ..., 0.8196, 0.8314, 0.8667],\n",
       "          [0.9647, 0.9137, 0.8784,  ..., 0.8824, 0.8902, 0.9216]],\n",
       "\n",
       "         [[0.8314, 0.7569, 0.7373,  ..., 0.7137, 0.7333, 0.7765],\n",
       "          [0.7882, 0.6588, 0.6078,  ..., 0.5804, 0.5961, 0.6706],\n",
       "          [0.7373, 0.5490, 0.4588,  ..., 0.4275, 0.4392, 0.5412],\n",
       "          ...,\n",
       "          [0.7961, 0.6784, 0.6039,  ..., 0.7490, 0.7412, 0.7647],\n",
       "          [0.8431, 0.7647, 0.7294,  ..., 0.7333, 0.7451, 0.7804],\n",
       "          [0.8824, 0.8353, 0.8078,  ..., 0.7961, 0.8039, 0.8353]]],\n",
       "\n",
       "\n",
       "        [[[0.2246, 0.2422, 0.2638,  ..., 0.1005, 0.1294, 0.1279],\n",
       "          [0.2165, 0.2159, 0.2288,  ..., 0.1186, 0.1362, 0.1324],\n",
       "          [0.2385, 0.2386, 0.2424,  ..., 0.1308, 0.1397, 0.1470],\n",
       "          ...,\n",
       "          [0.6543, 0.5498, 0.5441,  ..., 0.4967, 0.4566, 0.4211],\n",
       "          [0.5198, 0.4783, 0.5066,  ..., 0.5778, 0.4878, 0.4963],\n",
       "          [0.5472, 0.5040, 0.5457,  ..., 0.5332, 0.5067, 0.5602]],\n",
       "\n",
       "         [[0.1796, 0.2148, 0.2623,  ..., 0.0179, 0.0192, 0.0321],\n",
       "          [0.1641, 0.1676, 0.1837,  ..., 0.0270, 0.0294, 0.0453],\n",
       "          [0.1834, 0.1748, 0.1667,  ..., 0.0371, 0.0582, 0.0810],\n",
       "          ...,\n",
       "          [0.5426, 0.4641, 0.4563,  ..., 0.4085, 0.3563, 0.3154],\n",
       "          [0.4198, 0.3810, 0.4189,  ..., 0.4789, 0.4007, 0.4153],\n",
       "          [0.4198, 0.3948, 0.4603,  ..., 0.4483, 0.4078, 0.4473]],\n",
       "\n",
       "         [[0.3751, 0.3938, 0.4487,  ..., 0.1063, 0.1316, 0.1301],\n",
       "          [0.3413, 0.3398, 0.3597,  ..., 0.1253, 0.1379, 0.1389],\n",
       "          [0.3408, 0.3339, 0.3415,  ..., 0.1466, 0.1565, 0.1583],\n",
       "          ...,\n",
       "          [0.5328, 0.4192, 0.4192,  ..., 0.3879, 0.3378, 0.2895],\n",
       "          [0.3846, 0.3355, 0.3794,  ..., 0.4702, 0.3751, 0.3917],\n",
       "          [0.3917, 0.3820, 0.4468,  ..., 0.4108, 0.4067, 0.4622]]],\n",
       "\n",
       "\n",
       "        [[[0.9571, 0.9511, 0.9625,  ..., 0.6998, 0.7235, 0.7242],\n",
       "          [0.9456, 0.9426, 0.9504,  ..., 0.5904, 0.5601, 0.5919],\n",
       "          [0.9291, 0.9304, 0.9421,  ..., 0.5321, 0.5230, 0.5910],\n",
       "          ...,\n",
       "          [0.8783, 0.8754, 0.8553,  ..., 0.7693, 0.7495, 0.8057],\n",
       "          [0.7857, 0.8097, 0.8024,  ..., 0.8181, 0.7672, 0.7896],\n",
       "          [0.6475, 0.7757, 0.7962,  ..., 0.8487, 0.7851, 0.7597]],\n",
       "\n",
       "         [[0.9607, 0.9565, 0.9682,  ..., 0.6606, 0.6971, 0.6881],\n",
       "          [0.9490, 0.9528, 0.9643,  ..., 0.5618, 0.5436, 0.5393],\n",
       "          [0.9530, 0.9527, 0.9684,  ..., 0.4916, 0.4733, 0.5388],\n",
       "          ...,\n",
       "          [0.7385, 0.7536, 0.7640,  ..., 0.6866, 0.6608, 0.7246],\n",
       "          [0.6789, 0.7172, 0.7373,  ..., 0.7395, 0.6882, 0.7145],\n",
       "          [0.5595, 0.6915, 0.7267,  ..., 0.7757, 0.7115, 0.6760]],\n",
       "\n",
       "         [[0.9962, 0.9710, 0.9762,  ..., 0.5026, 0.4884, 0.4341],\n",
       "          [0.9851, 0.9679, 0.9727,  ..., 0.4888, 0.4620, 0.4695],\n",
       "          [0.9767, 0.9649, 0.9729,  ..., 0.3977, 0.3656, 0.4367],\n",
       "          ...,\n",
       "          [0.3103, 0.3485, 0.3425,  ..., 0.3221, 0.2807, 0.3534],\n",
       "          [0.2925, 0.3299, 0.3173,  ..., 0.3981, 0.3234, 0.3414],\n",
       "          [0.2463, 0.3260, 0.3342,  ..., 0.4433, 0.3610, 0.2974]]],\n",
       "\n",
       "\n",
       "        ...,\n",
       "\n",
       "\n",
       "        [[[0.6493, 0.5992, 0.6240,  ..., 0.3121, 0.3027, 0.3277],\n",
       "          [0.6700, 0.6263, 0.6269,  ..., 0.2417, 0.1786, 0.2624],\n",
       "          [0.6270, 0.6288, 0.6191,  ..., 0.1628, 0.0907, 0.2479],\n",
       "          ...,\n",
       "          [0.6610, 0.5925, 0.5157,  ..., 0.3620, 0.3687, 0.3414],\n",
       "          [0.6924, 0.6610, 0.6218,  ..., 0.3555, 0.3917, 0.3524],\n",
       "          [0.6650, 0.6571, 0.6454,  ..., 0.4396, 0.4295, 0.4022]],\n",
       "\n",
       "         [[0.5736, 0.5208, 0.5592,  ..., 0.3405, 0.3628, 0.3826],\n",
       "          [0.5966, 0.5737, 0.5851,  ..., 0.2772, 0.2276, 0.3113],\n",
       "          [0.5449, 0.5498, 0.5824,  ..., 0.2237, 0.1533, 0.3093],\n",
       "          ...,\n",
       "          [0.6535, 0.5920, 0.5400,  ..., 0.3309, 0.3591, 0.3200],\n",
       "          [0.6847, 0.6555, 0.6309,  ..., 0.3341, 0.4036, 0.3675],\n",
       "          [0.6734, 0.6621, 0.6537,  ..., 0.4436, 0.4781, 0.4531]],\n",
       "\n",
       "         [[0.3916, 0.3388, 0.3758,  ..., 0.2394, 0.2402, 0.3159],\n",
       "          [0.4117, 0.3921, 0.4062,  ..., 0.1803, 0.1527, 0.2769],\n",
       "          [0.3575, 0.3751, 0.4668,  ..., 0.1133, 0.0897, 0.2768],\n",
       "          ...,\n",
       "          [0.6571, 0.6532, 0.5532,  ..., 0.2240, 0.2321, 0.2165],\n",
       "          [0.5983, 0.7081, 0.6767,  ..., 0.2160, 0.2396, 0.2247],\n",
       "          [0.6101, 0.6650, 0.6846,  ..., 0.3032, 0.3075, 0.3142]]],\n",
       "\n",
       "\n",
       "        [[[0.7623, 0.8066, 0.8030,  ..., 0.5035, 0.9086, 0.9902],\n",
       "          [0.9580, 0.9944, 0.9952,  ..., 0.5634, 0.8824, 0.9999],\n",
       "          [0.9497, 0.9836, 0.9891,  ..., 0.5433, 0.8758, 0.9996],\n",
       "          ...,\n",
       "          [0.9445, 0.9171, 0.9211,  ..., 0.9289, 0.9679, 0.9986],\n",
       "          [1.0000, 0.9927, 0.9969,  ..., 0.9926, 1.0000, 0.9995],\n",
       "          [0.9953, 0.9842, 0.9887,  ..., 0.9881, 0.9878, 0.9902]],\n",
       "\n",
       "         [[0.8022, 0.8230, 0.8232,  ..., 0.5482, 0.9097, 0.9919],\n",
       "          [0.9646, 0.9994, 0.9960,  ..., 0.5750, 0.8822, 0.9998],\n",
       "          [0.9528, 0.9883, 0.9920,  ..., 0.5677, 0.8747, 0.9995],\n",
       "          ...,\n",
       "          [0.9449, 0.9175, 0.9213,  ..., 0.9293, 0.9686, 0.9999],\n",
       "          [1.0000, 0.9923, 0.9963,  ..., 0.9922, 1.0000, 0.9999],\n",
       "          [0.9959, 0.9844, 0.9883,  ..., 0.9882, 0.9882, 0.9919]],\n",
       "\n",
       "         [[0.7188, 0.7673, 0.7267,  ..., 0.4835, 0.9037, 0.9937],\n",
       "          [0.9646, 0.9824, 0.9879,  ..., 0.5846, 0.8788, 0.9979],\n",
       "          [0.9578, 0.9814, 0.9869,  ..., 0.5667, 0.8746, 0.9978],\n",
       "          ...,\n",
       "          [0.9395, 0.9126, 0.9166,  ..., 0.9291, 0.9674, 0.9976],\n",
       "          [0.9998, 0.9931, 0.9963,  ..., 0.9932, 1.0000, 0.9983],\n",
       "          [0.9953, 0.9842, 0.9878,  ..., 0.9864, 0.9875, 0.9900]]],\n",
       "\n",
       "\n",
       "        [[[0.6250, 0.5702, 0.5190,  ..., 0.3184, 0.3352, 0.3105],\n",
       "          [0.6433, 0.5493, 0.4950,  ..., 0.3636, 0.3712, 0.2842],\n",
       "          [0.6496, 0.5263, 0.4888,  ..., 0.3304, 0.3470, 0.2786],\n",
       "          ...,\n",
       "          [0.6059, 0.6004, 0.6027,  ..., 0.5915, 0.6078, 0.6159],\n",
       "          [0.6355, 0.6444, 0.6355,  ..., 0.5635, 0.5528, 0.5911],\n",
       "          [0.5896, 0.6402, 0.6431,  ..., 0.5923, 0.5742, 0.5629]],\n",
       "\n",
       "         [[0.5737, 0.5174, 0.4557,  ..., 0.3122, 0.3238, 0.2892],\n",
       "          [0.5961, 0.5058, 0.4399,  ..., 0.3621, 0.3719, 0.2791],\n",
       "          [0.5773, 0.4862, 0.4405,  ..., 0.3203, 0.3427, 0.2776],\n",
       "          ...,\n",
       "          [0.5484, 0.5402, 0.5437,  ..., 0.5291, 0.5447, 0.5611],\n",
       "          [0.5800, 0.5915, 0.5833,  ..., 0.5037, 0.4975, 0.5331],\n",
       "          [0.5687, 0.5916, 0.5995,  ..., 0.5360, 0.5157, 0.5291]],\n",
       "\n",
       "         [[0.4496, 0.4901, 0.4269,  ..., 0.2610, 0.2638, 0.2341],\n",
       "          [0.5100, 0.4715, 0.4096,  ..., 0.2932, 0.3006, 0.2013],\n",
       "          [0.5133, 0.4485, 0.3971,  ..., 0.2456, 0.2531, 0.1920],\n",
       "          ...,\n",
       "          [0.4500, 0.4413, 0.4399,  ..., 0.4269, 0.4445, 0.4636],\n",
       "          [0.4765, 0.4876, 0.4766,  ..., 0.4012, 0.3870, 0.4361],\n",
       "          [0.4371, 0.4855, 0.4888,  ..., 0.4364, 0.4145, 0.4281]]]])"
      ]
     },
     "execution_count": 11,
     "metadata": {},
     "output_type": "execute_result"
    }
   ],
   "source": [
    "results"
   ]
  },
  {
   "cell_type": "code",
   "execution_count": 12,
   "metadata": {
    "pycharm": {
     "is_executing": true,
     "name": "#%%\n"
    }
   },
   "outputs": [
    {
     "data": {
      "text/plain": [
       "tensor([4, 3, 4, 0, 0, 8, 3, 8, 9, 0, 8, 0, 6, 3, 5, 9, 3, 6, 1, 4])"
      ]
     },
     "execution_count": 12,
     "metadata": {},
     "output_type": "execute_result"
    }
   ],
   "source": [
    "model(results).argmax(dim=-1)"
   ]
  },
  {
   "cell_type": "code",
   "execution_count": 13,
   "metadata": {
    "pycharm": {
     "is_executing": true,
     "name": "#%%\n"
    }
   },
   "outputs": [
    {
     "data": {
      "text/plain": [
       "tensor([1, 1, 8, 1, 4, 9, 0, 2, 1, 7, 8, 8, 9, 7, 3, 9, 9, 9, 4, 0])"
      ]
     },
     "execution_count": 13,
     "metadata": {},
     "output_type": "execute_result"
    }
   ],
   "source": [
    "model(images).argmax(dim=-1)"
   ]
  },
  {
   "cell_type": "code",
   "execution_count": 14,
   "metadata": {
    "pycharm": {
     "is_executing": true,
     "name": "#%%\n"
    }
   },
   "outputs": [
    {
     "data": {
      "text/plain": [
       "tensor([1, 1, 8, 1, 5, 9, 0, 2, 1, 7, 8, 8, 9, 7, 3, 9, 9, 9, 4, 0])"
      ]
     },
     "execution_count": 14,
     "metadata": {},
     "output_type": "execute_result"
    }
   ],
   "source": [
    "labels"
   ]
  },
  {
   "cell_type": "code",
   "execution_count": 35,
   "metadata": {
    "pycharm": {
     "is_executing": true,
     "name": "#%%\n"
    }
   },
   "outputs": [
    {
     "data": {
      "image/png": "[encoded data removed]",
      "text/plain": [
       "<Figure size 432x288 with 1 Axes>"
      ]
     },
     "metadata": {
      "needs_background": "light"
     },
     "output_type": "display_data"
    }
   ],
   "source": [
    "logger.plot_progress(kind=\"loss\")"
   ]
  },
  {
   "cell_type": "code",
   "execution_count": 36,
   "metadata": {
    "pycharm": {
     "is_executing": true,
     "name": "#%%\n"
    }
   },
   "outputs": [
    {
     "data": {
      "image/png": "[encoded data removed]",
      "text/plain": [
       "<Figure size 432x288 with 1 Axes>"
      ]
     },
     "metadata": {
      "needs_background": "light"
     },
     "output_type": "display_data"
    }
   ],
   "source": [
    "logger.plot_progress(kind=\"acc\")"
   ]
  },
  {
   "cell_type": "code",
   "execution_count": null,
   "metadata": {
    "pycharm": {
     "is_executing": true,
     "name": "#%%\n"
    }
   },
   "outputs": [],
   "source": [
    "logger.acc_progress"
   ]
  },
  {
   "cell_type": "code",
   "execution_count": null,
   "metadata": {
    "pycharm": {
     "is_executing": true,
     "name": "#%%\n"
    }
   },
   "outputs": [],
   "source": []
  }
 ],
 "metadata": {
  "kernelspec": {
   "display_name": "Python 3",
   "language": "python",
   "name": "python3"
  },
  "language_info": {
   "codemirror_mode": {
    "name": "ipython",
    "version": 3
   },
   "file_extension": ".py",
   "mimetype": "text/x-python",
   "name": "python",
   "nbconvert_exporter": "python",
   "pygments_lexer": "ipython3",
   "version": "3.8.10"
  }
 },
 "nbformat": 4,
 "nbformat_minor": 1
}
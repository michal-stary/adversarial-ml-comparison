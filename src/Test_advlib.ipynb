{
 "cells": [
  {
   "cell_type": "code",
   "execution_count": 1,
   "metadata": {
    "pycharm": {
     "name": "#%%\n"
    }
   },
   "outputs": [],
   "source": [
    "%load_ext autoreload\n",
    "%autoreload 2"
   ]
  },
  {
   "cell_type": "code",
   "execution_count": 2,
   "metadata": {
    "pycharm": {
     "name": "#%%\n"
    }
   },
   "outputs": [],
   "source": [
    "\n",
    "from robustbench.utils import load_model\n",
    "# Load a model from the model zoo\n",
    "model = load_model(model_name='Gowal2021Improving_R18_ddpm_100m', dataset='cifar10', threat_model='Linf',  model_dir=\"models\")\n"
   ]
  },
  {
   "cell_type": "code",
   "execution_count": 3,
   "metadata": {
    "pycharm": {
     "name": "#%%\n"
    }
   },
   "outputs": [],
   "source": [
    "## get data"
   ]
  },
  {
   "cell_type": "code",
   "execution_count": 4,
   "metadata": {
    "pycharm": {
     "name": "#%%\n"
    }
   },
   "outputs": [
    {
     "name": "stdout",
     "output_type": "stream",
     "text": [
      "Files already downloaded and verified\n"
     ]
    }
   ],
   "source": [
    "import torchvision.datasets as datasets\n",
    "from torchvision import transforms\n",
    "import torch\n",
    "from src.utils.data_utils import create_loaders\n",
    "\n",
    "\n",
    "transf = transforms.Compose([lambda x: x/1])\n",
    "device = torch.device('cuda') if torch.cuda.is_available() else 'cpu'\n",
    "\n",
    "# cifar_trainset = datasets.CIFAR10(root='data', train=True, download=True, transform=None)\n",
    "# cifar_testset = datasets.CIFAR10(root='data', train=False, download=True, transform=None)\n",
    "\n",
    "\n",
    "\n",
    "\n",
    "\n",
    "batch_size = 20\n",
    "n_workers = 1\n",
    "data_loader = create_loaders(\"./data\", task_config=\"CIFAR10\",\n",
    "                             batch_size=batch_size,\n",
    "                             transform=transf,\n",
    "                             random_state=0,\n",
    "                             n_workers=n_workers)\n"
   ]
  },
  {
   "cell_type": "code",
   "execution_count": 5,
   "metadata": {
    "pycharm": {
     "name": "#%%\n"
    }
   },
   "outputs": [],
   "source": [
    "images, labels = next(iter(data_loader))\n",
    "images, labels = images.to(device), labels.to(device)"
   ]
  },
  {
   "cell_type": "code",
   "execution_count": 38,
   "metadata": {
    "pycharm": {
     "name": "#%%\n"
    }
   },
   "outputs": [
    {
     "name": "stderr",
     "output_type": "stream",
     "text": [
      "100%|██████████| 5/5 [08:24<00:00, 100.86s/it]\n"
     ]
    }
   ],
   "source": [
    "from adv_lib.attacks import fmn\n",
    "from tracking.tracker import PyTorchModelTrackerSetup\n",
    "from logging_ import Logger\n",
    "from tqdm import tqdm\n",
    "import sys\n",
    "\n",
    "logger = Logger()\n",
    "tracked_model = PyTorchModelTrackerSetup(model, loss_f=\"CE\", logger=logger)  # pytorch model\n",
    "\n",
    "\n",
    "norm = float(\"inf\")  # will use Linf norm\n",
    "n_samples = 100\n",
    "\n",
    "for b, (images, labels) in enumerate(tqdm(data_loader, total=n_samples//batch_size)):\n",
    "\n",
    "    if b*batch_size >= n_samples:\n",
    "        break\n",
    "\n",
    "    tracked_model.setup(images, labels)\n",
    "    # do attack on selected examples\n",
    "    results = fmn(tracked_model, images, labels, norm, steps=200)\n",
    "    tracked_model.log()\n",
    "    #print(logger.loss_progress)\n",
    "\n",
    "    #print(sum(map(lambda x: sys.getsizeof(x.storage()), logger.loss_progress)))\n",
    "#     print(sys.getsizeof(logger.norm_progress.storage()))\n"
   ]
  },
  {
   "cell_type": "code",
   "execution_count": 39,
   "metadata": {
    "pycharm": {
     "name": "#%%\n"
    }
   },
   "outputs": [
    {
     "data": {
      "text/plain": "torch.Size([20, 3, 32, 32])"
     },
     "execution_count": 39,
     "metadata": {},
     "output_type": "execute_result"
    }
   ],
   "source": [
    "results.shape"
   ]
  },
  {
   "cell_type": "code",
   "execution_count": 42,
   "metadata": {
    "pycharm": {
     "name": "#%%\n"
    }
   },
   "outputs": [
    {
     "data": {
      "text/plain": "[tensor(0.3408),\n tensor(0.4849),\n tensor(0.6915),\n tensor(0.9668),\n tensor(1.2582),\n tensor(1.5187),\n tensor(1.7311),\n tensor(1.8909),\n tensor(2.0080),\n tensor(2.0746),\n tensor(2.1105),\n tensor(2.1163),\n tensor(2.0916),\n tensor(2.0521),\n tensor(1.9953),\n tensor(1.9332),\n tensor(1.8627),\n tensor(1.7892),\n tensor(1.7174),\n tensor(1.6505),\n tensor(1.5714),\n tensor(1.5196),\n tensor(1.4643),\n tensor(1.4203),\n tensor(1.3613),\n tensor(1.3321),\n tensor(1.2858),\n tensor(1.2432),\n tensor(1.2084),\n tensor(1.1808),\n tensor(1.1412),\n tensor(1.1228),\n tensor(1.0944),\n tensor(1.0744),\n tensor(1.0454),\n tensor(1.0335),\n tensor(1.0087),\n tensor(0.9984),\n tensor(0.9823),\n tensor(0.9690),\n tensor(0.9704),\n tensor(0.9561),\n tensor(0.9576),\n tensor(0.9466),\n tensor(0.9372),\n tensor(0.9327),\n tensor(0.9263),\n tensor(0.9289),\n tensor(0.9291),\n tensor(0.9296),\n tensor(0.9323),\n tensor(0.9358),\n tensor(0.9285),\n tensor(0.9250),\n tensor(0.9230),\n tensor(0.9301),\n tensor(0.9235),\n tensor(0.9287),\n tensor(0.9247),\n tensor(0.9323),\n tensor(0.9197),\n tensor(0.9237),\n tensor(0.9233),\n tensor(0.9264),\n tensor(0.9248),\n tensor(0.9263),\n tensor(0.9225),\n tensor(0.9228),\n tensor(0.9230),\n tensor(0.9225),\n tensor(0.9230),\n tensor(0.9271),\n tensor(0.9250),\n tensor(0.9247),\n tensor(0.9236),\n tensor(0.9281),\n tensor(0.9268),\n tensor(0.9247),\n tensor(0.9248),\n tensor(0.9270),\n tensor(0.9248),\n tensor(0.9276),\n tensor(0.9255),\n tensor(0.9260),\n tensor(0.9260),\n tensor(0.9249),\n tensor(0.9255),\n tensor(0.9272),\n tensor(0.9268),\n tensor(0.9266),\n tensor(0.9259),\n tensor(0.9268),\n tensor(0.9270),\n tensor(0.9267),\n tensor(0.9265),\n tensor(0.9263),\n tensor(0.9266),\n tensor(0.9271),\n tensor(0.9265),\n tensor(0.9263)]"
     },
     "execution_count": 42,
     "metadata": {},
     "output_type": "execute_result"
    }
   ],
   "source": [
    "[x.mean() for x in logger.loss_progress]"
   ]
  },
  {
   "cell_type": "code",
   "execution_count": 44,
   "metadata": {
    "pycharm": {
     "name": "#%%\n"
    }
   },
   "outputs": [
    {
     "data": {
      "text/plain": "tensor([6, 5, 3, 4, 1, 8, 3, 2, 3, 2, 6, 6, 2, 0, 9, 6, 2, 3, 3, 1])"
     },
     "execution_count": 44,
     "metadata": {},
     "output_type": "execute_result"
    }
   ],
   "source": [
    "model(results).argmax(dim=-1)"
   ]
  },
  {
   "cell_type": "code",
   "execution_count": 45,
   "metadata": {
    "pycharm": {
     "name": "#%%\n"
    }
   },
   "outputs": [
    {
     "data": {
      "text/plain": "tensor([8, 0, 0, 0, 7, 6, 5, 6, 1, 7, 7, 9, 1, 2, 7, 4, 8, 0, 3, 1])"
     },
     "execution_count": 45,
     "metadata": {},
     "output_type": "execute_result"
    }
   ],
   "source": [
    "model(images).argmax(dim=-1)"
   ]
  },
  {
   "cell_type": "code",
   "execution_count": 46,
   "metadata": {
    "pycharm": {
     "name": "#%%\n"
    }
   },
   "outputs": [
    {
     "data": {
      "text/plain": "tensor([8, 0, 0, 0, 7, 6, 5, 6, 1, 9, 7, 9, 1, 2, 7, 4, 8, 0, 6, 1])"
     },
     "execution_count": 46,
     "metadata": {},
     "output_type": "execute_result"
    }
   ],
   "source": [
    "labels"
   ]
  },
  {
   "cell_type": "code",
   "execution_count": 47,
   "metadata": {
    "pycharm": {
     "name": "#%%\n"
    }
   },
   "outputs": [
    {
     "data": {
      "text/plain": "<Figure size 432x288 with 1 Axes>",
      "image/png": "[encoded data removed]"
     },
     "metadata": {
      "needs_background": "light"
     },
     "output_type": "display_data"
    }
   ],
   "source": [
    "logger.plot_progress(kind=\"loss\")"
   ]
  },
  {
   "cell_type": "code",
   "execution_count": 48,
   "metadata": {
    "pycharm": {
     "name": "#%%\n"
    }
   },
   "outputs": [
    {
     "data": {
      "text/plain": "<Figure size 432x288 with 1 Axes>",
      "image/png": "[encoded data removed]"
     },
     "metadata": {
      "needs_background": "light"
     },
     "output_type": "display_data"
    }
   ],
   "source": [
    "logger.plot_progress(kind=\"acc\")"
   ]
  },
  {
   "cell_type": "code",
   "execution_count": 50,
   "outputs": [
    {
     "data": {
      "text/plain": "<Figure size 432x288 with 1 Axes>",
      "image/png": "[encoded data removed]"
     },
     "metadata": {
      "needs_background": "light"
     },
     "output_type": "display_data"
    }
   ],
   "source": [
    "logger.plot_QD()"
   ],
   "metadata": {
    "collapsed": false,
    "pycharm": {
     "name": "#%%\n"
    }
   }
  },
  {
   "cell_type": "code",
   "execution_count": 51,
   "outputs": [],
   "source": [
    "logger.save_all(force=True)"
   ],
   "metadata": {
    "collapsed": false,
    "pycharm": {
     "name": "#%%\n"
    }
   }
  },
  {
   "cell_type": "code",
   "execution_count": null,
   "outputs": [],
   "source": [],
   "metadata": {
    "collapsed": false,
    "pycharm": {
     "name": "#%%\n"
    }
   }
  }
 ],
 "metadata": {
  "kernelspec": {
   "display_name": "Python 3",
   "language": "python",
   "name": "python3"
  },
  "language_info": {
   "codemirror_mode": {
    "name": "ipython",
    "version": 3
   },
   "file_extension": ".py",
   "mimetype": "text/x-python",
   "name": "python",
   "nbconvert_exporter": "python",
   "pygments_lexer": "ipython3",
   "version": "3.8.10"
  }
 },
 "nbformat": 4,
 "nbformat_minor": 1
}
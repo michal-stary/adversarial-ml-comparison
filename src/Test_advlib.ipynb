{
 "cells": [
  {
   "cell_type": "code",
   "execution_count": 1,
   "metadata": {
    "pycharm": {
     "name": "#%%\n"
    }
   },
   "outputs": [],
   "source": [
    "%load_ext autoreload\n",
    "%autoreload 2"
   ]
  },
  {
   "cell_type": "code",
   "execution_count": 2,
   "metadata": {
    "pycharm": {
     "name": "#%%\n"
    }
   },
   "outputs": [],
   "source": [
    "\n",
    "from robustbench.utils import load_model\n",
    "# Load a model from the model zoo\n",
    "model = load_model(model_name='Gowal2021Improving_R18_ddpm_100m', dataset='cifar10', threat_model='Linf',  model_dir=\"models\")\n"
   ]
  },
  {
   "cell_type": "code",
   "execution_count": 3,
   "metadata": {
    "pycharm": {
     "name": "#%%\n"
    }
   },
   "outputs": [],
   "source": [
    "## get data"
   ]
  },
  {
   "cell_type": "code",
   "execution_count": 4,
   "metadata": {
    "pycharm": {
     "name": "#%%\n"
    }
   },
   "outputs": [
    {
     "name": "stdout",
     "output_type": "stream",
     "text": [
      "Files already downloaded and verified\n"
     ]
    }
   ],
   "source": [
    "import torchvision.datasets as datasets\n",
    "from torchvision import transforms\n",
    "import torch\n",
    "from src.utils.data_utils import create_loaders\n",
    "\n",
    "\n",
    "transf = transforms.Compose([lambda x: x/1])\n",
    "device = torch.device('cuda') if torch.cuda.is_available() else 'cpu'\n",
    "\n",
    "# cifar_trainset = datasets.CIFAR10(root='data', train=True, download=True, transform=None)\n",
    "# cifar_testset = datasets.CIFAR10(root='data', train=False, download=True, transform=None)\n",
    "\n",
    "\n",
    "\n",
    "\n",
    "\n",
    "batch_size = 20\n",
    "n_workers = 1\n",
    "data_loader = create_loaders(\"./data\", task_config=\"CIFAR10\",\n",
    "                             batch_size=batch_size,\n",
    "                             transform=transf,\n",
    "                             random_state=0,\n",
    "                             n_workers=n_workers)\n"
   ]
  },
  {
   "cell_type": "code",
   "execution_count": 21,
   "metadata": {
    "pycharm": {
     "name": "#%%\n"
    }
   },
   "outputs": [],
   "source": [
    "images, labels = next(iter(data_loader))\n",
    "images, labels = images.to(device), labels.to(device)"
   ]
  },
  {
   "cell_type": "code",
   "execution_count": 22,
   "metadata": {
    "pycharm": {
     "name": "#%%\n"
    }
   },
   "outputs": [
    {
     "name": "stderr",
     "output_type": "stream",
     "text": [
      "100%|██████████| 5/5 [15:03<00:00, 180.74s/it]\n"
     ]
    }
   ],
   "source": [
    "from adv_lib.attacks import fmn\n",
    "from tracking import PyTorchModelTrackerSetup\n",
    "from logging_ import Logger\n",
    "from tqdm import tqdm\n",
    "import sys\n",
    "\n",
    "logger = Logger()\n",
    "logger.setup(attack_name=\"fmn\", model_name=\"Gowal2021Improving_R18_ddpm_100m\", hyperparams=\"default\")\n",
    "tracked_model = PyTorchModelTrackerSetup(model, loss_f=\"CE\", logger=logger)  # pytorch model\n",
    "\n",
    "\n",
    "norm = float(\"inf\")  # will use Linf norm\n",
    "n_samples = 100\n",
    "\n",
    "for b, (images, labels) in enumerate(tqdm(data_loader, total=n_samples//batch_size)):\n",
    "\n",
    "    if b*batch_size >= n_samples:\n",
    "        break\n",
    "\n",
    "    tracked_model.setup(images, labels)\n",
    "    # do attack on selected examples\n",
    "    results = fmn(tracked_model, images, labels, norm, steps=200)\n",
    "    tracked_model.log()\n",
    "    #print(logger.loss_progress)\n",
    "\n",
    "    #print(sum(map(lambda x: sys.getsizeof(x.storage()), logger.loss_progress)))\n",
    "#     print(sys.getsizeof(logger.norm_progress.storage()))\n"
   ]
  },
  {
   "cell_type": "code",
   "execution_count": 23,
   "metadata": {
    "pycharm": {
     "name": "#%%\n"
    }
   },
   "outputs": [
    {
     "data": {
      "text/plain": "torch.Size([20, 3, 32, 32])"
     },
     "execution_count": 23,
     "metadata": {},
     "output_type": "execute_result"
    }
   ],
   "source": [
    "results.shape"
   ]
  },
  {
   "cell_type": "code",
   "execution_count": 24,
   "metadata": {
    "pycharm": {
     "name": "#%%\n"
    }
   },
   "outputs": [
    {
     "data": {
      "text/plain": "[tensor(0.3408),\n tensor(0.4849),\n tensor(0.6915),\n tensor(0.9670),\n tensor(1.2588),\n tensor(1.5198),\n tensor(1.7326),\n tensor(1.8928),\n tensor(2.0097),\n tensor(2.0756),\n tensor(2.1102),\n tensor(2.1141),\n tensor(2.0888),\n tensor(2.0447),\n tensor(1.9862),\n tensor(1.9163),\n tensor(1.8412),\n tensor(1.7616),\n tensor(1.6946),\n tensor(1.6173),\n tensor(1.5533),\n tensor(1.4849),\n tensor(1.4265),\n tensor(1.3813),\n tensor(1.3302),\n tensor(1.2841),\n tensor(1.2364),\n tensor(1.1959),\n tensor(1.1629),\n tensor(1.1225),\n tensor(1.1009),\n tensor(1.0618),\n tensor(1.0286),\n tensor(1.0168),\n tensor(0.9864),\n tensor(0.9796),\n tensor(0.9559),\n tensor(0.9575),\n tensor(0.9389),\n tensor(0.9346),\n tensor(0.9305),\n tensor(0.9263),\n tensor(0.9367),\n tensor(0.9259),\n tensor(0.9423),\n tensor(0.9222),\n tensor(0.9442),\n tensor(0.9163),\n tensor(0.9358),\n tensor(0.9193),\n tensor(0.9382),\n tensor(0.9200),\n tensor(0.9385),\n tensor(0.9259),\n tensor(0.9420),\n tensor(0.9259),\n tensor(0.9323),\n tensor(0.9221),\n tensor(0.9309),\n tensor(0.9254),\n tensor(0.9260),\n tensor(0.9284),\n tensor(0.9286),\n tensor(0.9281),\n tensor(0.9341),\n tensor(0.9288),\n tensor(0.9298),\n tensor(0.9284),\n tensor(0.9372),\n tensor(0.9273),\n tensor(0.9289),\n tensor(0.9304),\n tensor(0.9350),\n tensor(0.9363),\n tensor(0.9332),\n tensor(0.9381),\n tensor(0.9358),\n tensor(0.9379),\n tensor(0.9319),\n tensor(0.9353),\n tensor(0.9317),\n tensor(0.9340),\n tensor(0.9318),\n tensor(0.9413),\n tensor(0.9293),\n tensor(0.9328),\n tensor(0.9301),\n tensor(0.9437),\n tensor(0.9314),\n tensor(0.9345),\n tensor(0.9306),\n tensor(0.9413),\n tensor(0.9295),\n tensor(0.9326),\n tensor(0.9287),\n tensor(0.9388),\n tensor(0.9316),\n tensor(0.9297),\n tensor(0.9272),\n tensor(0.9408),\n tensor(0.9249),\n tensor(0.9331),\n tensor(0.9258),\n tensor(0.9321),\n tensor(0.9288),\n tensor(0.9412),\n tensor(0.9286),\n tensor(0.9366),\n tensor(0.9285),\n tensor(0.9325),\n tensor(0.9288),\n tensor(0.9344),\n tensor(0.9267),\n tensor(0.9374),\n tensor(0.9308),\n tensor(0.9343),\n tensor(0.9303),\n tensor(0.9318),\n tensor(0.9273),\n tensor(0.9308),\n tensor(0.9284),\n tensor(0.9299),\n tensor(0.9266),\n tensor(0.9258),\n tensor(0.9272),\n tensor(0.9301),\n tensor(0.9289),\n tensor(0.9259),\n tensor(0.9235),\n tensor(0.9295),\n tensor(0.9293),\n tensor(0.9224),\n tensor(0.9279),\n tensor(0.9321),\n tensor(0.9241),\n tensor(0.9262),\n tensor(0.9279),\n tensor(0.9235),\n tensor(0.9261),\n tensor(0.9302),\n tensor(0.9244),\n tensor(0.9237),\n tensor(0.9278),\n tensor(0.9272),\n tensor(0.9227),\n tensor(0.9267),\n tensor(0.9257),\n tensor(0.9262),\n tensor(0.9260),\n tensor(0.9267),\n tensor(0.9250),\n tensor(0.9261),\n tensor(0.9240),\n tensor(0.9248),\n tensor(0.9260),\n tensor(0.9267),\n tensor(0.9247),\n tensor(0.9248),\n tensor(0.9267),\n tensor(0.9261),\n tensor(0.9250),\n tensor(0.9261),\n tensor(0.9234),\n tensor(0.9253),\n tensor(0.9257),\n tensor(0.9273),\n tensor(0.9252),\n tensor(0.9257),\n tensor(0.9252),\n tensor(0.9242),\n tensor(0.9255),\n tensor(0.9271),\n tensor(0.9252),\n tensor(0.9250),\n tensor(0.9251),\n tensor(0.9260),\n tensor(0.9266),\n tensor(0.9261),\n tensor(0.9249),\n tensor(0.9250),\n tensor(0.9258),\n tensor(0.9261),\n tensor(0.9254),\n tensor(0.9258),\n tensor(0.9256),\n tensor(0.9256),\n tensor(0.9264),\n tensor(0.9258),\n tensor(0.9251),\n tensor(0.9257),\n tensor(0.9261),\n tensor(0.9258),\n tensor(0.9257),\n tensor(0.9256),\n tensor(0.9257),\n tensor(0.9262),\n tensor(0.9259),\n tensor(0.9254),\n tensor(0.9260),\n tensor(0.9260)]"
     },
     "execution_count": 24,
     "metadata": {},
     "output_type": "execute_result"
    }
   ],
   "source": [
    "[x.mean() for x in logger.loss_progress]"
   ]
  },
  {
   "cell_type": "code",
   "execution_count": 25,
   "metadata": {
    "pycharm": {
     "name": "#%%\n"
    }
   },
   "outputs": [
    {
     "data": {
      "text/plain": "tensor([6, 5, 3, 4, 1, 8, 3, 2, 3, 2, 6, 6, 2, 0, 9, 6, 2, 3, 3, 1])"
     },
     "execution_count": 25,
     "metadata": {},
     "output_type": "execute_result"
    }
   ],
   "source": [
    "model(results).argmax(dim=-1)"
   ]
  },
  {
   "cell_type": "code",
   "execution_count": 26,
   "metadata": {
    "pycharm": {
     "name": "#%%\n"
    }
   },
   "outputs": [
    {
     "data": {
      "text/plain": "tensor([8, 0, 0, 0, 7, 6, 5, 6, 1, 7, 7, 9, 1, 2, 7, 4, 8, 0, 3, 1])"
     },
     "execution_count": 26,
     "metadata": {},
     "output_type": "execute_result"
    }
   ],
   "source": [
    "model(images).argmax(dim=-1)"
   ]
  },
  {
   "cell_type": "code",
   "execution_count": 27,
   "metadata": {
    "pycharm": {
     "name": "#%%\n"
    }
   },
   "outputs": [
    {
     "data": {
      "text/plain": "tensor([8, 0, 0, 0, 7, 6, 5, 6, 1, 9, 7, 9, 1, 2, 7, 4, 8, 0, 6, 1])"
     },
     "execution_count": 27,
     "metadata": {},
     "output_type": "execute_result"
    }
   ],
   "source": [
    "labels"
   ]
  },
  {
   "cell_type": "code",
   "execution_count": 28,
   "metadata": {
    "pycharm": {
     "name": "#%%\n"
    }
   },
   "outputs": [
    {
     "data": {
      "text/plain": "<Figure size 432x288 with 1 Axes>",
      "image/png": "[encoded data removed]"
     },
     "metadata": {
      "needs_background": "light"
     },
     "output_type": "display_data"
    }
   ],
   "source": [
    "logger.plot_progress(kind=\"loss\")"
   ]
  },
  {
   "cell_type": "code",
   "execution_count": 29,
   "metadata": {
    "pycharm": {
     "name": "#%%\n"
    }
   },
   "outputs": [
    {
     "data": {
      "text/plain": "<Figure size 432x288 with 1 Axes>",
      "image/png": "[encoded data removed]"
     },
     "metadata": {
      "needs_background": "light"
     },
     "output_type": "display_data"
    }
   ],
   "source": [
    "logger.plot_progress(kind=\"acc\")"
   ]
  },
  {
   "cell_type": "code",
   "execution_count": 30,
   "outputs": [
    {
     "data": {
      "text/plain": "<Figure size 432x288 with 1 Axes>",
      "image/png": "[encoded data removed]"
     },
     "metadata": {
      "needs_background": "light"
     },
     "output_type": "display_data"
    }
   ],
   "source": [
    "logger.plot_QD()"
   ],
   "metadata": {
    "collapsed": false,
    "pycharm": {
     "name": "#%%\n"
    }
   }
  },
  {
   "cell_type": "code",
   "execution_count": 31,
   "outputs": [],
   "source": [
    "logger.save_all(force=True)"
   ],
   "metadata": {
    "collapsed": false,
    "pycharm": {
     "name": "#%%\n"
    }
   }
  },
  {
   "cell_type": "code",
   "execution_count": 5,
   "outputs": [],
   "source": [
    "from sweeping import Sweeper"
   ],
   "metadata": {
    "collapsed": false,
    "pycharm": {
     "name": "#%%\n"
    }
   }
  },
  {
   "cell_type": "code",
   "execution_count": 18,
   "outputs": [],
   "source": [
    "sweeper = Sweeper.from_jsonfile(\"config.json\")"
   ],
   "metadata": {
    "collapsed": false,
    "pycharm": {
     "name": "#%%\n"
    }
   }
  },
  {
   "cell_type": "code",
   "execution_count": 19,
   "outputs": [
    {
     "name": "stdout",
     "output_type": "stream",
     "text": [
      "fmn\n",
      "Files already downloaded and verified\n"
     ]
    },
    {
     "name": "stderr",
     "output_type": "stream",
     "text": [
      "100%|██████████| 5/5 [06:34<00:00, 78.87s/it]\n"
     ]
    },
    {
     "name": "stdout",
     "output_type": "stream",
     "text": [
      "Done: 1/8\n",
      "alma\n",
      "Files already downloaded and verified\n"
     ]
    },
    {
     "name": "stderr",
     "output_type": "stream",
     "text": [
      "  0%|          | 0/5 [00:00<?, ?it/s]"
     ]
    },
    {
     "name": "stdout",
     "output_type": "stream",
     "text": [
      "Unexpected exception formatting exception. Falling back to standard exception\n"
     ]
    },
    {
     "name": "stderr",
     "output_type": "stream",
     "text": [
      "\n",
      "Traceback (most recent call last):\n",
      "  File \"/home/michal/adversarial-ml-comparison/adv_env/lib/python3.8/site-packages/IPython/core/interactiveshell.py\", line 3369, in run_code\n",
      "    exec(code_obj, self.user_global_ns, self.user_ns)\n",
      "  File \"/tmp/ipykernel_31271/868312607.py\", line 1, in <cell line: 1>\n",
      "    sweeper.sweep()\n",
      "  File \"/home/michal/adversarial-ml-comparison/src/sweeping.py\", line 55, in sweep\n",
      "    self.run(n_samples=n_samples, **row.to_dict())\n",
      "  File \"/home/michal/adversarial-ml-comparison/src/sweeping.py\", line 105, in run\n",
      "    results = attack_f(tracked_model, images, labels, numeric_norm, **hyperparams)\n",
      "TypeError: alma() got an unexpected keyword argument 'steps'\n",
      "\n",
      "During handling of the above exception, another exception occurred:\n",
      "\n",
      "Traceback (most recent call last):\n",
      "  File \"/home/michal/adversarial-ml-comparison/adv_env/lib/python3.8/site-packages/IPython/core/interactiveshell.py\", line 1982, in showtraceback\n",
      "    stb = self.InteractiveTB.structured_traceback(\n",
      "  File \"/home/michal/adversarial-ml-comparison/adv_env/lib/python3.8/site-packages/IPython/core/ultratb.py\", line 1118, in structured_traceback\n",
      "    return FormattedTB.structured_traceback(\n",
      "  File \"/home/michal/adversarial-ml-comparison/adv_env/lib/python3.8/site-packages/IPython/core/ultratb.py\", line 1012, in structured_traceback\n",
      "    return VerboseTB.structured_traceback(\n",
      "  File \"/home/michal/adversarial-ml-comparison/adv_env/lib/python3.8/site-packages/IPython/core/ultratb.py\", line 865, in structured_traceback\n",
      "    formatted_exception = self.format_exception_as_a_whole(etype, evalue, etb, number_of_lines_of_context,\n",
      "  File \"/home/michal/adversarial-ml-comparison/adv_env/lib/python3.8/site-packages/IPython/core/ultratb.py\", line 818, in format_exception_as_a_whole\n",
      "    frames.append(self.format_record(r))\n",
      "  File \"/home/michal/adversarial-ml-comparison/adv_env/lib/python3.8/site-packages/IPython/core/ultratb.py\", line 736, in format_record\n",
      "    result += ''.join(_format_traceback_lines(frame_info.lines, Colors, self.has_colors, lvals))\n",
      "  File \"/home/michal/adversarial-ml-comparison/adv_env/lib/python3.8/site-packages/stack_data/utils.py\", line 145, in cached_property_wrapper\n",
      "    value = obj.__dict__[self.func.__name__] = self.func(obj)\n",
      "  File \"/home/michal/adversarial-ml-comparison/adv_env/lib/python3.8/site-packages/stack_data/core.py\", line 698, in lines\n",
      "    pieces = self.included_pieces\n",
      "  File \"/home/michal/adversarial-ml-comparison/adv_env/lib/python3.8/site-packages/stack_data/utils.py\", line 145, in cached_property_wrapper\n",
      "    value = obj.__dict__[self.func.__name__] = self.func(obj)\n",
      "  File \"/home/michal/adversarial-ml-comparison/adv_env/lib/python3.8/site-packages/stack_data/core.py\", line 649, in included_pieces\n",
      "    pos = scope_pieces.index(self.executing_piece)\n",
      "  File \"/home/michal/adversarial-ml-comparison/adv_env/lib/python3.8/site-packages/stack_data/utils.py\", line 145, in cached_property_wrapper\n",
      "    value = obj.__dict__[self.func.__name__] = self.func(obj)\n",
      "  File \"/home/michal/adversarial-ml-comparison/adv_env/lib/python3.8/site-packages/stack_data/core.py\", line 628, in executing_piece\n",
      "    return only(\n",
      "  File \"/home/michal/adversarial-ml-comparison/adv_env/lib/python3.8/site-packages/executing/executing.py\", line 164, in only\n",
      "    raise NotOneValueFound('Expected one value, found 0')\n",
      "executing.executing.NotOneValueFound: Expected one value, found 0\n"
     ]
    }
   ],
   "source": [
    "sweeper.sweep()"
   ],
   "metadata": {
    "collapsed": false,
    "pycharm": {
     "name": "#%%\n"
    }
   }
  },
  {
   "cell_type": "code",
   "execution_count": 75,
   "outputs": [],
   "source": [],
   "metadata": {
    "collapsed": false,
    "pycharm": {
     "name": "#%%\n"
    }
   }
  }
 ],
 "metadata": {
  "kernelspec": {
   "display_name": "Python 3",
   "language": "python",
   "name": "python3"
  },
  "language_info": {
   "codemirror_mode": {
    "name": "ipython",
    "version": 3
   },
   "file_extension": ".py",
   "mimetype": "text/x-python",
   "name": "python",
   "nbconvert_exporter": "python",
   "pygments_lexer": "ipython3",
   "version": "3.8.10"
  }
 },
 "nbformat": 4,
 "nbformat_minor": 1
}
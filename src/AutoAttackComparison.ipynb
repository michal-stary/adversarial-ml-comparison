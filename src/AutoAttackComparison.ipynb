{
 "cells": [
  {
   "cell_type": "code",
   "execution_count": 14,
   "metadata": {},
   "outputs": [
    {
     "name": "stdout",
     "output_type": "stream",
     "text": [
      "The autoreload extension is already loaded. To reload it, use:\n",
      "  %reload_ext autoreload\n"
     ]
    }
   ],
   "source": [
    "from sweeping import Sweeper\n",
    "import matplotlib.pyplot as plt\n",
    "\n",
    "%load_ext autoreload\n",
    "%autoreload 2"
   ]
  },
  {
   "cell_type": "code",
   "execution_count": 15,
   "metadata": {
    "pycharm": {
     "name": "#%%\n"
    }
   },
   "outputs": [],
   "source": [
    "sweeper = Sweeper.from_jsonfile(\"config_aa.json\", log_dir=\"logs_aa\")"
   ]
  },
  {
   "cell_type": "code",
   "execution_count": 16,
   "metadata": {
    "pycharm": {
     "name": "#%%\n"
    }
   },
   "outputs": [
    {
     "data": {
      "text/html": [
       "<div>\n",
       "<style scoped>\n",
       "    .dataframe tbody tr th:only-of-type {\n",
       "        vertical-align: middle;\n",
       "    }\n",
       "\n",
       "    .dataframe tbody tr th {\n",
       "        vertical-align: top;\n",
       "    }\n",
       "\n",
       "    .dataframe thead th {\n",
       "        text-align: right;\n",
       "    }\n",
       "</style>\n",
       "<table border=\"1\" class=\"dataframe\">\n",
       "  <thead>\n",
       "    <tr style=\"text-align: right;\">\n",
       "      <th></th>\n",
       "      <th>dataset</th>\n",
       "      <th>norm</th>\n",
       "      <th>attack</th>\n",
       "      <th>model</th>\n",
       "      <th>eps</th>\n",
       "      <th>loss_f</th>\n",
       "    </tr>\n",
       "  </thead>\n",
       "  <tbody>\n",
       "    <tr>\n",
       "      <th>0</th>\n",
       "      <td>CIFAR10</td>\n",
       "      <td>L1</td>\n",
       "      <td>aa</td>\n",
       "      <td>Augustin2020Adversarial_34_10_extra</td>\n",
       "      <td>8.0</td>\n",
       "      <td>DL</td>\n",
       "    </tr>\n",
       "    <tr>\n",
       "      <th>1</th>\n",
       "      <td>CIFAR10</td>\n",
       "      <td>L1</td>\n",
       "      <td>aa</td>\n",
       "      <td>Augustin2020Adversarial_34_10_extra</td>\n",
       "      <td>10.0</td>\n",
       "      <td>DL</td>\n",
       "    </tr>\n",
       "    <tr>\n",
       "      <th>2</th>\n",
       "      <td>CIFAR10</td>\n",
       "      <td>L1</td>\n",
       "      <td>aa</td>\n",
       "      <td>Augustin2020Adversarial_34_10_extra</td>\n",
       "      <td>12.0</td>\n",
       "      <td>DL</td>\n",
       "    </tr>\n",
       "    <tr>\n",
       "      <th>3</th>\n",
       "      <td>CIFAR10</td>\n",
       "      <td>L1</td>\n",
       "      <td>aa</td>\n",
       "      <td>Augustin2020Adversarial_34_10_extra</td>\n",
       "      <td>18.0</td>\n",
       "      <td>DL</td>\n",
       "    </tr>\n",
       "    <tr>\n",
       "      <th>4</th>\n",
       "      <td>CIFAR10</td>\n",
       "      <td>L1</td>\n",
       "      <td>aa</td>\n",
       "      <td>Engstrom2019Robustness_l2</td>\n",
       "      <td>8.0</td>\n",
       "      <td>DL</td>\n",
       "    </tr>\n",
       "    <tr>\n",
       "      <th>...</th>\n",
       "      <td>...</td>\n",
       "      <td>...</td>\n",
       "      <td>...</td>\n",
       "      <td>...</td>\n",
       "      <td>...</td>\n",
       "      <td>...</td>\n",
       "    </tr>\n",
       "    <tr>\n",
       "      <th>68</th>\n",
       "      <td>CIFAR10</td>\n",
       "      <td>Linf</td>\n",
       "      <td>aa</td>\n",
       "      <td>Rade2021Helper_R18_extra</td>\n",
       "      <td>0.039216</td>\n",
       "      <td>DL</td>\n",
       "    </tr>\n",
       "    <tr>\n",
       "      <th>69</th>\n",
       "      <td>CIFAR10</td>\n",
       "      <td>Linf</td>\n",
       "      <td>aa</td>\n",
       "      <td>Rade2021Helper_R18_extra</td>\n",
       "      <td>0.047059</td>\n",
       "      <td>DL</td>\n",
       "    </tr>\n",
       "    <tr>\n",
       "      <th>70</th>\n",
       "      <td>CIFAR10</td>\n",
       "      <td>Linf</td>\n",
       "      <td>aa</td>\n",
       "      <td>Rebuffi2021Fixing_70_16_cutmix_extra_linf</td>\n",
       "      <td>0.031373</td>\n",
       "      <td>DL</td>\n",
       "    </tr>\n",
       "    <tr>\n",
       "      <th>71</th>\n",
       "      <td>CIFAR10</td>\n",
       "      <td>Linf</td>\n",
       "      <td>aa</td>\n",
       "      <td>Rebuffi2021Fixing_70_16_cutmix_extra_linf</td>\n",
       "      <td>0.039216</td>\n",
       "      <td>DL</td>\n",
       "    </tr>\n",
       "    <tr>\n",
       "      <th>72</th>\n",
       "      <td>CIFAR10</td>\n",
       "      <td>Linf</td>\n",
       "      <td>aa</td>\n",
       "      <td>Rebuffi2021Fixing_70_16_cutmix_extra_linf</td>\n",
       "      <td>0.047059</td>\n",
       "      <td>DL</td>\n",
       "    </tr>\n",
       "  </tbody>\n",
       "</table>\n",
       "<p>73 rows × 6 columns</p>\n",
       "</div>"
      ],
      "text/plain": [
       "    dataset  norm attack                                      model       eps  \\\n",
       "0   CIFAR10    L1     aa        Augustin2020Adversarial_34_10_extra       8.0   \n",
       "1   CIFAR10    L1     aa        Augustin2020Adversarial_34_10_extra      10.0   \n",
       "2   CIFAR10    L1     aa        Augustin2020Adversarial_34_10_extra      12.0   \n",
       "3   CIFAR10    L1     aa        Augustin2020Adversarial_34_10_extra      18.0   \n",
       "4   CIFAR10    L1     aa                  Engstrom2019Robustness_l2       8.0   \n",
       "..      ...   ...    ...                                        ...       ...   \n",
       "68  CIFAR10  Linf     aa                   Rade2021Helper_R18_extra  0.039216   \n",
       "69  CIFAR10  Linf     aa                   Rade2021Helper_R18_extra  0.047059   \n",
       "70  CIFAR10  Linf     aa  Rebuffi2021Fixing_70_16_cutmix_extra_linf  0.031373   \n",
       "71  CIFAR10  Linf     aa  Rebuffi2021Fixing_70_16_cutmix_extra_linf  0.039216   \n",
       "72  CIFAR10  Linf     aa  Rebuffi2021Fixing_70_16_cutmix_extra_linf  0.047059   \n",
       "\n",
       "   loss_f  \n",
       "0      DL  \n",
       "1      DL  \n",
       "2      DL  \n",
       "3      DL  \n",
       "4      DL  \n",
       "..    ...  \n",
       "68     DL  \n",
       "69     DL  \n",
       "70     DL  \n",
       "71     DL  \n",
       "72     DL  \n",
       "\n",
       "[73 rows x 6 columns]"
      ]
     },
     "execution_count": 16,
     "metadata": {},
     "output_type": "execute_result"
    }
   ],
   "source": [
    "sweeper.config_df"
   ]
  },
  {
   "cell_type": "code",
   "execution_count": 17,
   "metadata": {
    "pycharm": {
     "name": "#%%\n"
    }
   },
   "outputs": [],
   "source": [
    "sweeper.logger.load_all()"
   ]
  },
  {
   "cell_type": "code",
   "execution_count": null,
   "metadata": {
    "pycharm": {
     "name": "#%%\n"
    }
   },
   "outputs": [
    {
     "name": "stdout",
     "output_type": "stream",
     "text": [
      "dataset-CIFAR10-norm-L1-attack-aa-model-Augustin2020Adversarial_34_10_extra-eps-8.0-loss_f-DL\n",
      "dataset-CIFAR10-norm-L1-attack-aa-model-Augustin2020Adversarial_34_10_extra-eps-10.0-loss_f-DL\n",
      "dataset-CIFAR10-norm-L1-attack-aa-model-Augustin2020Adversarial_34_10_extra-eps-12.0-loss_f-DL\n",
      "dataset-CIFAR10-norm-L1-attack-aa-model-Augustin2020Adversarial_34_10_extra-eps-18.0-loss_f-DL\n",
      "dataset-CIFAR10-norm-L1-attack-aa-model-Engstrom2019Robustness_l2-eps-8.0-loss_f-DL\n",
      "dataset-CIFAR10-norm-L1-attack-aa-model-Engstrom2019Robustness_l2-eps-10.0-loss_f-DL\n",
      "dataset-CIFAR10-norm-L1-attack-aa-model-Engstrom2019Robustness_l2-eps-12.0-loss_f-DL\n",
      "dataset-CIFAR10-norm-L1-attack-aa-model-Engstrom2019Robustness_l2-eps-18.0-loss_f-DL\n",
      "dataset-CIFAR10-norm-L1-attack-aa-model-Engstrom2019Robustness_linf-eps-8.0-loss_f-DL\n",
      "dataset-CIFAR10-norm-L1-attack-aa-model-Engstrom2019Robustness_linf-eps-10.0-loss_f-DL\n",
      "dataset-CIFAR10-norm-L1-attack-aa-model-Engstrom2019Robustness_linf-eps-12.0-loss_f-DL\n",
      "dataset-CIFAR10-norm-L1-attack-aa-model-Engstrom2019Robustness_linf-eps-18.0-loss_f-DL\n",
      "dataset-CIFAR10-norm-L1-attack-aa-model-Maini2020MultipleAVG-eps-8.0-loss_f-DL\n",
      "dataset-CIFAR10-norm-L1-attack-aa-model-Maini2020MultipleAVG-eps-10.0-loss_f-DL\n",
      "dataset-CIFAR10-norm-L1-attack-aa-model-Maini2020MultipleAVG-eps-12.0-loss_f-DL\n",
      "dataset-CIFAR10-norm-L1-attack-aa-model-Maini2020MultipleAVG-eps-18.0-loss_f-DL\n",
      "dataset-CIFAR10-norm-L1-attack-aa-model-Maini2020MultipleMSD-eps-8.0-loss_f-DL\n",
      "dataset-CIFAR10-norm-L1-attack-aa-model-Maini2020MultipleMSD-eps-10.0-loss_f-DL\n",
      "dataset-CIFAR10-norm-L1-attack-aa-model-Maini2020MultipleMSD-eps-12.0-loss_f-DL\n",
      "dataset-CIFAR10-norm-L1-attack-aa-model-Maini2020MultipleMSD-eps-18.0-loss_f-DL\n",
      "dataset-CIFAR10-norm-L1-attack-aa-model-Rice2020Overfitting-eps-8.0-loss_f-DL\n",
      "dataset-CIFAR10-norm-L1-attack-aa-model-Rice2020Overfitting-eps-10.0-loss_f-DL\n",
      "dataset-CIFAR10-norm-L1-attack-aa-model-Rice2020Overfitting-eps-12.0-loss_f-DL\n",
      "dataset-CIFAR10-norm-L1-attack-aa-model-Rice2020Overfitting-eps-18.0-loss_f-DL\n",
      "dataset-CIFAR10-norm-L1-attack-aa-model-Xiao2020Enhancing-eps-8.0-loss_f-DL\n",
      "dataset-CIFAR10-norm-L1-attack-aa-model-Xiao2020Enhancing-eps-10.0-loss_f-DL\n",
      "dataset-CIFAR10-norm-L1-attack-aa-model-Xiao2020Enhancing-eps-12.0-loss_f-DL\n",
      "dataset-CIFAR10-norm-L1-attack-aa-model-Xiao2020Enhancing-eps-18.0-loss_f-DL\n",
      "dataset-CIFAR10-norm-L2-attack-aa-model-Engstrom2019Robustness_l2-eps-0.5-loss_f-DL\n",
      "dataset-CIFAR10-norm-L2-attack-aa-model-Engstrom2019Robustness_l2-eps-0.625-loss_f-DL\n",
      "dataset-CIFAR10-norm-L2-attack-aa-model-Engstrom2019Robustness_l2-eps-0.75-loss_f-DL\n",
      "dataset-CIFAR10-norm-L2-attack-aa-model-Engstrom2019Robustness_l2-eps-1.0-loss_f-DL\n",
      "dataset-CIFAR10-norm-L2-attack-aa-model-Gowal2020Uncovering_extra-eps-0.5-loss_f-DL\n",
      "dataset-CIFAR10-norm-L2-attack-aa-model-Gowal2020Uncovering_extra-eps-0.625-loss_f-DL\n",
      "dataset-CIFAR10-norm-L2-attack-aa-model-Gowal2020Uncovering_extra-eps-0.75-loss_f-DL\n",
      "dataset-CIFAR10-norm-L2-attack-aa-model-Gowal2020Uncovering_extra-eps-1.0-loss_f-DL\n",
      "dataset-CIFAR10-norm-L2-attack-aa-model-Rade2021Helper_R18_ddpm-eps-0.5-loss_f-DL\n",
      "dataset-CIFAR10-norm-L2-attack-aa-model-Rade2021Helper_R18_ddpm-eps-0.625-loss_f-DL\n",
      "dataset-CIFAR10-norm-L2-attack-aa-model-Rade2021Helper_R18_ddpm-eps-0.75-loss_f-DL\n",
      "dataset-CIFAR10-norm-L2-attack-aa-model-Rade2021Helper_R18_ddpm-eps-1.0-loss_f-DL\n",
      "dataset-CIFAR10-norm-L2-attack-aa-model-Rebuffi2021Fixing_70_16_cutmix_ddpm-eps-0.5-loss_f-DL\n",
      "dataset-CIFAR10-norm-L2-attack-aa-model-Rebuffi2021Fixing_70_16_cutmix_ddpm-eps-0.625-loss_f-DL\n",
      "dataset-CIFAR10-norm-L2-attack-aa-model-Rebuffi2021Fixing_70_16_cutmix_ddpm-eps-0.75-loss_f-DL\n",
      "dataset-CIFAR10-norm-L2-attack-aa-model-Rebuffi2021Fixing_70_16_cutmix_ddpm-eps-1.0-loss_f-DL\n",
      "dataset-CIFAR10-norm-L2-attack-aa-model-Rebuffi2021Fixing_70_16_cutmix_extra_l2-eps-0.5-loss_f-DL\n",
      "dataset-CIFAR10-norm-L2-attack-aa-model-Rebuffi2021Fixing_70_16_cutmix_extra_l2-eps-0.625-loss_f-DL\n",
      "dataset-CIFAR10-norm-L2-attack-aa-model-Rebuffi2021Fixing_70_16_cutmix_extra_l2-eps-0.75-loss_f-DL\n",
      "dataset-CIFAR10-norm-L2-attack-aa-model-Rebuffi2021Fixing_70_16_cutmix_extra_l2-eps-1.0-loss_f-DL\n",
      "dataset-CIFAR10-norm-L2-attack-aa-model-Rebuffi2021Fixing_R18_cutmix_ddpm-eps-0.5-loss_f-DL\n",
      "dataset-CIFAR10-norm-L2-attack-aa-model-Rebuffi2021Fixing_R18_cutmix_ddpm-eps-0.625-loss_f-DL\n",
      "dataset-CIFAR10-norm-L2-attack-aa-model-Rebuffi2021Fixing_R18_cutmix_ddpm-eps-0.75-loss_f-DL\n",
      "dataset-CIFAR10-norm-L2-attack-aa-model-Rebuffi2021Fixing_R18_cutmix_ddpm-eps-1.0-loss_f-DL\n",
      "dataset-CIFAR10-norm-Linf-attack-aa-model-Engstrom2019Robustness_linf-eps-0.031373-loss_f-DL\n",
      "dataset-CIFAR10-norm-Linf-attack-aa-model-Engstrom2019Robustness_linf-eps-0.039216-loss_f-DL\n",
      "dataset-CIFAR10-norm-Linf-attack-aa-model-Engstrom2019Robustness_linf-eps-0.047059-loss_f-DL\n",
      "dataset-CIFAR10-norm-Linf-attack-aa-model-Gowal2020Uncovering_70_16_extra-eps-0.031373-loss_f-DL\n",
      "dataset-CIFAR10-norm-Linf-attack-aa-model-Gowal2020Uncovering_70_16_extra-eps-0.039216-loss_f-DL\n",
      "dataset-CIFAR10-norm-Linf-attack-aa-model-Gowal2020Uncovering_70_16_extra-eps-0.047059-loss_f-DL\n",
      "dataset-CIFAR10-norm-Linf-attack-aa-model-Gowal2021Improving_70_16_ddpm_100m-eps-0.031373-loss_f-DL\n",
      "dataset-CIFAR10-norm-Linf-attack-aa-model-Gowal2021Improving_70_16_ddpm_100m-eps-0.039216-loss_f-DL\n",
      "dataset-CIFAR10-norm-Linf-attack-aa-model-Gowal2021Improving_70_16_ddpm_100m-eps-0.047059-loss_f-DL\n",
      "dataset-CIFAR10-norm-Linf-attack-aa-model-Gowal2021Improving_R18_ddpm_100m-eps-0.031373-loss_f-DL\n",
      "dataset-CIFAR10-norm-Linf-attack-aa-model-Gowal2021Improving_R18_ddpm_100m-eps-0.039216-loss_f-DL\n",
      "dataset-CIFAR10-norm-Linf-attack-aa-model-Gowal2021Improving_R18_ddpm_100m-eps-0.047059-loss_f-DL\n",
      "dataset-CIFAR10-norm-Linf-attack-aa-model-Kang2021Stable-eps-0.031373-loss_f-DL\n",
      "dataset           CIFAR10\n",
      "norm                 Linf\n",
      "attack                 aa\n",
      "model      Kang2021Stable\n",
      "eps              0.031373\n",
      "loss_f                 DL\n",
      "Name: 64, dtype: object\n",
      "Files already downloaded and verified\n"
     ]
    },
    {
     "name": "stderr",
     "output_type": "stream",
     "text": [
      "  0%|          | 0/1 [00:00<?, ?it/s]"
     ]
    },
    {
     "name": "stdout",
     "output_type": "stream",
     "text": [
      "setting parameters for standard version\n",
      "using standard version including apgd-ce, apgd-t, fab-t, square\n",
      "initial accuracy: 91.50%\n",
      "apgd-ce - 1/1 - 15 out of 183 successfully perturbed\n",
      "robust accuracy after APGD-CE: 84.00% (total time 80.0 s)\n",
      "apgd-t - 1/1 - 12 out of 168 successfully perturbed\n",
      "robust accuracy after APGD-T: 78.00% (total time 737.8 s)\n",
      "fab-t - 1/1 - 0 out of 156 successfully perturbed\n",
      "robust accuracy after FAB-T: 78.00% (total time 1641.4 s)\n",
      "square - 1/1 - 12 out of 156 successfully perturbed\n",
      "robust accuracy after SQUARE: 72.00% (total time 2608.9 s)\n",
      "Warning: Square Attack has decreased the robust accuracy of 6.00%. This might indicate that the robustness evaluation using AutoAttack is unreliable. Consider running Square Attack with more iterations and restarts or an adaptive attack. See flags_doc.md for details.\n",
      "max Linf perturbation: 0.03137, nan in tensor: 0, max: 1.00000, min: 0.00000\n",
      "robust accuracy: 72.00%\n"
     ]
    },
    {
     "name": "stderr",
     "output_type": "stream",
     "text": [
      "100%|██████████| 1/1 [43:31<00:00, 2611.47s/it]\n"
     ]
    },
    {
     "name": "stdout",
     "output_type": "stream",
     "text": [
      "Done: 65/73\n",
      "dataset-CIFAR10-norm-Linf-attack-aa-model-Kang2021Stable-eps-0.039216-loss_f-DL\n",
      "dataset           CIFAR10\n",
      "norm                 Linf\n",
      "attack                 aa\n",
      "model      Kang2021Stable\n",
      "eps              0.039216\n",
      "loss_f                 DL\n",
      "Name: 65, dtype: object\n",
      "Files already downloaded and verified\n"
     ]
    },
    {
     "name": "stderr",
     "output_type": "stream",
     "text": [
      "  0%|          | 0/1 [00:00<?, ?it/s]"
     ]
    },
    {
     "name": "stdout",
     "output_type": "stream",
     "text": [
      "setting parameters for standard version\n",
      "using standard version including apgd-ce, apgd-t, fab-t, square\n",
      "initial accuracy: 91.50%\n",
      "apgd-ce - 1/1 - 22 out of 183 successfully perturbed\n",
      "robust accuracy after APGD-CE: 80.50% (total time 80.3 s)\n",
      "apgd-t - 1/1 - 14 out of 161 successfully perturbed\n",
      "robust accuracy after APGD-T: 73.50% (total time 706.3 s)\n",
      "fab-t - 1/1 - 0 out of 147 successfully perturbed\n",
      "robust accuracy after FAB-T: 73.50% (total time 1572.5 s)\n"
     ]
    }
   ],
   "source": [
    "sweeper.save_df()\n",
    "sweeper.sweep(n_samples=200, device=None, recompute=False, batch_size=200)\n",
    "sweeper.save_df()"
   ]
  },
  {
   "cell_type": "code",
   "execution_count": null,
   "metadata": {
    "pycharm": {
     "name": "#%%\n"
    }
   },
   "outputs": [],
   "source": [
    "# sweeper.logger.where(model=\"Maini2020MultipleAVG\")"
   ]
  },
  {
   "cell_type": "code",
   "execution_count": null,
   "metadata": {
    "pycharm": {
     "name": "#%%\n"
    }
   },
   "outputs": [],
   "source": [
    "settings = {\"attack\":\"\", \"model\":\"Eng\", \"-norm\":\"Linf\", \"norm\":\"Linf\"}"
   ]
  },
  {
   "cell_type": "code",
   "execution_count": null,
   "metadata": {
    "pycharm": {
     "name": "#%%\n"
    }
   },
   "outputs": [],
   "source": [
    "import matplotlib.pyplot as plt\n",
    "\n",
    "# todo - put this into functions in some plot_utils file\n",
    "# tofo - support filtering/splitting into multiple plots (e.g. plot only one model)\n",
    "\n",
    "plt.figure(figsize=(15,10))\n",
    "keys = []\n",
    "for key in sweeper.logger.where(**settings):\n",
    "    sweeper.logger.plot_QD(key)\n",
    "    keys.append(key)\n",
    "plt.legend(keys)#, bbox_to_anchor =(0.65, 1.25))\n",
    "plt.ylabel(settings[\"norm\"])\n",
    "plt.xlabel(\"Query\")\n",
    "plt.xscale('log')\n",
    "None"
   ]
  },
  {
   "cell_type": "code",
   "execution_count": null,
   "metadata": {
    "pycharm": {
     "name": "#%%\n"
    }
   },
   "outputs": [],
   "source": [
    "plt.figure(figsize=(15,10))\n",
    "keys = []\n",
    "for key in sweeper.logger.where(**settings):\n",
    "    sweeper.logger.plot_progress(kind=\"loss\", run_id=key)\n",
    "    keys.append(key)\n",
    "plt.legend(keys)#, bbox_to_anchor =(0.65, 1.25))\n",
    "plt.ylabel(\"DL Loss\")\n",
    "plt.xlabel(\"Query\")\n",
    "None"
   ]
  },
  {
   "cell_type": "code",
   "execution_count": null,
   "metadata": {
    "pycharm": {
     "name": "#%%\n"
    }
   },
   "outputs": [],
   "source": [
    "plt.figure(figsize=(15,10))\n",
    "for key in sweeper.logger.where(**settings):\n",
    "    sweeper.logger.plot_progress(kind=\"acc\", run_id=key)\n",
    "plt.legend([*sweeper.logger.dict.keys()])#, bbox_to_anchor =(0.65, 1.25))\n",
    "plt.ylabel(\"Accuracy\")\n",
    "plt.xlabel(\"Query\")\n",
    "None"
   ]
  },
  {
   "cell_type": "code",
   "execution_count": null,
   "metadata": {
    "pycharm": {
     "name": "#%%\n"
    }
   },
   "outputs": [],
   "source": []
  },
  {
   "cell_type": "code",
   "execution_count": null,
   "metadata": {
    "pycharm": {
     "name": "#%%\n"
    }
   },
   "outputs": [],
   "source": []
  }
 ],
 "metadata": {
  "kernelspec": {
   "display_name": "Python 3 (ipykernel)",
   "language": "python",
   "name": "python3"
  },
  "language_info": {
   "codemirror_mode": {
    "name": "ipython",
    "version": 3
   },
   "file_extension": ".py",
   "mimetype": "text/x-python",
   "name": "python",
   "nbconvert_exporter": "python",
   "pygments_lexer": "ipython3",
   "version": "3.8.12"
  }
 },
 "nbformat": 4,
 "nbformat_minor": 4
}

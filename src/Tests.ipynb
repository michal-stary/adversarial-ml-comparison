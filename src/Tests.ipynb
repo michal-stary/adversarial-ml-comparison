{
 "cells": [
  {
   "cell_type": "code",
   "execution_count": 113,
   "id": "5ca4164e",
   "metadata": {},
   "outputs": [
    {
     "name": "stdout",
     "output_type": "stream",
     "text": [
      "The autoreload extension is already loaded. To reload it, use:\n",
      "  %reload_ext autoreload\n"
     ]
    }
   ],
   "source": [
    "from fast_minimum_norm2 import l1_mid_points_, croce_l1_projection, l1_ball_euclidean_projection\n",
    "from autoattack.autopgd_base import L1_projection\n",
    "import torch\n",
    "%load_ext autoreload\n",
    "%autoreload 2"
   ]
  },
  {
   "cell_type": "code",
   "execution_count": 123,
   "id": "ad9436f3",
   "metadata": {},
   "outputs": [],
   "source": [
    "x0 = torch.tensor([[0.5,1], [.1, .2]])\n",
    "x1 = torch.tensor([[0.2,-0.4], [1.2, -.3]])\n",
    "eps = torch.tensor([0.5, 0.5], dtype=torch.float)"
   ]
  },
  {
   "cell_type": "code",
   "execution_count": 124,
   "id": "1677ecea",
   "metadata": {},
   "outputs": [
    {
     "data": {
      "text/plain": [
       "tensor([[0.5000, 0.1500],\n",
       "        [0.9000, 0.2000]])"
      ]
     },
     "execution_count": 124,
     "metadata": {},
     "output_type": "execute_result"
    }
   ],
   "source": [
    "l1_mid_points_(x0, x1, eps)"
   ]
  },
  {
   "cell_type": "code",
   "execution_count": 132,
   "id": "88e47ddd",
   "metadata": {},
   "outputs": [
    {
     "data": {
      "text/plain": [
       "tensor([[ 0.0000, -0.5000],\n",
       "        [ 0.5000,  0.0000]])"
      ]
     },
     "execution_count": 132,
     "metadata": {},
     "output_type": "execute_result"
    }
   ],
   "source": [
    "x1 - x0 + croce_l1_projection(x0, x1-x0, eps)"
   ]
  },
  {
   "cell_type": "code",
   "execution_count": 138,
   "id": "1114405b",
   "metadata": {},
   "outputs": [
    {
     "data": {
      "text/plain": [
       "tensor([[ 0.0000, -0.5000],\n",
       "        [ 0.5000,  0.0000]])"
      ]
     },
     "execution_count": 138,
     "metadata": {},
     "output_type": "execute_result"
    }
   ],
   "source": [
    "x1 -x0 + croce_l1_projection(x0, x1-x0, eps)"
   ]
  },
  {
   "cell_type": "code",
   "execution_count": 134,
   "id": "11275cec",
   "metadata": {},
   "outputs": [
    {
     "data": {
      "text/plain": [
       "tensor([[-0.0000, -0.5000],\n",
       "        [ 0.5000, -0.0000]])"
      ]
     },
     "execution_count": 134,
     "metadata": {},
     "output_type": "execute_result"
    }
   ],
   "source": [
    "l1_ball_euclidean_projection(x1-x0, eps)"
   ]
  },
  {
   "cell_type": "code",
   "execution_count": 135,
   "id": "00d59702",
   "metadata": {},
   "outputs": [
    {
     "data": {
      "text/plain": [
       "tensor([[0.5000, 0.5000],\n",
       "        [0.6000, 0.2000]])"
      ]
     },
     "execution_count": 135,
     "metadata": {},
     "output_type": "execute_result"
    }
   ],
   "source": [
    "x0 + l1_ball_euclidean_projection(x1-x0, eps)"
   ]
  },
  {
   "cell_type": "code",
   "execution_count": 136,
   "id": "6a54263c",
   "metadata": {},
   "outputs": [],
   "source": [
    "# L1_projection(x0, x1-x0, eps)"
   ]
  },
  {
   "cell_type": "code",
   "execution_count": null,
   "id": "b727f100",
   "metadata": {},
   "outputs": [],
   "source": []
  }
 ],
 "metadata": {
  "kernelspec": {
   "display_name": "Python 3 (ipykernel)",
   "language": "python",
   "name": "python3"
  },
  "language_info": {
   "codemirror_mode": {
    "name": "ipython",
    "version": 3
   },
   "file_extension": ".py",
   "mimetype": "text/x-python",
   "name": "python",
   "nbconvert_exporter": "python",
   "pygments_lexer": "ipython3",
   "version": "3.8.12"
  }
 },
 "nbformat": 4,
 "nbformat_minor": 5
}

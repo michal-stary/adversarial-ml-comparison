{
 "cells": [
  {
   "cell_type": "code",
   "execution_count": 1,
   "id": "5ca4164e",
   "metadata": {},
   "outputs": [],
   "source": [
    "from fast_minimum_norm2 import l1_mid_points_, croce_l1_projection, l1_ball_euclidean_projection\n",
    "from autoattack.autopgd_base import L1_projection\n",
    "import torch\n",
    "%load_ext autoreload\n",
    "%autoreload 2"
   ]
  },
  {
   "cell_type": "code",
   "execution_count": 2,
   "id": "ad9436f3",
   "metadata": {},
   "outputs": [],
   "source": [
    "x0 = torch.tensor([[0.5,1], [.1, .2]])\n",
    "x1 = torch.tensor([[0.2,-0.4], [1.2, -.3]])\n",
    "eps = torch.tensor([0.5, 0.5], dtype=torch.float)"
   ]
  },
  {
   "cell_type": "code",
   "execution_count": 3,
   "id": "1677ecea",
   "metadata": {},
   "outputs": [
    {
     "data": {
      "text/plain": [
       "tensor([[0.5000, 0.1500],\n",
       "        [0.9000, 0.2000]])"
      ]
     },
     "execution_count": 3,
     "metadata": {},
     "output_type": "execute_result"
    }
   ],
   "source": [
    "l1_mid_points_(x0, x1, eps)"
   ]
  },
  {
   "cell_type": "code",
   "execution_count": 4,
   "id": "88e47ddd",
   "metadata": {},
   "outputs": [
    {
     "data": {
      "text/plain": [
       "tensor([[ 0.0000, -0.5000],\n",
       "        [ 0.5000,  0.0000]])"
      ]
     },
     "execution_count": 4,
     "metadata": {},
     "output_type": "execute_result"
    }
   ],
   "source": [
    "x1 - x0 + croce_l1_projection(x0, x1-x0, eps)"
   ]
  },
  {
   "cell_type": "code",
   "execution_count": 5,
   "id": "1114405b",
   "metadata": {},
   "outputs": [
    {
     "data": {
      "text/plain": [
       "tensor([[ 0.0000, -0.5000],\n",
       "        [ 0.5000,  0.0000]])"
      ]
     },
     "execution_count": 5,
     "metadata": {},
     "output_type": "execute_result"
    }
   ],
   "source": [
    "x1 -x0 + croce_l1_projection(x0, x1-x0, eps)"
   ]
  },
  {
   "cell_type": "code",
   "execution_count": 6,
   "id": "11275cec",
   "metadata": {},
   "outputs": [
    {
     "data": {
      "text/plain": [
       "tensor([[-0.0000, -0.5000],\n",
       "        [ 0.5000, -0.0000]])"
      ]
     },
     "execution_count": 6,
     "metadata": {},
     "output_type": "execute_result"
    }
   ],
   "source": [
    "l1_ball_euclidean_projection(x1-x0, eps)"
   ]
  },
  {
   "cell_type": "code",
   "execution_count": 7,
   "id": "00d59702",
   "metadata": {},
   "outputs": [
    {
     "data": {
      "text/plain": [
       "tensor([[0.5000, 0.5000],\n",
       "        [0.6000, 0.2000]])"
      ]
     },
     "execution_count": 7,
     "metadata": {},
     "output_type": "execute_result"
    }
   ],
   "source": [
    "x0 + l1_ball_euclidean_projection(x1-x0, eps)"
   ]
  },
  {
   "cell_type": "code",
   "execution_count": 8,
   "id": "6a54263c",
   "metadata": {},
   "outputs": [],
   "source": [
    "# L1_projection(x0, x1-x0, eps)"
   ]
  },
  {
   "cell_type": "code",
   "execution_count": null,
   "id": "b727f100",
   "metadata": {},
   "outputs": [],
   "source": []
  },
  {
   "cell_type": "code",
   "execution_count": 9,
   "id": "47cc3b88-20e1-4cee-9436-d31a89355000",
   "metadata": {},
   "outputs": [],
   "source": [
    "#test if al initial are same"
   ]
  },
  {
   "cell_type": "code",
   "execution_count": null,
   "id": "6097c2f6-5af1-45f4-9656-5bc5ff3987e1",
   "metadata": {},
   "outputs": [],
   "source": []
  },
  {
   "cell_type": "code",
   "execution_count": 27,
   "id": "e5e69456-d9e6-451a-be08-bb68b65c6484",
   "metadata": {},
   "outputs": [
    {
     "name": "stdout",
     "output_type": "stream",
     "text": [
      "The autoreload extension is already loaded. To reload it, use:\n",
      "  %reload_ext autoreload\n"
     ]
    }
   ],
   "source": [
    "from logging_ import Logger\n",
    "import matplotlib.pyplot as plt\n",
    "import pandas as pd\n",
    "import numpy as np\n",
    "%load_ext autoreload\n",
    "%autoreload 2"
   ]
  },
  {
   "cell_type": "code",
   "execution_count": 11,
   "id": "ba1d5444-0811-411d-a0fb-a4d1fd8f0849",
   "metadata": {},
   "outputs": [],
   "source": [
    "logger = Logger(logs_dir=\"logs_finaltest\")"
   ]
  },
  {
   "cell_type": "code",
   "execution_count": 12,
   "id": "97f431c3-9253-417d-b31b-70a0a15626c5",
   "metadata": {},
   "outputs": [],
   "source": [
    "logger.load_all()"
   ]
  },
  {
   "cell_type": "code",
   "execution_count": 74,
   "id": "d386282f-916f-41ae-92b2-e760ed310e90",
   "metadata": {},
   "outputs": [],
   "source": [
    "dct =logger.where(norm=\"L1\", attack=\"fmn2\", model=\"Augustin2020Adversarial_34_10_extra\")"
   ]
  },
  {
   "cell_type": "code",
   "execution_count": 75,
   "id": "2c9e861e-e1b9-4910-aced-bed680669156",
   "metadata": {},
   "outputs": [
    {
     "name": "stdout",
     "output_type": "stream",
     "text": [
      "\n",
      "\n",
      "\n",
      "\n",
      "\n",
      "\n",
      "\n"
     ]
    },
    {
     "data": {
      "text/plain": [
       "['dataset-CIFAR10-norm-L1-attack-fmn2-model-Augustin2020Adversarial_34_10_extra-croce_l1-True-fmn_init-True-ifmn_α_init-5-loss_f-DL-steepest_line-False-steps-117-top_explore-10-track_grad_size-False-α_final-0.0001-α_init-5',\n",
       " 'dataset-CIFAR10-norm-L1-attack-fmn2-model-Augustin2020Adversarial_34_10_extra-croce_l1-True-fmn_init-True-ifmn_α_init-5-loss_f-DL-steepest_line-False-steps-117-top_explore-10-track_grad_size-False-α_final-0.0001-α_init-20',\n",
       " 'dataset-CIFAR10-norm-L1-attack-fmn2-model-Augustin2020Adversarial_34_10_extra-croce_l1-True-fmn_init-True-ifmn_α_init-5-loss_f-DL-steepest_line-False-steps-117-top_explore-10-track_grad_size-False-α_final-0.0001-α_init-8',\n",
       " 'dataset-CIFAR10-norm-L1-attack-fmn2-model-Augustin2020Adversarial_34_10_extra-croce_l1-True-fmn_init-True-ifmn_α_init-5-loss_f-DL-steepest_line-False-steps-117-top_explore-10-track_grad_size-False-α_final-0.0001-α_init-12',\n",
       " 'dataset-CIFAR10-norm-L1-attack-fmn2-model-Augustin2020Adversarial_34_10_extra-croce_l1-True-fmn_init-True-ifmn_α_init-5-loss_f-DL-steepest_line-False-steps-117-top_explore-10-track_grad_size-False-α_final-0.0001-α_init-15',\n",
       " 'dataset-CIFAR10-norm-L1-attack-fmn2-model-Augustin2020Adversarial_34_10_extra-croce_l1-True-fmn_init-True-ifmn_α_init-5-loss_f-DL-steepest_line-False-steps-117-top_explore-10-track_grad_size-False-α_final-0.0001-α_init-3',\n",
       " 'dataset-CIFAR10-norm-L1-attack-fmn2-model-Augustin2020Adversarial_34_10_extra-croce_l1-True-fmn_init-True-ifmn_α_init-5-loss_f-DL-steepest_line-False-steps-117-top_explore-10-track_grad_size-False-α_final-0.0001-α_init-1']"
      ]
     },
     "execution_count": 75,
     "metadata": {},
     "output_type": "execute_result"
    },
    {
     "data": {
      "image/png": "[encoded data removed]",
      "text/plain": [
       "<Figure size 432x288 with 1 Axes>"
      ]
     },
     "metadata": {
      "needs_background": "light"
     },
     "output_type": "display_data"
    }
   ],
   "source": [
    "keys = list(dct.keys())\n",
    "\n",
    "for key in keys:\n",
    "    # plt.plot(abs(dct[key][\"norm_progress\"][:, :]).sum(axis=1))\n",
    "    plt.plot(abs(dct[key][\"norm_progress\"][:, :] - dct[keys[3]][\"norm_progress\"][:, :]).sum(axis=1))\n",
    "\n",
    "    # print(dct[key][\"norm_progress\"][250, :10] - dct[keys[0]][\"norm_progress\"][250, :10])\n",
    "    print()\n",
    "keys"
   ]
  },
  {
   "cell_type": "code",
   "execution_count": 43,
   "id": "02467c41-c4ca-41fc-a1d9-941499b849d7",
   "metadata": {},
   "outputs": [
    {
     "data": {
      "text/plain": [
       "(299, 1000, 10)"
      ]
     },
     "execution_count": 43,
     "metadata": {},
     "output_type": "execute_result"
    }
   ],
   "source": [
    "dct[key][\"pred_progress\"].shape"
   ]
  },
  {
   "cell_type": "code",
   "execution_count": null,
   "id": "6cd55282-7bc1-40e5-9ff2-8934f087e764",
   "metadata": {},
   "outputs": [],
   "source": []
  }
 ],
 "metadata": {
  "kernelspec": {
   "display_name": "Python 3",
   "language": "python",
   "name": "python3"
  },
  "language_info": {
   "codemirror_mode": {
    "name": "ipython",
    "version": 3
   },
   "file_extension": ".py",
   "mimetype": "text/x-python",
   "name": "python",
   "nbconvert_exporter": "python",
   "pygments_lexer": "ipython3",
   "version": "3.8.5"
  }
 },
 "nbformat": 4,
 "nbformat_minor": 5
}
